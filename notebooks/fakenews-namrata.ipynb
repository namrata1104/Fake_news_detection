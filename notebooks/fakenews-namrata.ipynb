{
 "cells": [
  {
   "cell_type": "code",
   "execution_count": 3,
   "id": "610bdfff",
   "metadata": {},
   "outputs": [],
   "source": [
    "import pandas as pd\n",
    "import re\n",
    "import string\n",
    "\n",
    "# %pip install nltk\n",
    "\n",
    "import nltk\n",
    "from nltk.corpus import stopwords\n",
    "from nltk.tokenize import word_tokenize\n",
    "from nltk.stem import WordNetLemmatizer\n",
    "\n",
    "import time\n",
    "\n",
    "from sklearn.model_selection import train_test_split\n",
    "from sklearn.metrics import confusion_matrix, accuracy_score, precision_score, recall_score, f1_score, classification_report\n",
    "\n",
    "import tensorflow as tf\n",
    "from tensorflow.keras.preprocessing.text import Tokenizer\n",
    "from tensorflow.keras.preprocessing.sequence import pad_sequences\n",
    "from tensorflow.keras.models import Sequential\n",
    "from tensorflow.keras.layers import Embedding, SimpleRNN, Dense, Dropout, LSTM\n",
    "from tensorflow.keras.optimizers import Adam\n",
    "\n",
    "import seaborn as sns\n",
    "import matplotlib.pyplot as plt\n",
    "\n",
    "import pickle\n"
   ]
  },
  {
   "cell_type": "code",
   "execution_count": 4,
   "id": "3f6e4f12",
   "metadata": {},
   "outputs": [],
   "source": [
    "def basic_cleaning(texte):\n",
    "    # stripping:\n",
    "    data['text'] = data['text'].str.strip()\n",
    "\n",
    "    # tolower:\n",
    "    data['text'] = data['text'].str.lower()\n",
    "\n",
    "    # digit: Remove digits from each row of the ‘text’ column\n",
    "    data['text'] = data['text'].apply(lambda x: ''.join(char for char in x if not char.isdigit()))\n",
    "\n",
    "    # punctuation: Remove all punctuation marks from the ‘text’ column\n",
    "    data['text'] = data['text'].str.replace(r'[{}]'.format(re.escape(string.punctuation)), '', regex=True)\n",
    "\n",
    "    # delete html-tags\n",
    "    data['text'] = data['text'].apply(lambda x: re.sub('<[^<]+?>', '', x))\n",
    "\n",
    "    return data['text']"
   ]
  },
  {
   "cell_type": "code",
   "execution_count": 6,
   "id": "cd0840a9",
   "metadata": {},
   "outputs": [],
   "source": [
    "stop_words = set(stopwords.words('english'))\n",
    "\n",
    "# Tokenise and remove stop words\n",
    "def delete_stop_words(text):\n",
    "    return [word for word in text if word.lower() not in stop_words and word not in string.punctuation]\n",
    "\n",
    "# apply Lemmatization-Funktion\n",
    "def lemmatize_text(text):\n",
    "    lemmatizer = WordNetLemmatizer()\n",
    "    # Verben lemmatisieren\n",
    "    verb_lemmatized = [lemmatizer.lemmatize(word, pos=\"v\") for word in text]\n",
    "    # Nomen lemmatisieren\n",
    "    return [lemmatizer.lemmatize(word, pos=\"n\") for word in verb_lemmatized]\n",
    "\n",
    "# NLP-Cleaningfunktion\n",
    "def nlp_cleaning(texte):\n",
    "    # Tokenisation\n",
    "    texte = texte.apply(word_tokenize)\n",
    "    # Remove stop words\n",
    "    texte = texte.apply(delete_stop_words)\n",
    "    # Lemmatisation\n",
    "    texte = texte.apply(lemmatize_text)\n",
    "    # Combine words into a string\n",
    "    return texte.apply(lambda x: ' '.join(x))"
   ]
  },
  {
   "cell_type": "code",
   "execution_count": 7,
   "id": "9962f26d",
   "metadata": {},
   "outputs": [],
   "source": [
    "# Load the data\n",
    "data = pd.read_csv('../data/WELFake_Dataset 2.csv')"
   ]
  },
  {
   "cell_type": "code",
   "execution_count": 8,
   "id": "e09aa810",
   "metadata": {},
   "outputs": [],
   "source": [
    "# Fill missing values with spaces\n",
    "data = data.fillna(' ')"
   ]
  },
  {
   "cell_type": "code",
   "execution_count": 9,
   "id": "d1ec479e",
   "metadata": {},
   "outputs": [],
   "source": [
    "# Combine 'title' and 'text' columns, then drop 'title' column\n",
    "data['text'] = data['title'] + ' ' + data['text']\n",
    "data.drop('title', axis=1, inplace=True)"
   ]
  },
  {
   "cell_type": "code",
   "execution_count": 10,
   "id": "36c159ee",
   "metadata": {},
   "outputs": [],
   "source": [
    "# Apply basic cleaning and NLP cleaning to the 'text' column\n",
    "data['text'] = basic_cleaning(data['text'])\n",
    "data['text'] = nlp_cleaning(data['text'])\n"
   ]
  },
  {
   "cell_type": "code",
   "execution_count": 11,
   "id": "542e59ec",
   "metadata": {},
   "outputs": [],
   "source": [
    "# Remove duplicate rows\n",
    "data.drop_duplicates(inplace=True)"
   ]
  },
  {
   "cell_type": "code",
   "execution_count": 12,
   "id": "3ad8330d",
   "metadata": {},
   "outputs": [],
   "source": [
    "# Shuffle the dataframe to ensure randomness\n",
    "data = data.sample(frac=1, random_state=42)"
   ]
  },
  {
   "cell_type": "code",
   "execution_count": 13,
   "id": "83e1756f",
   "metadata": {},
   "outputs": [],
   "source": [
    "# Separate features and labels\n",
    "X = data['text']\n",
    "y = data['label']"
   ]
  },
  {
   "cell_type": "code",
   "execution_count": 14,
   "id": "7f8f4a09",
   "metadata": {},
   "outputs": [],
   "source": [
    "# Word count for each entry in the 'text' column\n",
    "data['word_count'] = data['text'].apply(lambda x: len(x.split()))"
   ]
  },
  {
   "cell_type": "code",
   "execution_count": 15,
   "id": "c5d6a264",
   "metadata": {},
   "outputs": [
    {
     "data": {
      "text/plain": [
       "count    72134.000000\n",
       "mean       324.460712\n",
       "std        363.685469\n",
       "min          1.000000\n",
       "25%        142.000000\n",
       "50%        240.000000\n",
       "75%        399.000000\n",
       "max      20915.000000\n",
       "Name: word_count, dtype: float64"
      ]
     },
     "execution_count": 15,
     "metadata": {},
     "output_type": "execute_result"
    }
   ],
   "source": [
    "data['word_count'].describe()"
   ]
  },
  {
   "cell_type": "code",
   "execution_count": 16,
   "id": "f02c5dc3",
   "metadata": {},
   "outputs": [],
   "source": [
    "# Tokenize and pad sequences\n",
    "tokenizer = Tokenizer(num_words=5000)\n",
    "tokenizer.fit_on_texts(X)\n",
    "X_seq = tokenizer.texts_to_sequences(X)\n",
    "\n",
    "# Pad sequences to ensure uniform input length\n",
    "X_padded = pad_sequences(X_seq, maxlen=500)"
   ]
  },
  {
   "cell_type": "code",
   "execution_count": 18,
   "id": "39a0ad94",
   "metadata": {},
   "outputs": [],
   "source": [
    "# Split the data into training and testing sets\n",
    "X_train, X_test, y_train, y_test = train_test_split(X_padded, y, test_size=0.3, random_state=42)"
   ]
  },
  {
   "cell_type": "code",
   "execution_count": 19,
   "id": "11fb861e",
   "metadata": {},
   "outputs": [],
   "source": [
    "# Instantiate model\n",
    "rnn_model_1 = Sequential()\n",
    "# Add an embedding layer to convert words to dense vectors\n",
    "rnn_model_1.add(Embedding(input_dim=5000, output_dim=128))\n",
    "# Add a simple RNN layer\n",
    "rnn_model_1.add(SimpleRNN(units=128, return_sequences=False))\n",
    "# Add a dropout layer to prevent overfitting\n",
    "rnn_model_1.add(Dropout(rate=0.2))\n",
    "# Add a dense output layer with sigmoid activation for binary classification\n",
    "rnn_model_1.add(Dense(units=1, activation='sigmoid'))\n",
    "\n",
    "# Compile the model with Adam optimizer and binary cross-entropy loss\n",
    "rnn_model_1.compile(optimizer=Adam(), loss='binary_crossentropy', metrics=['accuracy'])"
   ]
  },
  {
   "cell_type": "code",
   "execution_count": 20,
   "id": "652a50c0",
   "metadata": {},
   "outputs": [
    {
     "name": "stdout",
     "output_type": "stream",
     "text": [
      "Epoch 1/5\n"
     ]
    },
    {
     "name": "stderr",
     "output_type": "stream",
     "text": [
      "2024-12-13 14:37:51.331953: W tensorflow/core/platform/profile_utils/cpu_utils.cc:128] Failed to get CPU frequency: 0 Hz\n"
     ]
    },
    {
     "name": "stdout",
     "output_type": "stream",
     "text": [
      "789/789 [==============================] - 173s 218ms/step - loss: 0.4040 - accuracy: 0.8030 - val_loss: 0.2341 - val_accuracy: 0.9127\n",
      "Epoch 2/5\n",
      "789/789 [==============================] - 172s 218ms/step - loss: 0.3244 - accuracy: 0.8566 - val_loss: 0.3223 - val_accuracy: 0.8558\n",
      "Epoch 3/5\n",
      "789/789 [==============================] - 172s 218ms/step - loss: 0.3038 - accuracy: 0.8691 - val_loss: 0.3711 - val_accuracy: 0.8234\n",
      "Epoch 4/5\n",
      "789/789 [==============================] - 170s 216ms/step - loss: 0.2757 - accuracy: 0.8885 - val_loss: 0.2526 - val_accuracy: 0.9049\n",
      "Epoch 5/5\n",
      "789/789 [==============================] - 174s 221ms/step - loss: 0.2233 - accuracy: 0.9134 - val_loss: 0.2170 - val_accuracy: 0.9201\n"
     ]
    },
    {
     "data": {
      "text/plain": [
       "<keras.callbacks.History at 0x3712ef760>"
      ]
     },
     "execution_count": 20,
     "metadata": {},
     "output_type": "execute_result"
    }
   ],
   "source": [
    "# Train the model\n",
    "rnn_model_1.fit(X_train, y_train, epochs=5, batch_size=64, validation_data=(X_test, y_test))"
   ]
  },
  {
   "cell_type": "code",
   "execution_count": 21,
   "id": "11f29293",
   "metadata": {},
   "outputs": [
    {
     "name": "stdout",
     "output_type": "stream",
     "text": [
      "677/677 [==============================] - 17s 26ms/step - loss: 0.2170 - accuracy: 0.9201\n",
      "Test Accuracy: 0.92\n"
     ]
    }
   ],
   "source": [
    "# Evaluate the model on the test data\n",
    "loss, accuracy = rnn_model_1.evaluate(X_test, y_test)\n",
    "print(f\"Test Accuracy: {accuracy:.2f}\")"
   ]
  },
  {
   "cell_type": "code",
   "execution_count": 22,
   "id": "d839d657",
   "metadata": {},
   "outputs": [
    {
     "name": "stdout",
     "output_type": "stream",
     "text": [
      "677/677 [==============================] - 18s 26ms/step\n"
     ]
    }
   ],
   "source": [
    "# Generate predictions\n",
    "y_pred_prob = rnn_model_1.predict(X_test)\n",
    "# Convert probabs to 0 or 1\n",
    "y_pred = (y_pred_prob > 0.5).astype(int)"
   ]
  },
  {
   "cell_type": "code",
   "execution_count": 23,
   "id": "e1b73222",
   "metadata": {},
   "outputs": [
    {
     "name": "stdout",
     "output_type": "stream",
     "text": [
      "Accuracy: 0.92\n",
      "Precision: 0.94\n",
      "Recall: 0.91\n",
      "F1 Score: 0.92\n",
      "Classification Report:\n",
      "               precision    recall  f1-score   support\n",
      "\n",
      "           0       0.90      0.94      0.92     10442\n",
      "           1       0.94      0.91      0.92     11199\n",
      "\n",
      "    accuracy                           0.92     21641\n",
      "   macro avg       0.92      0.92      0.92     21641\n",
      "weighted avg       0.92      0.92      0.92     21641\n",
      "\n"
     ]
    }
   ],
   "source": [
    "# Performance metrics\n",
    "accuracy = accuracy_score(y_test, y_pred)\n",
    "precision = precision_score(y_test, y_pred)\n",
    "recall = recall_score(y_test, y_pred)\n",
    "f1 = f1_score(y_test, y_pred)\n",
    "\n",
    "# Print performance metrics\n",
    "print(f\"Accuracy: {accuracy:.2f}\")\n",
    "print(f\"Precision: {precision:.2f}\")\n",
    "print(f\"Recall: {recall:.2f}\")\n",
    "print(f\"F1 Score: {f1:.2f}\")\n",
    "\n",
    "# Classification report\n",
    "print(\"Classification Report:\\n\", classification_report(y_test, y_pred))"
   ]
  },
  {
   "cell_type": "code",
   "execution_count": 25,
   "id": "917e9cbc",
   "metadata": {},
   "outputs": [],
   "source": [
    "# Calculate the confusion matrix\n",
    "cm = confusion_matrix(y_test, y_pred)"
   ]
  },
  {
   "cell_type": "code",
   "execution_count": 27,
   "id": "8ced3468",
   "metadata": {},
   "outputs": [
    {
     "data": {
      "image/png": "[encoded data removed]",
      "text/plain": [
       "<Figure size 1000x700 with 2 Axes>"
      ]
     },
     "metadata": {},
     "output_type": "display_data"
    }
   ],
   "source": [
    "# Plot the confusion matrix\n",
    "plt.figure(figsize=(10, 7))\n",
    "ax = sns.heatmap(cm, annot=True, fmt=\"d\", cmap=\"coolwarm\", cbar=True)\n",
    "\n",
    "# Set axis labels and title\n",
    "ax.set_xlabel('Predicted labels')\n",
    "ax.set_ylabel('True labels')\n",
    "ax.set_title('Confusion Matrix - Simple RNN')\n",
    "\n",
    "# Set custom tick labels\n",
    "ax.xaxis.set_ticklabels(['Fake News', 'Real News'])\n",
    "ax.yaxis.set_ticklabels(['Fake News', 'Real News'])\n",
    "\n",
    "# Show the plot\n",
    "plt.show()"
   ]
  },
  {
   "cell_type": "code",
   "execution_count": 28,
   "id": "59e66729",
   "metadata": {},
   "outputs": [
    {
     "name": "stdout",
     "output_type": "stream",
     "text": [
      "INFO:tensorflow:Assets written to: ram://00802826-f2d1-4ae2-a90a-43dc902de263/assets\n"
     ]
    }
   ],
   "source": [
    "# Save the model to a file\n",
    "with open('trained_rnn_model_1.pkl', 'wb') as file:\n",
    "    pickle.dump(rnn_model_1, file)"
   ]
  },
  {
   "cell_type": "code",
   "execution_count": 29,
   "id": "0aa10d99",
   "metadata": {},
   "outputs": [],
   "source": [
    "\n",
    "# Instantiate the LSTM model\n",
    "lstm_model = Sequential()\n",
    "\n",
    "# Add an embedding layer\n",
    "lstm_model.add(Embedding(input_dim=5000, output_dim=128, input_length=500))\n",
    "\n",
    "# Add the LSTM layer\n",
    "lstm_model.add(LSTM(units=128, return_sequences=False))\n",
    "\n",
    "# Add a dropout layer to prevent overfitting\n",
    "lstm_model.add(Dropout(rate=0.2))\n",
    "\n",
    "# Add the dense output layer\n",
    "lstm_model.add(Dense(units=1, activation='sigmoid'))\n",
    "\n",
    "# Compile the model with Adam optimizer and binary cross-entropy loss\n",
    "lstm_model.compile(optimizer=Adam(), loss='binary_crossentropy', metrics=['accuracy'])\n"
   ]
  },
  {
   "cell_type": "code",
   "execution_count": 30,
   "id": "5be01a27",
   "metadata": {},
   "outputs": [
    {
     "name": "stdout",
     "output_type": "stream",
     "text": [
      "Epoch 1/5\n",
      "789/789 [==============================] - 375s 473ms/step - loss: 0.2399 - accuracy: 0.9088 - val_loss: 0.2021 - val_accuracy: 0.9333\n",
      "Epoch 2/5\n",
      "789/789 [==============================] - 364s 462ms/step - loss: 0.1856 - accuracy: 0.9334 - val_loss: 0.1775 - val_accuracy: 0.9388\n",
      "Epoch 3/5\n",
      "789/789 [==============================] - 376s 477ms/step - loss: 0.1559 - accuracy: 0.9417 - val_loss: 0.1689 - val_accuracy: 0.9411\n",
      "Epoch 4/5\n",
      "789/789 [==============================] - 442s 560ms/step - loss: 0.1626 - accuracy: 0.9414 - val_loss: 0.2024 - val_accuracy: 0.9204\n",
      "Epoch 5/5\n",
      "789/789 [==============================] - 475s 603ms/step - loss: 0.0994 - accuracy: 0.9649 - val_loss: 0.1119 - val_accuracy: 0.9624\n"
     ]
    },
    {
     "data": {
      "text/plain": [
       "<keras.callbacks.History at 0x3640f8730>"
      ]
     },
     "execution_count": 30,
     "metadata": {},
     "output_type": "execute_result"
    }
   ],
   "source": [
    "# Train the LSTM model\n",
    "lstm_model.fit(X_train, y_train, epochs=5, batch_size=64, validation_data=(X_test, y_test))\n"
   ]
  },
  {
   "cell_type": "code",
   "execution_count": 31,
   "id": "811c6968",
   "metadata": {},
   "outputs": [
    {
     "name": "stdout",
     "output_type": "stream",
     "text": [
      "677/677 [==============================] - 76s 113ms/step - loss: 0.1119 - accuracy: 0.9624\n",
      "Test Accuracy: 0.96\n"
     ]
    }
   ],
   "source": [
    "# Evaluate the LSTM model\n",
    "loss, accuracy = lstm_model.evaluate(X_test, y_test)\n",
    "print(f\"Test Accuracy: {accuracy:.2f}\")\n"
   ]
  },
  {
   "cell_type": "code",
   "execution_count": 32,
   "id": "1bd56071",
   "metadata": {},
   "outputs": [
    {
     "name": "stdout",
     "output_type": "stream",
     "text": [
      "677/677 [==============================] - 82s 121ms/step\n"
     ]
    }
   ],
   "source": [
    "# Generate predictions\n",
    "y_pred_prob = lstm_model.predict(X_test)\n",
    "\n",
    "# Convert probabilities to 0 or 1\n",
    "y_pred = (y_pred_prob > 0.5).astype(int)"
   ]
  },
  {
   "cell_type": "code",
   "execution_count": 33,
   "id": "a257dc44",
   "metadata": {},
   "outputs": [
    {
     "name": "stdout",
     "output_type": "stream",
     "text": [
      "Accuracy: 0.96\n",
      "Precision: 0.96\n",
      "Recall: 0.97\n",
      "F1 Score: 0.96\n",
      "Classification Report:\n",
      "               precision    recall  f1-score   support\n",
      "\n",
      "           0       0.97      0.96      0.96     10442\n",
      "           1       0.96      0.97      0.96     11199\n",
      "\n",
      "    accuracy                           0.96     21641\n",
      "   macro avg       0.96      0.96      0.96     21641\n",
      "weighted avg       0.96      0.96      0.96     21641\n",
      "\n"
     ]
    }
   ],
   "source": [
    "# Performance metrics\n",
    "accuracy = accuracy_score(y_test, y_pred)\n",
    "precision = precision_score(y_test, y_pred)\n",
    "recall = recall_score(y_test, y_pred)\n",
    "f1 = f1_score(y_test, y_pred)\n",
    "\n",
    "# Print performance metrics\n",
    "print(f\"Accuracy: {accuracy:.2f}\")\n",
    "print(f\"Precision: {precision:.2f}\")\n",
    "print(f\"Recall: {recall:.2f}\")\n",
    "print(f\"F1 Score: {f1:.2f}\")\n",
    "\n",
    "# Classification report\n",
    "print(\"Classification Report:\\n\", classification_report(y_test, y_pred))\n"
   ]
  },
  {
   "cell_type": "code",
   "execution_count": 34,
   "id": "740f939a",
   "metadata": {},
   "outputs": [
    {
     "data": {
      "image/png": "[encoded data removed]",
      "text/plain": [
       "<Figure size 1000x700 with 2 Axes>"
      ]
     },
     "metadata": {},
     "output_type": "display_data"
    }
   ],
   "source": [
    "# Confusion matrix\n",
    "cm = confusion_matrix(y_test, y_pred)\n",
    "\n",
    "# Plot the confusion matrix\n",
    "plt.figure(figsize=(10, 7))\n",
    "ax = sns.heatmap(cm, annot=True, fmt=\"d\", cmap=\"coolwarm\", cbar=True)\n",
    "\n",
    "# Set axis labels and title\n",
    "ax.set_xlabel('Predicted labels')\n",
    "ax.set_ylabel('True labels')\n",
    "ax.set_title('Confusion Matrix - LSTM')\n",
    "\n",
    "# Set custom tick labels\n",
    "ax.xaxis.set_ticklabels(['Fake News', 'Real News'])\n",
    "ax.yaxis.set_ticklabels(['Fake News', 'Real News'])\n",
    "\n",
    "# Show the plot\n",
    "plt.show()"
   ]
  },
  {
   "cell_type": "code",
   "execution_count": null,
   "id": "d35963dc",
   "metadata": {},
   "outputs": [],
   "source": [
    "lstm_model.save('trained_lstm_model.h5')"
   ]
  },
  {
   "cell_type": "code",
   "execution_count": 36,
   "id": "b4d3163f",
   "metadata": {},
   "outputs": [],
   "source": [
    "loaded_model_h5 = tf.keras.models.load_model('trained_lstm_model.h5')"
   ]
  },
  {
   "cell_type": "code",
   "execution_count": 38,
   "id": "95ff5d57",
   "metadata": {},
   "outputs": [
    {
     "name": "stdout",
     "output_type": "stream",
     "text": [
      "Model: \"sequential_1\"\n",
      "_________________________________________________________________\n",
      " Layer (type)                Output Shape              Param #   \n",
      "=================================================================\n",
      " embedding_1 (Embedding)     (None, 500, 128)          640000    \n",
      "                                                                 \n",
      " lstm (LSTM)                 (None, 128)               131584    \n",
      "                                                                 \n",
      " dropout_1 (Dropout)         (None, 128)               0         \n",
      "                                                                 \n",
      " dense_1 (Dense)             (None, 1)                 129       \n",
      "                                                                 \n",
      "=================================================================\n",
      "Total params: 771,713\n",
      "Trainable params: 771,713\n",
      "Non-trainable params: 0\n",
      "_________________________________________________________________\n"
     ]
    }
   ],
   "source": [
    "loaded_model_h5.summary()"
   ]
  }
 ],
 "metadata": {
  "kernelspec": {
   "display_name": "Fake_news_detection",
   "language": "python",
   "name": "python3"
  },
  "language_info": {
   "codemirror_mode": {
    "name": "ipython",
    "version": 3
   },
   "file_extension": ".py",
   "mimetype": "text/x-python",
   "name": "python",
   "nbconvert_exporter": "python",
   "pygments_lexer": "ipython3",
   "version": "3.10.6"
  },
  "toc": {
   "base_numbering": 1,
   "nav_menu": {},
   "number_sections": true,
   "sideBar": true,
   "skip_h1_title": false,
   "title_cell": "Table of Contents",
   "title_sidebar": "Contents",
   "toc_cell": false,
   "toc_position": {},
   "toc_section_display": true,
   "toc_window_display": false
  }
 },
 "nbformat": 4,
 "nbformat_minor": 5
}
