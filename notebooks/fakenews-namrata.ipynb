{
 "cells": [
  {
   "cell_type": "code",
   "execution_count": 28,
   "id": "610bdfff",
   "metadata": {},
   "outputs": [],
   "source": [
    "import pandas as pd\n",
    "import re\n",
    "import string\n",
    "\n",
    "# %pip install nltk\n",
    "\n",
    "import nltk\n",
    "from nltk.corpus import stopwords\n",
    "from nltk.tokenize import word_tokenize\n",
    "from nltk.stem import WordNetLemmatizer\n",
    "\n",
    "import time\n",
    "\n",
    "from sklearn.model_selection import train_test_split\n",
    "from sklearn.metrics import confusion_matrix, accuracy_score, precision_score, recall_score, f1_score, classification_report\n",
    "\n",
    "import tensorflow as tf\n",
    "from tensorflow.keras.preprocessing.text import Tokenizer\n",
    "from tensorflow.keras.preprocessing.sequence import pad_sequences\n",
    "from tensorflow.keras.models import Sequential\n",
    "from tensorflow.keras.layers import Embedding, SimpleRNN, Dense, Dropout, LSTM\n",
    "from tensorflow.keras.optimizers import Adam\n",
    "\n",
    "import seaborn as sns\n",
    "import matplotlib.pyplot as plt\n",
    "\n",
    "import pickle\n"
   ]
  },
  {
   "cell_type": "code",
   "execution_count": 2,
   "id": "3f6e4f12",
   "metadata": {},
   "outputs": [],
   "source": [
    "def basic_cleaning(texte):\n",
    "    # stripping:\n",
    "    data['text'] = data['text'].str.strip()\n",
    "\n",
    "    # tolower:\n",
    "    data['text'] = data['text'].str.lower()\n",
    "\n",
    "    # digit: Remove digits from each row of the ‘text’ column\n",
    "    data['text'] = data['text'].apply(lambda x: ''.join(char for char in x if not char.isdigit()))\n",
    "\n",
    "    # punctuation: Remove all punctuation marks from the ‘text’ column\n",
    "    data['text'] = data['text'].str.replace(r'[{}]'.format(re.escape(string.punctuation)), '', regex=True)\n",
    "\n",
    "    # delete html-tags\n",
    "    data['text'] = data['text'].apply(lambda x: re.sub('<[^<]+?>', '', x))\n",
    "\n",
    "    return data['text']"
   ]
  },
  {
   "cell_type": "code",
   "execution_count": 7,
   "id": "cd0840a9",
   "metadata": {},
   "outputs": [],
   "source": [
    "stop_words = set(stopwords.words('english'))\n",
    "\n",
    "# Tokenise and remove stop words\n",
    "def delete_stop_words(text):\n",
    "    return [word for word in text if word.lower() not in stop_words and word not in string.punctuation]\n",
    "\n",
    "# apply Lemmatization-Funktion\n",
    "def lemmatize_text(text):\n",
    "    lemmatizer = WordNetLemmatizer()\n",
    "    # Verben lemmatisieren\n",
    "    verb_lemmatized = [lemmatizer.lemmatize(word, pos=\"v\") for word in text]\n",
    "    # Nomen lemmatisieren\n",
    "    return [lemmatizer.lemmatize(word, pos=\"n\") for word in verb_lemmatized]\n",
    "\n",
    "# NLP-Cleaningfunktion\n",
    "def nlp_cleaning(texte):\n",
    "    # Tokenisation\n",
    "    texte = texte.apply(word_tokenize)\n",
    "    # Remove stop words\n",
    "    texte = texte.apply(delete_stop_words)\n",
    "    # Lemmatisation\n",
    "    texte = texte.apply(lemmatize_text)\n",
    "    # Combine words into a string\n",
    "    return texte.apply(lambda x: ' '.join(x))"
   ]
  },
  {
   "cell_type": "code",
   "execution_count": 8,
   "id": "9962f26d",
   "metadata": {},
   "outputs": [],
   "source": [
    "# Load the data\n",
    "data = pd.read_csv('../data/WELFake_Dataset 2.csv')"
   ]
  },
  {
   "cell_type": "code",
   "execution_count": 9,
   "id": "e09aa810",
   "metadata": {},
   "outputs": [],
   "source": [
    "# Fill missing values with spaces\n",
    "data = data.fillna(' ')"
   ]
  },
  {
   "cell_type": "code",
   "execution_count": 10,
   "id": "d1ec479e",
   "metadata": {},
   "outputs": [],
   "source": [
    "# Combine 'title' and 'text' columns, then drop 'title' column\n",
    "data['text'] = data['title'] + ' ' + data['text']\n",
    "data.drop('title', axis=1, inplace=True)"
   ]
  },
  {
   "cell_type": "code",
   "execution_count": 11,
   "id": "36c159ee",
   "metadata": {},
   "outputs": [],
   "source": [
    "# Apply basic cleaning and NLP cleaning to the 'text' column\n",
    "data['text'] = basic_cleaning(data['text'])\n",
    "data['text'] = nlp_cleaning(data['text'])\n"
   ]
  },
  {
   "cell_type": "code",
   "execution_count": 12,
   "id": "542e59ec",
   "metadata": {},
   "outputs": [],
   "source": [
    "# Remove duplicate rows\n",
    "data.drop_duplicates(inplace=True)"
   ]
  },
  {
   "cell_type": "code",
   "execution_count": 13,
   "id": "3ad8330d",
   "metadata": {},
   "outputs": [],
   "source": [
    "# Shuffle the dataframe to ensure randomness\n",
    "data = data.sample(frac=1, random_state=42)"
   ]
  },
  {
   "cell_type": "code",
   "execution_count": 14,
   "id": "83e1756f",
   "metadata": {},
   "outputs": [],
   "source": [
    "# Separate features and labels\n",
    "X = data['text']\n",
    "y = data['label']"
   ]
  },
  {
   "cell_type": "code",
   "execution_count": null,
   "id": "7f8f4a09",
   "metadata": {},
   "outputs": [],
   "source": [
    "# Word count for each entry in the 'text' column\n",
    "data['word_count'] = data['text'].apply(lambda x: len(x.split()))"
   ]
  },
  {
   "cell_type": "code",
   "execution_count": 16,
   "id": "c5d6a264",
   "metadata": {},
   "outputs": [
    {
     "data": {
      "text/plain": [
       "count    72134.000000\n",
       "mean       324.460712\n",
       "std        363.685469\n",
       "min          1.000000\n",
       "25%        142.000000\n",
       "50%        240.000000\n",
       "75%        399.000000\n",
       "max      20915.000000\n",
       "Name: word_count, dtype: float64"
      ]
     },
     "execution_count": 16,
     "metadata": {},
     "output_type": "execute_result"
    }
   ],
   "source": [
    "data['word_count'].describe()"
   ]
  },
  {
   "cell_type": "code",
   "execution_count": 17,
   "id": "f02c5dc3",
   "metadata": {},
   "outputs": [],
   "source": [
    "# Tokenize and pad sequences\n",
    "tokenizer = Tokenizer(num_words=5000)\n",
    "tokenizer.fit_on_texts(X)\n",
    "X_seq = tokenizer.texts_to_sequences(X)\n",
    "\n",
    "# Pad sequences to ensure uniform input length\n",
    "X_padded = pad_sequences(X_seq, maxlen=500)"
   ]
  },
  {
   "cell_type": "code",
   "execution_count": 18,
   "id": "39a0ad94",
   "metadata": {},
   "outputs": [],
   "source": [
    "# Split the data into training and testing sets\n",
    "X_train, X_test, y_train, y_test = train_test_split(X_padded, y, test_size=0.3, random_state=42)"
   ]
  },
  {
   "cell_type": "code",
   "execution_count": 19,
   "id": "11fb861e",
   "metadata": {},
   "outputs": [],
   "source": [
    "# Instantiate model\n",
    "rnn_model_1 = Sequential()\n",
    "# Add an embedding layer to convert words to dense vectors\n",
    "rnn_model_1.add(Embedding(input_dim=5000, output_dim=128))\n",
    "# Add a simple RNN layer\n",
    "rnn_model_1.add(SimpleRNN(units=128, return_sequences=False))\n",
    "# Add a dropout layer to prevent overfitting\n",
    "rnn_model_1.add(Dropout(rate=0.2))\n",
    "# Add a dense output layer with sigmoid activation for binary classification\n",
    "rnn_model_1.add(Dense(units=1, activation='sigmoid'))\n",
    "\n",
    "# Compile the model with Adam optimizer and binary cross-entropy loss\n",
    "rnn_model_1.compile(optimizer=Adam(), loss='binary_crossentropy', metrics=['accuracy'])"
   ]
  },
  {
   "cell_type": "code",
   "execution_count": 20,
   "id": "652a50c0",
   "metadata": {},
   "outputs": [
    {
     "name": "stdout",
     "output_type": "stream",
     "text": [
      "Epoch 1/5\n"
     ]
    },
    {
     "name": "stderr",
     "output_type": "stream",
     "text": [
      "2024-12-12 15:53:02.968161: W tensorflow/core/platform/profile_utils/cpu_utils.cc:128] Failed to get CPU frequency: 0 Hz\n"
     ]
    },
    {
     "name": "stdout",
     "output_type": "stream",
     "text": [
      "789/789 [==============================] - 167s 211ms/step - loss: 0.3812 - accuracy: 0.8281 - val_loss: 0.3042 - val_accuracy: 0.8804\n",
      "Epoch 2/5\n",
      "789/789 [==============================] - 168s 213ms/step - loss: 0.4167 - accuracy: 0.8008 - val_loss: 0.4040 - val_accuracy: 0.8035\n",
      "Epoch 3/5\n",
      "789/789 [==============================] - 167s 212ms/step - loss: 0.3781 - accuracy: 0.8266 - val_loss: 0.3524 - val_accuracy: 0.8399\n",
      "Epoch 4/5\n",
      "789/789 [==============================] - 168s 213ms/step - loss: 0.2875 - accuracy: 0.8795 - val_loss: 0.2572 - val_accuracy: 0.9014\n",
      "Epoch 5/5\n",
      "789/789 [==============================] - 168s 212ms/step - loss: 0.2143 - accuracy: 0.9186 - val_loss: 0.2317 - val_accuracy: 0.9073\n"
     ]
    },
    {
     "data": {
      "text/plain": [
       "<keras.callbacks.History at 0x37975e1d0>"
      ]
     },
     "execution_count": 20,
     "metadata": {},
     "output_type": "execute_result"
    }
   ],
   "source": [
    "# Train the model\n",
    "rnn_model_1.fit(X_train, y_train, epochs=5, batch_size=64, validation_data=(X_test, y_test))"
   ]
  },
  {
   "cell_type": "code",
   "execution_count": 21,
   "id": "11f29293",
   "metadata": {},
   "outputs": [
    {
     "name": "stdout",
     "output_type": "stream",
     "text": [
      "677/677 [==============================] - 18s 27ms/step - loss: 0.2317 - accuracy: 0.9073\n",
      "Test Accuracy: 0.91\n"
     ]
    }
   ],
   "source": [
    "# Evaluate the model on the test data\n",
    "loss, accuracy = rnn_model_1.evaluate(X_test, y_test)\n",
    "print(f\"Test Accuracy: {accuracy:.2f}\")"
   ]
  },
  {
   "cell_type": "code",
   "execution_count": 22,
   "id": "d839d657",
   "metadata": {},
   "outputs": [
    {
     "name": "stdout",
     "output_type": "stream",
     "text": [
      "677/677 [==============================] - 19s 27ms/step\n"
     ]
    }
   ],
   "source": [
    "# Generate predictions\n",
    "y_pred_prob = rnn_model_1.predict(X_test)\n",
    "# Convert probabs to 0 or 1\n",
    "y_pred = (y_pred_prob > 0.5).astype(int)"
   ]
  },
  {
   "cell_type": "code",
   "execution_count": 24,
   "id": "e1b73222",
   "metadata": {},
   "outputs": [
    {
     "name": "stdout",
     "output_type": "stream",
     "text": [
      "Accuracy: 0.91\n",
      "Precision: 0.91\n",
      "Recall: 0.91\n",
      "F1 Score: 0.91\n",
      "Classification Report:\n",
      "               precision    recall  f1-score   support\n",
      "\n",
      "           0       0.91      0.90      0.90     10442\n",
      "           1       0.91      0.91      0.91     11199\n",
      "\n",
      "    accuracy                           0.91     21641\n",
      "   macro avg       0.91      0.91      0.91     21641\n",
      "weighted avg       0.91      0.91      0.91     21641\n",
      "\n"
     ]
    }
   ],
   "source": [
    "# Performance metrics\n",
    "accuracy = accuracy_score(y_test, y_pred)\n",
    "precision = precision_score(y_test, y_pred)\n",
    "recall = recall_score(y_test, y_pred)\n",
    "f1 = f1_score(y_test, y_pred)\n",
    "\n",
    "# Print performance metrics\n",
    "print(f\"Accuracy: {accuracy:.2f}\")\n",
    "print(f\"Precision: {precision:.2f}\")\n",
    "print(f\"Recall: {recall:.2f}\")\n",
    "print(f\"F1 Score: {f1:.2f}\")\n",
    "\n",
    "# Classification report\n",
    "print(\"Classification Report:\\n\", classification_report(y_test, y_pred))"
   ]
  },
  {
   "cell_type": "code",
   "execution_count": 25,
   "id": "917e9cbc",
   "metadata": {},
   "outputs": [],
   "source": [
    "# Calculate the confusion matrix\n",
    "cm = confusion_matrix(y_test, y_pred)"
   ]
  },
  {
   "cell_type": "code",
   "execution_count": 26,
   "id": "8ced3468",
   "metadata": {},
   "outputs": [
    {
     "data": {
      "image/png": "[encoded data removed]",
      "text/plain": [
       "<Figure size 1000x700 with 2 Axes>"
      ]
     },
     "metadata": {},
     "output_type": "display_data"
    }
   ],
   "source": [
    "# Plot the confusion matrix\n",
    "plt.figure(figsize=(10, 7))\n",
    "ax = sns.heatmap(cm, annot=True, fmt=\"d\", cmap=\"coolwarm\", cbar=True)\n",
    "\n",
    "# Set axis labels and title\n",
    "ax.set_xlabel('Predicted labels')\n",
    "ax.set_ylabel('True labels')\n",
    "ax.set_title('Confusion Matrix - Simple RNN')\n",
    "\n",
    "# Set custom tick labels\n",
    "ax.xaxis.set_ticklabels(['Fake News', 'Real News'])\n",
    "ax.yaxis.set_ticklabels(['Fake News', 'Real News'])\n",
    "\n",
    "# Show the plot\n",
    "plt.show()"
   ]
  },
  {
   "cell_type": "code",
   "execution_count": 27,
   "id": "59e66729",
   "metadata": {},
   "outputs": [
    {
     "name": "stdout",
     "output_type": "stream",
     "text": [
      "INFO:tensorflow:Assets written to: ram://4ae3392e-6d41-41ec-8198-6c211d23482a/assets\n"
     ]
    }
   ],
   "source": [
    "# Save the model to a file\n",
    "with open('trained_rnn_model_1.pkl', 'wb') as file:\n",
    "    pickle.dump(rnn_model_1, file)"
   ]
  },
  {
   "cell_type": "code",
   "execution_count": null,
   "id": "0aa10d99",
   "metadata": {},
   "outputs": [],
   "source": [
    "\n",
    "# Instantiate the LSTM model\n",
    "lstm_model = Sequential()\n",
    "\n",
    "# Add an embedding layer\n",
    "lstm_model.add(Embedding(input_dim=5000, output_dim=128, input_length=500))\n",
    "\n",
    "# Add the LSTM layer\n",
    "lstm_model.add(LSTM(units=128, return_sequences=False))\n",
    "\n",
    "# Add a dropout layer to prevent overfitting\n",
    "lstm_model.add(Dropout(rate=0.2))\n",
    "\n",
    "# Add the dense output layer\n",
    "lstm_model.add(Dense(units=1, activation='sigmoid'))\n",
    "\n",
    "# Compile the model with Adam optimizer and binary cross-entropy loss\n",
    "lstm_model.compile(optimizer=Adam(), loss='binary_crossentropy', metrics=['accuracy'])\n"
   ]
  },
  {
   "cell_type": "code",
   "execution_count": 32,
   "id": "5be01a27",
   "metadata": {},
   "outputs": [
    {
     "name": "stdout",
     "output_type": "stream",
     "text": [
      "Epoch 1/5\n",
      "789/789 [==============================] - 385s 486ms/step - loss: 0.2237 - accuracy: 0.9156 - val_loss: 0.1565 - val_accuracy: 0.9466\n",
      "Epoch 2/5\n",
      "789/789 [==============================] - 371s 470ms/step - loss: 0.1697 - accuracy: 0.9373 - val_loss: 0.2114 - val_accuracy: 0.9214\n",
      "Epoch 3/5\n",
      "789/789 [==============================] - 373s 473ms/step - loss: 0.2641 - accuracy: 0.8917 - val_loss: 0.2506 - val_accuracy: 0.9043\n",
      "Epoch 4/5\n",
      "789/789 [==============================] - 450s 570ms/step - loss: 0.1604 - accuracy: 0.9415 - val_loss: 0.1227 - val_accuracy: 0.9543\n",
      "Epoch 5/5\n",
      "789/789 [==============================] - 492s 623ms/step - loss: 0.0949 - accuracy: 0.9667 - val_loss: 0.1100 - val_accuracy: 0.9593\n"
     ]
    },
    {
     "data": {
      "text/plain": [
       "<keras.callbacks.History at 0x34fe40a00>"
      ]
     },
     "execution_count": 32,
     "metadata": {},
     "output_type": "execute_result"
    }
   ],
   "source": [
    "# Train the LSTM model\n",
    "lstm_model.fit(X_train, y_train, epochs=5, batch_size=64, validation_data=(X_test, y_test))\n"
   ]
  },
  {
   "cell_type": "code",
   "execution_count": null,
   "id": "811c6968",
   "metadata": {},
   "outputs": [
    {
     "name": "stdout",
     "output_type": "stream",
     "text": [
      "677/677 [==============================] - 65s 96ms/step - loss: 0.1100 - accuracy: 0.9593\n",
      "Test Accuracy: 0.96\n"
     ]
    }
   ],
   "source": [
    "# Evaluate the LSTM model\n",
    "loss, accuracy = lstm_model.evaluate(X_test, y_test)\n",
    "print(f\"Test Accuracy: {accuracy:.2f}\")\n"
   ]
  },
  {
   "cell_type": "code",
   "execution_count": 35,
   "id": "1bd56071",
   "metadata": {},
   "outputs": [
    {
     "name": "stdout",
     "output_type": "stream",
     "text": [
      "677/677 [==============================] - 63s 93ms/step\n"
     ]
    }
   ],
   "source": [
    "# Generate predictions\n",
    "y_pred_prob = lstm_model.predict(X_test)\n",
    "\n",
    "# Convert probabilities to 0 or 1\n",
    "y_pred = (y_pred_prob > 0.5).astype(int)"
   ]
  },
  {
   "cell_type": "code",
   "execution_count": null,
   "id": "a257dc44",
   "metadata": {},
   "outputs": [
    {
     "name": "stdout",
     "output_type": "stream",
     "text": [
      "Accuracy: 0.96\n",
      "Precision: 0.98\n",
      "Recall: 0.94\n",
      "F1 Score: 0.96\n",
      "Classification Report:\n",
      "               precision    recall  f1-score   support\n",
      "\n",
      "           0       0.94      0.98      0.96     10442\n",
      "           1       0.98      0.94      0.96     11199\n",
      "\n",
      "    accuracy                           0.96     21641\n",
      "   macro avg       0.96      0.96      0.96     21641\n",
      "weighted avg       0.96      0.96      0.96     21641\n",
      "\n"
     ]
    }
   ],
   "source": [
    "# Performance metrics\n",
    "accuracy = accuracy_score(y_test, y_pred)\n",
    "precision = precision_score(y_test, y_pred)\n",
    "recall = recall_score(y_test, y_pred)\n",
    "f1 = f1_score(y_test, y_pred)\n",
    "\n",
    "# Print performance metrics\n",
    "print(f\"Accuracy: {accuracy:.2f}\")\n",
    "print(f\"Precision: {precision:.2f}\")\n",
    "print(f\"Recall: {recall:.2f}\")\n",
    "print(f\"F1 Score: {f1:.2f}\")\n",
    "\n",
    "# Classification report\n",
    "print(\"Classification Report:\\n\", classification_report(y_test, y_pred))\n"
   ]
  },
  {
   "cell_type": "code",
   "execution_count": 37,
   "id": "740f939a",
   "metadata": {},
   "outputs": [
    {
     "data": {
      "image/png": "[encoded data removed]",
      "text/plain": [
       "<Figure size 1000x700 with 2 Axes>"
      ]
     },
     "metadata": {},
     "output_type": "display_data"
    }
   ],
   "source": [
    "# Confusion matrix\n",
    "cm = confusion_matrix(y_test, y_pred)\n",
    "\n",
    "# Plot the confusion matrix\n",
    "plt.figure(figsize=(10, 7))\n",
    "ax = sns.heatmap(cm, annot=True, fmt=\"d\", cmap=\"coolwarm\", cbar=True)\n",
    "\n",
    "# Set axis labels and title\n",
    "ax.set_xlabel('Predicted labels')\n",
    "ax.set_ylabel('True labels')\n",
    "ax.set_title('Confusion Matrix - LSTM')\n",
    "\n",
    "# Set custom tick labels\n",
    "ax.xaxis.set_ticklabels(['Fake News', 'Real News'])\n",
    "ax.yaxis.set_ticklabels(['Fake News', 'Real News'])\n",
    "\n",
    "# Show the plot\n",
    "plt.show()"
   ]
  }
 ],
 "metadata": {
  "kernelspec": {
   "display_name": "Fake_news_detection",
   "language": "python",
   "name": "python3"
  },
  "language_info": {
   "codemirror_mode": {
    "name": "ipython",
    "version": 3
   },
   "file_extension": ".py",
   "mimetype": "text/x-python",
   "name": "python",
   "nbconvert_exporter": "python",
   "pygments_lexer": "ipython3",
   "version": "3.10.6"
  },
  "toc": {
   "base_numbering": 1,
   "nav_menu": {},
   "number_sections": true,
   "sideBar": true,
   "skip_h1_title": false,
   "title_cell": "Table of Contents",
   "title_sidebar": "Contents",
   "toc_cell": false,
   "toc_position": {},
   "toc_section_display": true,
   "toc_window_display": false
  }
 },
 "nbformat": 4,
 "nbformat_minor": 5
}
