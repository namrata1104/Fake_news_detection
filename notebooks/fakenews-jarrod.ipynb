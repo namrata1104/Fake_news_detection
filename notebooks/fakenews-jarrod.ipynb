{
 "cells": [
  {
   "cell_type": "code",
   "execution_count": 63,
   "id": "13af4e71",
   "metadata": {},
   "outputs": [],
   "source": [
    "import pandas as pd\n",
    "import re\n",
    "import string\n",
    "import time\n",
    "\n",
    "# %pip install nltk\n",
    "\n",
    "import nltk\n",
    "from nltk.corpus import stopwords\n",
    "from nltk.tokenize import word_tokenize\n",
    "from nltk.stem import WordNetLemmatizer\n",
    "\n",
    "from sklearn.model_selection import train_test_split\n",
    "from sklearn.metrics import confusion_matrix, accuracy_score, precision_score, recall_score, f1_score, classification_report\n",
    "\n",
    "import tensorflow as tf\n",
    "from tensorflow.keras.preprocessing.text import Tokenizer\n",
    "from tensorflow.keras.preprocessing.sequence import pad_sequences\n",
    "from tensorflow.keras.models import Sequential\n",
    "from tensorflow.keras.layers import Embedding, SimpleRNN, Dense, Dropout\n",
    "from tensorflow.keras.optimizers import Adam\n",
    "from tensorflow.keras.callbacks import EarlyStopping\n",
    "from tensorflow.keras.optimizers import Adam, RMSprop\n",
    "\n",
    "from kerastuner import RandomSearch, HyperModel\n",
    "\n",
    "import seaborn as sns\n",
    "import matplotlib.pyplot as plt"
   ]
  },
  {
   "cell_type": "markdown",
   "id": "19f90093",
   "metadata": {},
   "source": [
    "# Preprocessing Functions"
   ]
  },
  {
   "cell_type": "markdown",
   "id": "464a25a3-3d36-4f0c-8254-a246b6738000",
   "metadata": {},
   "source": [
    "## Data cleaning: strip, lower, digit, punctuation"
   ]
  },
  {
   "cell_type": "code",
   "execution_count": 2,
   "id": "bba0420e",
   "metadata": {},
   "outputs": [],
   "source": [
    "def basic_cleaning(text):\n",
    "    \"\"\"\n",
    "    Clean the text data by removing whitespace, converting to lowercase, removing digits, punctuation, and HTML tags.\n",
    "    Handles both Pandas Series and single string input.\n",
    "    \"\"\"\n",
    "    if isinstance(text, pd.Series):\n",
    "        text = text.str.strip()\n",
    "        text = text.str.lower()\n",
    "        text = text.apply(lambda x: ''.join(char for char in x if not char.isdigit()))\n",
    "        text = text.str.replace(r'[{}]'.format(re.escape(string.punctuation)), '', regex=True)\n",
    "        text = text.apply(lambda x: re.sub('<[^<]+?>', '', x))\n",
    "    elif isinstance(text, str):\n",
    "        text = text.strip()\n",
    "        text = text.lower()\n",
    "        text = ''.join(char for char in text if not char.isdigit())\n",
    "        text = re.sub(r'[{}]'.format(re.escape(string.punctuation)), '', text)\n",
    "        text = re.sub('<[^<]+?>', '', text)\n",
    "    else:\n",
    "        text = ''\n",
    "    return text\n"
   ]
  },
  {
   "cell_type": "markdown",
   "id": "c6eace4f",
   "metadata": {},
   "source": [
    "## Data cleaning: tokenizing, stopwords, lemmatize"
   ]
  },
  {
   "cell_type": "code",
   "execution_count": 3,
   "id": "46eb183a",
   "metadata": {},
   "outputs": [],
   "source": [
    "stop_words = set(stopwords.words('english'))\n",
    "\n",
    "# Tokenize and remove stop words\n",
    "def delete_stop_words(text):\n",
    "    if isinstance(text, list):\n",
    "        return [word for word in text if word.lower() not in stop_words and word not in string.punctuation]\n",
    "    else:\n",
    "        return []\n",
    "\n",
    "# Apply lemmatization function\n",
    "def lemmatize_text(text):\n",
    "    lemmatizer = WordNetLemmatizer()\n",
    "    if isinstance(text, list):\n",
    "        # Lemmatize verbs\n",
    "        verb_lemmatized = [lemmatizer.lemmatize(word, pos=\"v\") for word in text]\n",
    "        # Lemmatize nouns\n",
    "        return [lemmatizer.lemmatize(word, pos=\"n\") for word in verb_lemmatized]\n",
    "    else:\n",
    "        return []\n",
    "\n",
    "# NLP cleaning function\n",
    "def nlp_cleaning(text):\n",
    "    if isinstance(text, pd.Series):\n",
    "        # Tokenization\n",
    "        text = text.apply(word_tokenize)\n",
    "        # Remove stop words\n",
    "        text = text.apply(delete_stop_words)\n",
    "        # Lemmatization\n",
    "        text = text.apply(lemmatize_text)\n",
    "        # Combine words into a string\n",
    "        return text.apply(lambda x: ' '.join(x))\n",
    "    elif isinstance(text, str):\n",
    "        words = word_tokenize(text)\n",
    "        words = delete_stop_words(words)\n",
    "        words = lemmatize_text(words)\n",
    "        return ' '.join(words)\n",
    "    else:\n",
    "        return ''\n"
   ]
  },
  {
   "cell_type": "markdown",
   "id": "d0dcde28-be5d-46b0-89b8-76790391d6b3",
   "metadata": {},
   "source": [
    "# RNN Model (Recurrent Neural Networks)"
   ]
  },
  {
   "cell_type": "markdown",
   "id": "da0e4625",
   "metadata": {},
   "source": [
    "### Load and Preprocess Data"
   ]
  },
  {
   "cell_type": "code",
   "execution_count": 4,
   "id": "daf291c9",
   "metadata": {},
   "outputs": [],
   "source": [
    "# Load the data\n",
    "data = pd.read_csv('../data/WELFake_Dataset.csv')"
   ]
  },
  {
   "cell_type": "code",
   "execution_count": 5,
   "id": "6ffee2d4",
   "metadata": {},
   "outputs": [
    {
     "name": "stdout",
     "output_type": "stream",
     "text": [
      "Unnamed: 0    0\n",
      "title         0\n",
      "text          0\n",
      "label         0\n",
      "dtype: int64\n"
     ]
    }
   ],
   "source": [
    "# Fill missing values with spaces\n",
    "data = data.fillna(' ')\n",
    "\n",
    "# Verify that there are no missing values\n",
    "print(data.isnull().sum())"
   ]
  },
  {
   "cell_type": "code",
   "execution_count": 6,
   "id": "bbd8328b",
   "metadata": {},
   "outputs": [
    {
     "name": "stdout",
     "output_type": "stream",
     "text": [
      "   Unnamed: 0                                               text  label\n",
      "0           0  LAW ENFORCEMENT ON HIGH ALERT Following Threat...      1\n",
      "1           1     Did they post their votes for Hillary already?      1\n"
     ]
    }
   ],
   "source": [
    "# Combine 'title' and 'text' columns, then drop 'title' column\n",
    "data['text'] = data['title'] + ' ' + data['text']\n",
    "data.drop('title', axis=1, inplace=True)\n",
    "\n",
    "# Verify the changes\n",
    "print(data.head(2))"
   ]
  },
  {
   "cell_type": "code",
   "execution_count": 7,
   "id": "0b24721b",
   "metadata": {},
   "outputs": [
    {
     "name": "stdout",
     "output_type": "stream",
     "text": [
      "0    law enforcement on high alert following threat...\n",
      "1        did they post their votes for hillary already\n",
      "Name: text, dtype: object\n"
     ]
    }
   ],
   "source": [
    "# Apply basic cleaning to the 'text' column\n",
    "data['text'] = basic_cleaning(data['text'])\n",
    "\n",
    "# Verify the changes\n",
    "print(data['text'].head(2))"
   ]
  },
  {
   "cell_type": "code",
   "execution_count": 8,
   "id": "b940a5f3",
   "metadata": {},
   "outputs": [
    {
     "name": "stdout",
     "output_type": "stream",
     "text": [
      "0    law enforcement high alert follow threat cop w...\n",
      "1                            post vote hillary already\n",
      "Name: text, dtype: object\n"
     ]
    }
   ],
   "source": [
    "# Apply NLP cleaning to the 'text' column\n",
    "data['text'] = nlp_cleaning(data['text'])\n",
    "\n",
    "# Verify the changes\n",
    "print(data['text'].head(2))"
   ]
  },
  {
   "cell_type": "code",
   "execution_count": 9,
   "id": "ae9ff39d",
   "metadata": {},
   "outputs": [
    {
     "name": "stdout",
     "output_type": "stream",
     "text": [
      "Rows before: 72134, Rows after: 72134, Duplicates removed: 0\n"
     ]
    }
   ],
   "source": [
    "# Check the shape of the DataFrame before and after removing duplicates\n",
    "before = data.shape[0]\n",
    "data.drop_duplicates(inplace=True)\n",
    "after = data.shape[0]\n",
    "print(f\"Rows before: {before}, Rows after: {after}, Duplicates removed: {before - after}\")"
   ]
  },
  {
   "cell_type": "code",
   "execution_count": null,
   "id": "17e61af1",
   "metadata": {},
   "outputs": [
    {
     "name": "stdout",
     "output_type": "stream",
     "text": [
      "       Unnamed: 0                                               text  label\n",
      "61370       61370  arnold schwarzenegger send message liberal whi...      1\n",
      "2189         2189  wow “ mexican need kill donald trump become pr...      1\n"
     ]
    }
   ],
   "source": [
    "# Shuffle the dataframe to ensure randomness\n",
    "data = data.sample(frac=1, random_state=42)\n",
    "\n",
    "# Verify shuffling\n",
    "print(data.head(2))"
   ]
  },
  {
   "cell_type": "code",
   "execution_count": null,
   "id": "094d244d",
   "metadata": {},
   "outputs": [
    {
     "name": "stdout",
     "output_type": "stream",
     "text": [
      "61370    arnold schwarzenegger send message liberal whi...\n",
      "2189     wow “ mexican need kill donald trump become pr...\n",
      "Name: text, dtype: object\n",
      "61370    1\n",
      "2189     1\n",
      "Name: label, dtype: int64\n"
     ]
    }
   ],
   "source": [
    "# Separate the features (text) and labels (label) into X and y\n",
    "X = data['text']\n",
    "y = data['label']\n",
    "\n",
    "# Verify the separation\n",
    "print(X.head(2))\n",
    "print(y.head(2))"
   ]
  },
  {
   "cell_type": "markdown",
   "id": "fd08bee7",
   "metadata": {},
   "source": [
    "### Tokenize and Pad Sequences"
   ]
  },
  {
   "cell_type": "code",
   "execution_count": 12,
   "id": "cdd39e7b",
   "metadata": {},
   "outputs": [
    {
     "data": {
      "text/plain": [
       "count    72134.000000\n",
       "mean       324.460712\n",
       "std        363.685469\n",
       "min          1.000000\n",
       "25%        142.000000\n",
       "50%        240.000000\n",
       "75%        399.000000\n",
       "max      20915.000000\n",
       "Name: word_count, dtype: float64"
      ]
     },
     "execution_count": 12,
     "metadata": {},
     "output_type": "execute_result"
    }
   ],
   "source": [
    "# Word count for each entry in the 'text' column\n",
    "data['word_count'] = data['text'].apply(lambda x: len(x.split()))\n",
    "data['word_count'].describe()"
   ]
  },
  {
   "cell_type": "code",
   "execution_count": 13,
   "id": "7c88ce77",
   "metadata": {},
   "outputs": [],
   "source": [
    "# Tokenize and pad sequences\n",
    "tokenizer = Tokenizer(num_words=5000)\n",
    "tokenizer.fit_on_texts(X)\n",
    "X_seq = tokenizer.texts_to_sequences(X)\n",
    "\n",
    "# Pad sequences to ensure uniform input length\n",
    "X_padded = pad_sequences(X_seq, maxlen=500)"
   ]
  },
  {
   "cell_type": "code",
   "execution_count": 14,
   "id": "221ae0e8",
   "metadata": {},
   "outputs": [
    {
     "name": "stdout",
     "output_type": "stream",
     "text": [
      "[[   0    0    0 ... 3481    5  100]\n",
      " [   0    0    0 ...   69 1067  378]\n",
      " [   0    0    0 ...  535 1231 3378]\n",
      " [   0    0    0 ...   36 2650   17]\n",
      " [   0    0    0 ...   37  250 1430]]\n"
     ]
    }
   ],
   "source": [
    "# Verify the tokenized and padded sequences\n",
    "print(X_padded[:5])"
   ]
  },
  {
   "cell_type": "markdown",
   "id": "06fbbf90",
   "metadata": {},
   "source": [
    "### Train-Test Split"
   ]
  },
  {
   "cell_type": "code",
   "execution_count": null,
   "id": "25e743fc",
   "metadata": {},
   "outputs": [
    {
     "name": "stdout",
     "output_type": "stream",
     "text": [
      "X_train shape: (50493, 500), X_test shape: (21641, 500)\n",
      "y_train shape: (50493,), y_test shape: (21641,)\n"
     ]
    }
   ],
   "source": [
    "# Split the data into training and testing sets (70% training, 30% testing)\n",
    "X_train, X_test, y_train, y_test = train_test_split(X_padded, y, test_size=0.3, random_state=42)\n",
    "\n",
    "# Verify the shapes\n",
    "print(f\"X_train shape: {X_train.shape}, X_test shape: {X_test.shape}\")\n",
    "print(f\"y_train shape: {y_train.shape}, y_test shape: {y_test.shape}\")"
   ]
  },
  {
   "cell_type": "markdown",
   "id": "37b99cb7",
   "metadata": {},
   "source": [
    "### Tuning Simple RNN Model 1"
   ]
  },
  {
   "cell_type": "code",
   "execution_count": 62,
   "id": "f2446ba8",
   "metadata": {},
   "outputs": [],
   "source": [
    "# Instantiate the model\n",
    "rnn_model_1 = Sequential()\n",
    "\n",
    "# Add an embedding layer\n",
    "rnn_model_1.add(Embedding(input_dim=5000, output_dim=128))\n",
    "\n",
    "# Add a simple RNN layer with 128 units\n",
    "rnn_model_1.add(SimpleRNN(units=128, return_sequences=False))\n",
    "\n",
    "# Add dropout layers to prevent overfitting\n",
    "rnn_model_1.add(Dropout(rate=0.5))\n",
    "\n",
    "# Add another dense layer and dropout layer\n",
    "rnn_model_1.add(Dense(units=64, activation='relu'))\n",
    "rnn_model_1.add(Dropout(rate=0.5))\n",
    "\n",
    "# Add the final dense output layer with sigmoid activation\n",
    "rnn_model_1.add(Dense(units=1, activation='sigmoid'))\n"
   ]
  },
  {
   "cell_type": "code",
   "execution_count": null,
   "id": "07264348",
   "metadata": {},
   "outputs": [],
   "source": [
    "# Adjust the Adam optimizer parameters\n",
    "adam_optimizer = Adam(learning_rate=0.001, beta_1=0.9, beta_2=0.999)\n",
    "\n",
    "# Compile the model\n",
    "rnn_model_1.compile(optimizer=adam_optimizer, loss='binary_crossentropy', metrics=['accuracy'])"
   ]
  },
  {
   "cell_type": "markdown",
   "id": "e20cdb46",
   "metadata": {},
   "source": [
    "Train the Model"
   ]
  },
  {
   "cell_type": "code",
   "execution_count": null,
   "id": "22e004de",
   "metadata": {},
   "outputs": [
    {
     "name": "stdout",
     "output_type": "stream",
     "text": [
      "Epoch 1/10\n",
      "\u001b[1m789/789\u001b[0m \u001b[32m━━━━━━━━━━━━━━━━━━━━\u001b[0m\u001b[37m\u001b[0m \u001b[1m135s\u001b[0m 171ms/step - accuracy: 0.8728 - loss: 0.3059 - val_accuracy: 0.7962 - val_loss: 0.4215\n",
      "Epoch 2/10\n",
      "\u001b[1m789/789\u001b[0m \u001b[32m━━━━━━━━━━━━━━━━━━━━\u001b[0m\u001b[37m\u001b[0m \u001b[1m137s\u001b[0m 174ms/step - accuracy: 0.7946 - loss: 0.4379 - val_accuracy: 0.8403 - val_loss: 0.3544\n",
      "Epoch 3/10\n",
      "\u001b[1m789/789\u001b[0m \u001b[32m━━━━━━━━━━━━━━━━━━━━\u001b[0m\u001b[37m\u001b[0m \u001b[1m133s\u001b[0m 169ms/step - accuracy: 0.8618 - loss: 0.3243 - val_accuracy: 0.8857 - val_loss: 0.2915\n",
      "Epoch 4/10\n",
      "\u001b[1m789/789\u001b[0m \u001b[32m━━━━━━━━━━━━━━━━━━━━\u001b[0m\u001b[37m\u001b[0m \u001b[1m130s\u001b[0m 165ms/step - accuracy: 0.8932 - loss: 0.2729 - val_accuracy: 0.8893 - val_loss: 0.2834\n",
      "Epoch 5/10\n",
      "\u001b[1m789/789\u001b[0m \u001b[32m━━━━━━━━━━━━━━━━━━━━\u001b[0m\u001b[37m\u001b[0m \u001b[1m131s\u001b[0m 166ms/step - accuracy: 0.8814 - loss: 0.2911 - val_accuracy: 0.8967 - val_loss: 0.2666\n",
      "Epoch 6/10\n",
      "\u001b[1m789/789\u001b[0m \u001b[32m━━━━━━━━━━━━━━━━━━━━\u001b[0m\u001b[37m\u001b[0m \u001b[1m114s\u001b[0m 144ms/step - accuracy: 0.9026 - loss: 0.2566 - val_accuracy: 0.7960 - val_loss: 0.4169\n",
      "Epoch 7/10\n",
      "\u001b[1m789/789\u001b[0m \u001b[32m━━━━━━━━━━━━━━━━━━━━\u001b[0m\u001b[37m\u001b[0m \u001b[1m126s\u001b[0m 160ms/step - accuracy: 0.7981 - loss: 0.4258 - val_accuracy: 0.7981 - val_loss: 0.4118\n",
      "Epoch 8/10\n",
      "\u001b[1m789/789\u001b[0m \u001b[32m━━━━━━━━━━━━━━━━━━━━\u001b[0m\u001b[37m\u001b[0m \u001b[1m136s\u001b[0m 172ms/step - accuracy: 0.8048 - loss: 0.4186 - val_accuracy: 0.8084 - val_loss: 0.4019\n"
     ]
    }
   ],
   "source": [
    "# Early stopping\n",
    "early_stopping = EarlyStopping(monitor='val_loss', patience=3, restore_best_weights=True)\n",
    "\n",
    "# Train the model with early stopping and model checkpoint\n",
    "history_1 = rnn_model_1.fit(\n",
    "    X_train, y_train,\n",
    "    epochs=10,\n",
    "    batch_size=64,\n",
    "    validation_data=(X_test, y_test),\n",
    "    callbacks=[early_stopping]\n",
    ")"
   ]
  },
  {
   "cell_type": "code",
   "execution_count": null,
   "id": "18a98668",
   "metadata": {},
   "outputs": [
    {
     "data": {
      "image/png": "[encoded data removed]",
      "text/plain": [
       "<Figure size 1400x500 with 2 Axes>"
      ]
     },
     "metadata": {},
     "output_type": "display_data"
    }
   ],
   "source": [
    "# Plot training & validation accuracy values\n",
    "plt.figure(figsize=(14, 5))\n",
    "\n",
    "plt.subplot(1, 2, 1)\n",
    "plt.plot(history_1.history['accuracy'])\n",
    "plt.plot(history_1.history['val_accuracy'])\n",
    "plt.title('Model accuracy')\n",
    "plt.ylabel('Accuracy')\n",
    "plt.xlabel('Epoch')\n",
    "plt.legend(['Train', 'Test'], loc='upper left')\n",
    "\n",
    "# Plot training & validation loss values\n",
    "plt.subplot(1, 2, 2)\n",
    "plt.plot(history_1.history['loss'])\n",
    "plt.plot(history_1.history['val_loss'])\n",
    "plt.title('Model loss')\n",
    "plt.ylabel('Loss')\n",
    "plt.xlabel('Epoch')\n",
    "plt.legend(['Train', 'Test'], loc='upper left')\n",
    "\n",
    "plt.show()\n"
   ]
  },
  {
   "cell_type": "markdown",
   "id": "6cf993ed",
   "metadata": {},
   "source": [
    "Evaluate the Model"
   ]
  },
  {
   "cell_type": "code",
   "execution_count": null,
   "id": "ec83a682",
   "metadata": {},
   "outputs": [
    {
     "name": "stdout",
     "output_type": "stream",
     "text": [
      "\u001b[1m677/677\u001b[0m \u001b[32m━━━━━━━━━━━━━━━━━━━━\u001b[0m\u001b[37m\u001b[0m \u001b[1m32s\u001b[0m 44ms/step - accuracy: 0.8978 - loss: 0.2625\n",
      "Test Accuracy: 0.90\n"
     ]
    }
   ],
   "source": [
    "# Evaluate the model on the test data\n",
    "loss_1, accuracy_1 = rnn_model_1.evaluate(X_test, y_test)\n",
    "print(f\"Test Accuracy: {accuracy_1:.2f}\")"
   ]
  },
  {
   "cell_type": "markdown",
   "id": "3b2b54c1",
   "metadata": {},
   "source": [
    "Predict"
   ]
  },
  {
   "cell_type": "code",
   "execution_count": null,
   "id": "af8c219c",
   "metadata": {},
   "outputs": [
    {
     "name": "stdout",
     "output_type": "stream",
     "text": [
      "\u001b[1m677/677\u001b[0m \u001b[32m━━━━━━━━━━━━━━━━━━━━\u001b[0m\u001b[37m\u001b[0m \u001b[1m32s\u001b[0m 46ms/step\n"
     ]
    }
   ],
   "source": [
    "# Generate predictions\n",
    "y_pred_prob_1 = rnn_model_1.predict(X_test)\n",
    "# Convert probabs to 0 or 1\n",
    "y_pred_1 = (y_pred_prob_1 > 0.5).astype(int)"
   ]
  },
  {
   "cell_type": "code",
   "execution_count": null,
   "id": "9aa3cb8f",
   "metadata": {},
   "outputs": [
    {
     "name": "stdout",
     "output_type": "stream",
     "text": [
      "Accuracy: 0.90\n",
      "Precision: 0.91\n",
      "Recall: 0.88\n",
      "F1 Score: 0.90\n",
      "Classification Report:\n",
      "               precision    recall  f1-score   support\n",
      "\n",
      "           0       0.88      0.91      0.89     10442\n",
      "           1       0.91      0.88      0.90     11199\n",
      "\n",
      "    accuracy                           0.90     21641\n",
      "   macro avg       0.90      0.90      0.90     21641\n",
      "weighted avg       0.90      0.90      0.90     21641\n",
      "\n"
     ]
    }
   ],
   "source": [
    "# Performance metrics\n",
    "accuracy_1 = accuracy_score(y_test, y_pred_1)\n",
    "precision_1 = precision_score(y_test, y_pred_1)\n",
    "recall_1 = recall_score(y_test, y_pred_1)\n",
    "f1_1 = f1_score(y_test, y_pred_1)\n",
    "\n",
    "# Print performance metrics\n",
    "print(f\"Accuracy: {accuracy_1:.2f}\")\n",
    "print(f\"Precision: {precision_1:.2f}\")\n",
    "print(f\"Recall: {recall_1:.2f}\")\n",
    "print(f\"F1 Score: {f1_1:.2f}\")\n",
    "\n",
    "# Classification report\n",
    "print(\"Classification Report:\\n\", classification_report(y_test, y_pred_1))\n"
   ]
  },
  {
   "cell_type": "code",
   "execution_count": null,
   "id": "b353d6f9",
   "metadata": {},
   "outputs": [],
   "source": [
    "# Calculate the confusion matrix\n",
    "cm_1 = confusion_matrix(y_test, y_pred_1)"
   ]
  },
  {
   "cell_type": "code",
   "execution_count": null,
   "id": "fe731fe3",
   "metadata": {},
   "outputs": [
    {
     "data": {
      "image/png": "[encoded data removed]",
      "text/plain": [
       "<Figure size 1000x700 with 2 Axes>"
      ]
     },
     "metadata": {},
     "output_type": "display_data"
    }
   ],
   "source": [
    "# Plot the confusion matrix\n",
    "plt.figure(figsize=(10, 7))\n",
    "ax = sns.heatmap(cm_1, annot=True, fmt=\"d\", cmap=\"coolwarm\", cbar=True)\n",
    "\n",
    "# Set axis labels and title\n",
    "ax.set_xlabel('Predicted labels')\n",
    "ax.set_ylabel('True labels')\n",
    "ax.set_title('Confusion Matrix - Simple RNN')\n",
    "\n",
    "# Set custom tick labels\n",
    "ax.xaxis.set_ticklabels(['Fake News', 'Real News'])\n",
    "ax.yaxis.set_ticklabels(['Fake News', 'Real News'])\n",
    "\n",
    "# Show the plot\n",
    "plt.show()\n"
   ]
  },
  {
   "cell_type": "markdown",
   "id": "eb9acf42-f95a-489f-a4da-2070527ff456",
   "metadata": {},
   "source": [
    "Analysis"
   ]
  },
  {
   "cell_type": "markdown",
   "id": "bcf04d60",
   "metadata": {},
   "source": [
    "Analysis:\n",
    "\t- The model correctly recognized 9498 ‘fake news’ items and correctly classified 9907 ‘real news’ items.\n",
    "\t- However, it made 944 errors by classifying ‘fake news’ as ‘real news’.\n",
    "\t- 1292 ‘real news’ was incorrectly classified as ‘fake news’.\n",
    "\n",
    "Interpretation:\n",
    "\n",
    "The number of false positives (1292) and false negatives (944) indicates that the model has room for improvement in reliably distinguishing ‘fake news’ from ‘real news’."
   ]
  },
  {
   "cell_type": "code",
   "execution_count": 61,
   "id": "6f11072f",
   "metadata": {},
   "outputs": [
    {
     "name": "stderr",
     "output_type": "stream",
     "text": [
      "WARNING:absl:You are saving your model as an HDF5 file via `model.save()` or `keras.saving.save_model(model)`. This file format is considered legacy. We recommend using instead the native Keras format, e.g. `model.save('my_model.keras')` or `keras.saving.save_model(model, 'my_model.keras')`. \n"
     ]
    }
   ],
   "source": [
    "rnn_model_1.save('trained_rnn_model_1.h5') # save in h5 compressed format"
   ]
  },
  {
   "cell_type": "markdown",
   "id": "53f61d69",
   "metadata": {},
   "source": [
    "### Tuning Simple RNN Model 2"
   ]
  },
  {
   "cell_type": "code",
   "execution_count": 64,
   "id": "ca221fc5",
   "metadata": {},
   "outputs": [],
   "source": [
    "# Instantiate the model\n",
    "rnn_model_2 = Sequential()\n",
    "\n",
    "# Add an embedding layer\n",
    "rnn_model_2.add(Embedding(input_dim=5000, output_dim=128))\n",
    "\n",
    "# Add a simple RNN layer with 128 units\n",
    "rnn_model_2.add(SimpleRNN(units=32, return_sequences=False))\n",
    "\n",
    "# Add dropout layers to prevent overfitting\n",
    "rnn_model_2.add(Dropout(rate=0.1))\n",
    "\n",
    "# Add another dense layer and dropout layer\n",
    "rnn_model_2.add(Dense(units=64, activation='relu'))\n",
    "rnn_model_2.add(Dropout(rate=0.1))\n",
    "\n",
    "# Add the final dense output layer with sigmoid activation\n",
    "rnn_model_2.add(Dense(units=1, activation='sigmoid'))"
   ]
  },
  {
   "cell_type": "code",
   "execution_count": null,
   "id": "2b02cdbf",
   "metadata": {},
   "outputs": [],
   "source": [
    "# Adjust the Adam optimizer parameters\n",
    "optimizer = RMSprop()\n",
    "\n",
    "# Compile the model\n",
    "rnn_model_2.compile(optimizer=optimizer, loss='binary_crossentropy', metrics=['accuracy'])"
   ]
  },
  {
   "cell_type": "markdown",
   "id": "36f13aca",
   "metadata": {},
   "source": [
    "Train the Model"
   ]
  },
  {
   "cell_type": "code",
   "execution_count": 66,
   "id": "54b05663",
   "metadata": {},
   "outputs": [
    {
     "name": "stdout",
     "output_type": "stream",
     "text": [
      "Epoch 1/10\n",
      "\u001b[1m789/789\u001b[0m \u001b[32m━━━━━━━━━━━━━━━━━━━━\u001b[0m\u001b[37m\u001b[0m \u001b[1m174s\u001b[0m 208ms/step - accuracy: 0.8715 - loss: 0.3070 - val_accuracy: 0.9290 - val_loss: 0.1731\n",
      "Epoch 2/10\n",
      "\u001b[1m789/789\u001b[0m \u001b[32m━━━━━━━━━━━━━━━━━━━━\u001b[0m\u001b[37m\u001b[0m \u001b[1m164s\u001b[0m 208ms/step - accuracy: 0.9437 - loss: 0.1478 - val_accuracy: 0.9468 - val_loss: 0.1406\n",
      "Epoch 3/10\n",
      "\u001b[1m789/789\u001b[0m \u001b[32m━━━━━━━━━━━━━━━━━━━━\u001b[0m\u001b[37m\u001b[0m \u001b[1m173s\u001b[0m 219ms/step - accuracy: 0.9647 - loss: 0.1022 - val_accuracy: 0.9506 - val_loss: 0.1449\n",
      "Epoch 4/10\n",
      "\u001b[1m789/789\u001b[0m \u001b[32m━━━━━━━━━━━━━━━━━━━━\u001b[0m\u001b[37m\u001b[0m \u001b[1m171s\u001b[0m 219ms/step - accuracy: 0.9768 - loss: 0.0681 - val_accuracy: 0.9465 - val_loss: 0.1520\n",
      "Epoch 5/10\n",
      "\u001b[1m789/789\u001b[0m \u001b[32m━━━━━━━━━━━━━━━━━━━━\u001b[0m\u001b[37m\u001b[0m \u001b[1m170s\u001b[0m 215ms/step - accuracy: 0.9836 - loss: 0.0495 - val_accuracy: 0.9439 - val_loss: 0.2185\n"
     ]
    }
   ],
   "source": [
    "# Early stopping\n",
    "early_stopping = EarlyStopping(monitor='val_loss', patience=3, restore_best_weights=True)\n",
    "\n",
    "# Train the model with early stopping and model checkpoint\n",
    "history_2 = rnn_model_2.fit(\n",
    "    X_train, y_train,\n",
    "    epochs=10,\n",
    "    batch_size=64,\n",
    "    validation_data=(X_test, y_test),\n",
    "    callbacks=[early_stopping]\n",
    ")"
   ]
  },
  {
   "cell_type": "code",
   "execution_count": 67,
   "id": "0c15c545",
   "metadata": {},
   "outputs": [
    {
     "data": {
      "image/png": "[encoded data removed]",
      "text/plain": [
       "<Figure size 1400x500 with 2 Axes>"
      ]
     },
     "metadata": {},
     "output_type": "display_data"
    }
   ],
   "source": [
    "# Plot training & validation accuracy values\n",
    "plt.figure(figsize=(14, 5))\n",
    "\n",
    "plt.subplot(1, 2, 1)\n",
    "plt.plot(history_2.history['accuracy'])\n",
    "plt.plot(history_2.history['val_accuracy'])\n",
    "plt.title('Model accuracy')\n",
    "plt.ylabel('Accuracy')\n",
    "plt.xlabel('Epoch')\n",
    "plt.legend(['Train', 'Test'], loc='upper left')\n",
    "\n",
    "# Plot training & validation loss values\n",
    "plt.subplot(1, 2, 2)\n",
    "plt.plot(history_2.history['loss'])\n",
    "plt.plot(history_2.history['val_loss'])\n",
    "plt.title('Model loss')\n",
    "plt.ylabel('Loss')\n",
    "plt.xlabel('Epoch')\n",
    "plt.legend(['Train', 'Test'], loc='upper left')\n",
    "\n",
    "plt.show()\n"
   ]
  },
  {
   "cell_type": "markdown",
   "id": "81d48a5b",
   "metadata": {},
   "source": [
    "Evaluate the Model"
   ]
  },
  {
   "cell_type": "code",
   "execution_count": 69,
   "id": "39174d8d",
   "metadata": {},
   "outputs": [
    {
     "name": "stdout",
     "output_type": "stream",
     "text": [
      "\u001b[1m677/677\u001b[0m \u001b[32m━━━━━━━━━━━━━━━━━━━━\u001b[0m\u001b[37m\u001b[0m \u001b[1m33s\u001b[0m 49ms/step - accuracy: 0.9475 - loss: 0.1345\n",
      "Test Accuracy: 0.95\n"
     ]
    }
   ],
   "source": [
    "# Evaluate the model on the test data\n",
    "loss_2, accuracy_2 = rnn_model_2.evaluate(X_test, y_test)\n",
    "print(f\"Test Accuracy: {accuracy_2:.2f}\")"
   ]
  },
  {
   "cell_type": "markdown",
   "id": "39a48ede",
   "metadata": {},
   "source": [
    "Predict"
   ]
  },
  {
   "cell_type": "code",
   "execution_count": 70,
   "id": "9097b6f1",
   "metadata": {},
   "outputs": [
    {
     "name": "stdout",
     "output_type": "stream",
     "text": [
      "\u001b[1m677/677\u001b[0m \u001b[32m━━━━━━━━━━━━━━━━━━━━\u001b[0m\u001b[37m\u001b[0m \u001b[1m32s\u001b[0m 47ms/step\n"
     ]
    }
   ],
   "source": [
    "# Generate predictions\n",
    "y_pred_prob_2 = rnn_model_2.predict(X_test)\n",
    "# Convert probabs to 0 or 1\n",
    "y_pred_2 = (y_pred_prob_2 > 0.5).astype(int)"
   ]
  },
  {
   "cell_type": "code",
   "execution_count": 71,
   "id": "49a40119",
   "metadata": {},
   "outputs": [
    {
     "name": "stdout",
     "output_type": "stream",
     "text": [
      "Accuracy: 0.95\n",
      "Precision: 0.95\n",
      "Recall: 0.95\n",
      "F1 Score: 0.95\n",
      "Classification Report:\n",
      "               precision    recall  f1-score   support\n",
      "\n",
      "           0       0.94      0.94      0.94     10442\n",
      "           1       0.95      0.95      0.95     11199\n",
      "\n",
      "    accuracy                           0.95     21641\n",
      "   macro avg       0.95      0.95      0.95     21641\n",
      "weighted avg       0.95      0.95      0.95     21641\n",
      "\n"
     ]
    }
   ],
   "source": [
    "# Performance metrics\n",
    "perfomance_accuracy_2 = accuracy_score(y_test, y_pred_2)\n",
    "perfomance_precision_2 = precision_score(y_test, y_pred_2)\n",
    "perfomance_recall_2 = recall_score(y_test, y_pred_2)\n",
    "perfomance_f1_2 = f1_score(y_test, y_pred_2)\n",
    "\n",
    "# Print performance metrics\n",
    "print(f\"Accuracy: {perfomance_accuracy_2:.2f}\")\n",
    "print(f\"Precision: {perfomance_precision_2:.2f}\")\n",
    "print(f\"Recall: {perfomance_recall_2:.2f}\")\n",
    "print(f\"F1 Score: {perfomance_f1_2:.2f}\")\n",
    "\n",
    "# Classification report\n",
    "print(\"Classification Report:\\n\", classification_report(y_test, y_pred_2))\n"
   ]
  },
  {
   "cell_type": "code",
   "execution_count": 72,
   "id": "b664176b",
   "metadata": {},
   "outputs": [],
   "source": [
    "# Calculate the confusion matrix\n",
    "cm_2 = confusion_matrix(y_test, y_pred_2)"
   ]
  },
  {
   "cell_type": "code",
   "execution_count": 83,
   "id": "cd9282cf",
   "metadata": {},
   "outputs": [
    {
     "data": {
      "text/plain": [
       "array([[ 9867,   575],\n",
       "       [  576, 10623]])"
      ]
     },
     "execution_count": 83,
     "metadata": {},
     "output_type": "execute_result"
    }
   ],
   "source": [
    "cm_2"
   ]
  },
  {
   "cell_type": "code",
   "execution_count": 73,
   "id": "1bb0f658",
   "metadata": {},
   "outputs": [
    {
     "data": {
      "image/png": "[encoded data removed]",
      "text/plain": [
       "<Figure size 1000x700 with 2 Axes>"
      ]
     },
     "metadata": {},
     "output_type": "display_data"
    }
   ],
   "source": [
    "# Plot the confusion matrix\n",
    "plt.figure(figsize=(10, 7))\n",
    "ax = sns.heatmap(cm_2, annot=True, fmt=\"d\", cmap=\"coolwarm\", cbar=True)\n",
    "\n",
    "# Set axis labels and title\n",
    "ax.set_xlabel('Predicted labels')\n",
    "ax.set_ylabel('True labels')\n",
    "ax.set_title('Confusion Matrix - Simple RNN')\n",
    "\n",
    "# Set custom tick labels\n",
    "ax.xaxis.set_ticklabels(['Fake News', 'Real News'])\n",
    "ax.yaxis.set_ticklabels(['Fake News', 'Real News'])\n",
    "\n",
    "# Show the plot\n",
    "plt.show()\n"
   ]
  },
  {
   "cell_type": "markdown",
   "id": "d1940106",
   "metadata": {},
   "source": [
    "Analysis"
   ]
  },
  {
   "cell_type": "markdown",
   "id": "0fab2769",
   "metadata": {},
   "source": [
    "Analysis:\n",
    "\t- The model correctly recognized 9867 ‘fake news’ items and correctly classified 10623 ‘real news’ items.\n",
    "\t- However, it made 575 errors by classifying ‘fake news’ as ‘real news’.\n",
    "\t- 576 ‘real news’ was incorrectly classified as ‘fake news’.\n",
    "\n",
    "Interpretation:\n",
    "\n",
    "The reduction in number of false positives (576) and false negatives (575) indicates that the model tunning has resulted in an accurate predicyion model, with and accuracy of 95%."
   ]
  },
  {
   "cell_type": "code",
   "execution_count": 74,
   "id": "275e54d7",
   "metadata": {},
   "outputs": [
    {
     "name": "stderr",
     "output_type": "stream",
     "text": [
      "WARNING:absl:You are saving your model as an HDF5 file via `model.save()` or `keras.saving.save_model(model)`. This file format is considered legacy. We recommend using instead the native Keras format, e.g. `model.save('my_model.keras')` or `keras.saving.save_model(model, 'my_model.keras')`. \n"
     ]
    }
   ],
   "source": [
    "rnn_model_2.save('trained_rnn_model_2.h5') # save in h5 compressed format"
   ]
  },
  {
   "cell_type": "markdown",
   "id": "35e139b3-17c8-4677-96c3-17c65d98c71a",
   "metadata": {},
   "source": [
    "## Loading saved model and testing"
   ]
  },
  {
   "cell_type": "code",
   "execution_count": 85,
   "id": "55262ca7",
   "metadata": {},
   "outputs": [
    {
     "name": "stderr",
     "output_type": "stream",
     "text": [
      "WARNING:absl:Compiled the loaded model, but the compiled metrics have yet to be built. `model.compile_metrics` will be empty until you train or evaluate the model.\n"
     ]
    }
   ],
   "source": [
    "trained_rnn_model_2_h5 = tf.keras.models.load_model('trained_rnn_model_2.h5')"
   ]
  },
  {
   "cell_type": "code",
   "execution_count": 86,
   "id": "ae013977",
   "metadata": {},
   "outputs": [
    {
     "data": {
      "text/html": [
       "<pre style=\"white-space:pre;overflow-x:auto;line-height:normal;font-family:Menlo,'DejaVu Sans Mono',consolas,'Courier New',monospace\"><span style=\"font-weight: bold\">Model: \"sequential_3\"</span>\n",
       "</pre>\n"
      ],
      "text/plain": [
       "\u001b[1mModel: \"sequential_3\"\u001b[0m\n"
      ]
     },
     "metadata": {},
     "output_type": "display_data"
    },
    {
     "data": {
      "text/html": [
       "<pre style=\"white-space:pre;overflow-x:auto;line-height:normal;font-family:Menlo,'DejaVu Sans Mono',consolas,'Courier New',monospace\">┏━━━━━━━━━━━━━━━━━━━━━━━━━━━━━━━━━┳━━━━━━━━━━━━━━━━━━━━━━━━┳━━━━━━━━━━━━━━━┓\n",
       "┃<span style=\"font-weight: bold\"> Layer (type)                    </span>┃<span style=\"font-weight: bold\"> Output Shape           </span>┃<span style=\"font-weight: bold\">       Param # </span>┃\n",
       "┡━━━━━━━━━━━━━━━━━━━━━━━━━━━━━━━━━╇━━━━━━━━━━━━━━━━━━━━━━━━╇━━━━━━━━━━━━━━━┩\n",
       "│ embedding_3 (<span style=\"color: #0087ff; text-decoration-color: #0087ff\">Embedding</span>)         │ (<span style=\"color: #00d7ff; text-decoration-color: #00d7ff\">None</span>, <span style=\"color: #00af00; text-decoration-color: #00af00\">500</span>, <span style=\"color: #00af00; text-decoration-color: #00af00\">128</span>)       │       <span style=\"color: #00af00; text-decoration-color: #00af00\">640,000</span> │\n",
       "├─────────────────────────────────┼────────────────────────┼───────────────┤\n",
       "│ simple_rnn_3 (<span style=\"color: #0087ff; text-decoration-color: #0087ff\">SimpleRNN</span>)        │ (<span style=\"color: #00d7ff; text-decoration-color: #00d7ff\">None</span>, <span style=\"color: #00af00; text-decoration-color: #00af00\">32</span>)             │         <span style=\"color: #00af00; text-decoration-color: #00af00\">5,152</span> │\n",
       "├─────────────────────────────────┼────────────────────────┼───────────────┤\n",
       "│ dropout_6 (<span style=\"color: #0087ff; text-decoration-color: #0087ff\">Dropout</span>)             │ (<span style=\"color: #00d7ff; text-decoration-color: #00d7ff\">None</span>, <span style=\"color: #00af00; text-decoration-color: #00af00\">32</span>)             │             <span style=\"color: #00af00; text-decoration-color: #00af00\">0</span> │\n",
       "├─────────────────────────────────┼────────────────────────┼───────────────┤\n",
       "│ dense_6 (<span style=\"color: #0087ff; text-decoration-color: #0087ff\">Dense</span>)                 │ (<span style=\"color: #00d7ff; text-decoration-color: #00d7ff\">None</span>, <span style=\"color: #00af00; text-decoration-color: #00af00\">64</span>)             │         <span style=\"color: #00af00; text-decoration-color: #00af00\">2,112</span> │\n",
       "├─────────────────────────────────┼────────────────────────┼───────────────┤\n",
       "│ dropout_7 (<span style=\"color: #0087ff; text-decoration-color: #0087ff\">Dropout</span>)             │ (<span style=\"color: #00d7ff; text-decoration-color: #00d7ff\">None</span>, <span style=\"color: #00af00; text-decoration-color: #00af00\">64</span>)             │             <span style=\"color: #00af00; text-decoration-color: #00af00\">0</span> │\n",
       "├─────────────────────────────────┼────────────────────────┼───────────────┤\n",
       "│ dense_7 (<span style=\"color: #0087ff; text-decoration-color: #0087ff\">Dense</span>)                 │ (<span style=\"color: #00d7ff; text-decoration-color: #00d7ff\">None</span>, <span style=\"color: #00af00; text-decoration-color: #00af00\">1</span>)              │            <span style=\"color: #00af00; text-decoration-color: #00af00\">65</span> │\n",
       "└─────────────────────────────────┴────────────────────────┴───────────────┘\n",
       "</pre>\n"
      ],
      "text/plain": [
       "┏━━━━━━━━━━━━━━━━━━━━━━━━━━━━━━━━━┳━━━━━━━━━━━━━━━━━━━━━━━━┳━━━━━━━━━━━━━━━┓\n",
       "┃\u001b[1m \u001b[0m\u001b[1mLayer (type)                   \u001b[0m\u001b[1m \u001b[0m┃\u001b[1m \u001b[0m\u001b[1mOutput Shape          \u001b[0m\u001b[1m \u001b[0m┃\u001b[1m \u001b[0m\u001b[1m      Param #\u001b[0m\u001b[1m \u001b[0m┃\n",
       "┡━━━━━━━━━━━━━━━━━━━━━━━━━━━━━━━━━╇━━━━━━━━━━━━━━━━━━━━━━━━╇━━━━━━━━━━━━━━━┩\n",
       "│ embedding_3 (\u001b[38;5;33mEmbedding\u001b[0m)         │ (\u001b[38;5;45mNone\u001b[0m, \u001b[38;5;34m500\u001b[0m, \u001b[38;5;34m128\u001b[0m)       │       \u001b[38;5;34m640,000\u001b[0m │\n",
       "├─────────────────────────────────┼────────────────────────┼───────────────┤\n",
       "│ simple_rnn_3 (\u001b[38;5;33mSimpleRNN\u001b[0m)        │ (\u001b[38;5;45mNone\u001b[0m, \u001b[38;5;34m32\u001b[0m)             │         \u001b[38;5;34m5,152\u001b[0m │\n",
       "├─────────────────────────────────┼────────────────────────┼───────────────┤\n",
       "│ dropout_6 (\u001b[38;5;33mDropout\u001b[0m)             │ (\u001b[38;5;45mNone\u001b[0m, \u001b[38;5;34m32\u001b[0m)             │             \u001b[38;5;34m0\u001b[0m │\n",
       "├─────────────────────────────────┼────────────────────────┼───────────────┤\n",
       "│ dense_6 (\u001b[38;5;33mDense\u001b[0m)                 │ (\u001b[38;5;45mNone\u001b[0m, \u001b[38;5;34m64\u001b[0m)             │         \u001b[38;5;34m2,112\u001b[0m │\n",
       "├─────────────────────────────────┼────────────────────────┼───────────────┤\n",
       "│ dropout_7 (\u001b[38;5;33mDropout\u001b[0m)             │ (\u001b[38;5;45mNone\u001b[0m, \u001b[38;5;34m64\u001b[0m)             │             \u001b[38;5;34m0\u001b[0m │\n",
       "├─────────────────────────────────┼────────────────────────┼───────────────┤\n",
       "│ dense_7 (\u001b[38;5;33mDense\u001b[0m)                 │ (\u001b[38;5;45mNone\u001b[0m, \u001b[38;5;34m1\u001b[0m)              │            \u001b[38;5;34m65\u001b[0m │\n",
       "└─────────────────────────────────┴────────────────────────┴───────────────┘\n"
      ]
     },
     "metadata": {},
     "output_type": "display_data"
    },
    {
     "data": {
      "text/html": [
       "<pre style=\"white-space:pre;overflow-x:auto;line-height:normal;font-family:Menlo,'DejaVu Sans Mono',consolas,'Courier New',monospace\"><span style=\"font-weight: bold\"> Total params: </span><span style=\"color: #00af00; text-decoration-color: #00af00\">647,331</span> (2.47 MB)\n",
       "</pre>\n"
      ],
      "text/plain": [
       "\u001b[1m Total params: \u001b[0m\u001b[38;5;34m647,331\u001b[0m (2.47 MB)\n"
      ]
     },
     "metadata": {},
     "output_type": "display_data"
    },
    {
     "data": {
      "text/html": [
       "<pre style=\"white-space:pre;overflow-x:auto;line-height:normal;font-family:Menlo,'DejaVu Sans Mono',consolas,'Courier New',monospace\"><span style=\"font-weight: bold\"> Trainable params: </span><span style=\"color: #00af00; text-decoration-color: #00af00\">647,329</span> (2.47 MB)\n",
       "</pre>\n"
      ],
      "text/plain": [
       "\u001b[1m Trainable params: \u001b[0m\u001b[38;5;34m647,329\u001b[0m (2.47 MB)\n"
      ]
     },
     "metadata": {},
     "output_type": "display_data"
    },
    {
     "data": {
      "text/html": [
       "<pre style=\"white-space:pre;overflow-x:auto;line-height:normal;font-family:Menlo,'DejaVu Sans Mono',consolas,'Courier New',monospace\"><span style=\"font-weight: bold\"> Non-trainable params: </span><span style=\"color: #00af00; text-decoration-color: #00af00\">0</span> (0.00 B)\n",
       "</pre>\n"
      ],
      "text/plain": [
       "\u001b[1m Non-trainable params: \u001b[0m\u001b[38;5;34m0\u001b[0m (0.00 B)\n"
      ]
     },
     "metadata": {},
     "output_type": "display_data"
    },
    {
     "data": {
      "text/html": [
       "<pre style=\"white-space:pre;overflow-x:auto;line-height:normal;font-family:Menlo,'DejaVu Sans Mono',consolas,'Courier New',monospace\"><span style=\"font-weight: bold\"> Optimizer params: </span><span style=\"color: #00af00; text-decoration-color: #00af00\">2</span> (12.00 B)\n",
       "</pre>\n"
      ],
      "text/plain": [
       "\u001b[1m Optimizer params: \u001b[0m\u001b[38;5;34m2\u001b[0m (12.00 B)\n"
      ]
     },
     "metadata": {},
     "output_type": "display_data"
    }
   ],
   "source": [
    "trained_rnn_model_2_h5.summary()"
   ]
  },
  {
   "cell_type": "code",
   "execution_count": 87,
   "id": "741139d5",
   "metadata": {},
   "outputs": [],
   "source": [
    "# The article text\n",
    "article_text = \"A Fargo, North Dakota, man was arrested for clearing snow with a flamethrower.\"\n"
   ]
  },
  {
   "cell_type": "code",
   "execution_count": 88,
   "id": "2d5cdff3",
   "metadata": {},
   "outputs": [],
   "source": [
    "# Preprocess the text (same steps as during training)\n",
    "article_cleaned = basic_cleaning(article_text)\n",
    "article_nlp = nlp_cleaning(pd.DataFrame([article_cleaned]))"
   ]
  },
  {
   "cell_type": "code",
   "execution_count": 89,
   "id": "9548e378",
   "metadata": {},
   "outputs": [
    {
     "ename": "IndexError",
     "evalue": "string index out of range",
     "output_type": "error",
     "traceback": [
      "\u001b[0;31m---------------------------------------------------------------------------\u001b[0m",
      "\u001b[0;31mIndexError\u001b[0m                                Traceback (most recent call last)",
      "Cell \u001b[0;32mIn[89], line 2\u001b[0m\n\u001b[1;32m      1\u001b[0m \u001b[38;5;66;03m# Tokenize and pad the sequence\u001b[39;00m\n\u001b[0;32m----> 2\u001b[0m article_seq \u001b[38;5;241m=\u001b[39m tokenizer\u001b[38;5;241m.\u001b[39mtexts_to_sequences(\u001b[43marticle_nlp\u001b[49m\u001b[43m[\u001b[49m\u001b[38;5;241;43m0\u001b[39;49m\u001b[43m]\u001b[49m)\n\u001b[1;32m      3\u001b[0m article_padded \u001b[38;5;241m=\u001b[39m pad_sequences(article_seq, maxlen\u001b[38;5;241m=\u001b[39m\u001b[38;5;241m500\u001b[39m)\n",
      "\u001b[0;31mIndexError\u001b[0m: string index out of range"
     ]
    }
   ],
   "source": [
    "# Tokenize and pad the sequence\n",
    "article_seq = tokenizer.texts_to_sequences(article_nlp[0])\n",
    "article_padded = pad_sequences(article_seq, maxlen=500)"
   ]
  },
  {
   "cell_type": "code",
   "execution_count": 84,
   "id": "c96896a0",
   "metadata": {},
   "outputs": [
    {
     "name": "stderr",
     "output_type": "stream",
     "text": [
      "/home/jarrod/.pyenv/versions/Fake_news_detection/lib/python3.10/site-packages/keras/src/trainers/epoch_iterator.py:151: UserWarning: Your input ran out of data; interrupting training. Make sure that your dataset or generator can generate at least `steps_per_epoch * epochs` batches. You may need to use the `.repeat()` function when building your dataset.\n",
      "  self._interrupted_warning()\n"
     ]
    },
    {
     "ename": "ValueError",
     "evalue": "math domain error",
     "output_type": "error",
     "traceback": [
      "\u001b[0;31m---------------------------------------------------------------------------\u001b[0m",
      "\u001b[0;31mValueError\u001b[0m                                Traceback (most recent call last)",
      "Cell \u001b[0;32mIn[84], line 2\u001b[0m\n\u001b[1;32m      1\u001b[0m \u001b[38;5;66;03m# Predict the probability\u001b[39;00m\n\u001b[0;32m----> 2\u001b[0m prediction_prob \u001b[38;5;241m=\u001b[39m \u001b[43mtrained_rnn_model_2_h5\u001b[49m\u001b[38;5;241;43m.\u001b[39;49m\u001b[43mpredict\u001b[49m\u001b[43m(\u001b[49m\u001b[43marticle_padded\u001b[49m\u001b[43m)\u001b[49m\n",
      "File \u001b[0;32m~/.pyenv/versions/Fake_news_detection/lib/python3.10/site-packages/keras/src/utils/traceback_utils.py:122\u001b[0m, in \u001b[0;36mfilter_traceback.<locals>.error_handler\u001b[0;34m(*args, **kwargs)\u001b[0m\n\u001b[1;32m    119\u001b[0m     filtered_tb \u001b[38;5;241m=\u001b[39m _process_traceback_frames(e\u001b[38;5;241m.\u001b[39m__traceback__)\n\u001b[1;32m    120\u001b[0m     \u001b[38;5;66;03m# To get the full stack trace, call:\u001b[39;00m\n\u001b[1;32m    121\u001b[0m     \u001b[38;5;66;03m# `keras.config.disable_traceback_filtering()`\u001b[39;00m\n\u001b[0;32m--> 122\u001b[0m     \u001b[38;5;28;01mraise\u001b[39;00m e\u001b[38;5;241m.\u001b[39mwith_traceback(filtered_tb) \u001b[38;5;28;01mfrom\u001b[39;00m \u001b[38;5;28;01mNone\u001b[39;00m\n\u001b[1;32m    123\u001b[0m \u001b[38;5;28;01mfinally\u001b[39;00m:\n\u001b[1;32m    124\u001b[0m     \u001b[38;5;28;01mdel\u001b[39;00m filtered_tb\n",
      "File \u001b[0;32m~/.pyenv/versions/Fake_news_detection/lib/python3.10/site-packages/keras/src/utils/progbar.py:119\u001b[0m, in \u001b[0;36mProgbar.update\u001b[0;34m(self, current, values, finalize)\u001b[0m\n\u001b[1;32m    116\u001b[0m     message \u001b[38;5;241m+\u001b[39m\u001b[38;5;241m=\u001b[39m \u001b[38;5;124m\"\u001b[39m\u001b[38;5;130;01m\\n\u001b[39;00m\u001b[38;5;124m\"\u001b[39m\n\u001b[1;32m    118\u001b[0m \u001b[38;5;28;01mif\u001b[39;00m \u001b[38;5;28mself\u001b[39m\u001b[38;5;241m.\u001b[39mtarget \u001b[38;5;129;01mis\u001b[39;00m \u001b[38;5;129;01mnot\u001b[39;00m \u001b[38;5;28;01mNone\u001b[39;00m:\n\u001b[0;32m--> 119\u001b[0m     numdigits \u001b[38;5;241m=\u001b[39m \u001b[38;5;28mint\u001b[39m(\u001b[43mmath\u001b[49m\u001b[38;5;241;43m.\u001b[39;49m\u001b[43mlog10\u001b[49m\u001b[43m(\u001b[49m\u001b[38;5;28;43mself\u001b[39;49m\u001b[38;5;241;43m.\u001b[39;49m\u001b[43mtarget\u001b[49m\u001b[43m)\u001b[49m) \u001b[38;5;241m+\u001b[39m \u001b[38;5;241m1\u001b[39m\n\u001b[1;32m    120\u001b[0m     bar \u001b[38;5;241m=\u001b[39m (\u001b[38;5;124m\"\u001b[39m\u001b[38;5;124m%\u001b[39m\u001b[38;5;124m\"\u001b[39m \u001b[38;5;241m+\u001b[39m \u001b[38;5;28mstr\u001b[39m(numdigits) \u001b[38;5;241m+\u001b[39m \u001b[38;5;124m\"\u001b[39m\u001b[38;5;124md/\u001b[39m\u001b[38;5;132;01m%d\u001b[39;00m\u001b[38;5;124m\"\u001b[39m) \u001b[38;5;241m%\u001b[39m (current, \u001b[38;5;28mself\u001b[39m\u001b[38;5;241m.\u001b[39mtarget)\n\u001b[1;32m    121\u001b[0m     bar \u001b[38;5;241m=\u001b[39m \u001b[38;5;124mf\u001b[39m\u001b[38;5;124m\"\u001b[39m\u001b[38;5;130;01m\\x1b\u001b[39;00m\u001b[38;5;124m[1m\u001b[39m\u001b[38;5;132;01m{\u001b[39;00mbar\u001b[38;5;132;01m}\u001b[39;00m\u001b[38;5;130;01m\\x1b\u001b[39;00m\u001b[38;5;124m[0m \u001b[39m\u001b[38;5;124m\"\u001b[39m\n",
      "\u001b[0;31mValueError\u001b[0m: math domain error"
     ]
    }
   ],
   "source": [
    "# Predict the probability\n",
    "prediction_prob = trained_rnn_model_2_h5.predict(article_padded)\n"
   ]
  },
  {
   "cell_type": "code",
   "execution_count": null,
   "id": "a6042476",
   "metadata": {},
   "outputs": [],
   "source": [
    "\n",
    "# Convert probability to binary prediction (0 or 1)\n",
    "prediction = (prediction_prob > 0.5).astype(int)\n",
    "\n",
    "# Interpret the prediction\n",
    "if prediction[0][0] == 1:\n",
    "    result = \"Fake News\"\n",
    "else:\n",
    "    result = \"Real News\"\n",
    "\n",
    "print(f\"Prediction: {result}\")\n"
   ]
  },
  {
   "cell_type": "markdown",
   "id": "b30366e4",
   "metadata": {},
   "source": [
    "## Hyperparameter tuning function"
   ]
  },
  {
   "cell_type": "code",
   "execution_count": null,
   "id": "5c74b9c7",
   "metadata": {},
   "outputs": [],
   "source": [
    "# Define the hypermodel class\n",
    "class MyHyperModel(HyperModel):\n",
    "    def build(self, hp):\n",
    "        model = Sequential()\n",
    "        model.add(Embedding(input_dim=5000, output_dim=128))\n",
    "        model.add(SimpleRNN(units=hp.Int('units', min_value=32, max_value=256, step=32)))\n",
    "        model.add(Dropout(rate=hp.Float('dropout', min_value=0.1, max_value=0.5, step=0.1)))\n",
    "        model.add(Dense(units=hp.Int('dense_units', min_value=32, max_value=256, step=32), activation='relu'))\n",
    "        model.add(Dropout(rate=hp.Float('dropout', min_value=0.1, max_value=0.5, step=0.1)))\n",
    "        model.add(Dense(units=1, activation='sigmoid'))\n",
    "\n",
    "        model.compile(\n",
    "            optimizer=hp.Choice('optimizer', values=['adam', 'sgd', 'rmsprop']),\n",
    "            loss='binary_crossentropy',\n",
    "            metrics=['accuracy']\n",
    "        )\n",
    "        return model\n"
   ]
  },
  {
   "cell_type": "code",
   "execution_count": 52,
   "id": "4c1b5f5c",
   "metadata": {},
   "outputs": [],
   "source": [
    "\n",
    "# Initialize the tuner\n",
    "tuner = RandomSearch(\n",
    "    MyHyperModel(),\n",
    "    objective='val_accuracy',\n",
    "    max_trials=5,\n",
    "    executions_per_trial=3,\n",
    "    directory='hyperparam_tuning',\n",
    "    project_name='fake_news_detection'\n",
    ")\n"
   ]
  },
  {
   "cell_type": "code",
   "execution_count": 53,
   "id": "ce69c3d2",
   "metadata": {},
   "outputs": [
    {
     "name": "stdout",
     "output_type": "stream",
     "text": [
      "Trial 5 Complete [01h 43m 13s]\n",
      "val_accuracy: 0.9450733860333761\n",
      "\n",
      "Best val_accuracy So Far: 0.9502949714660645\n",
      "Total elapsed time: 08h 35m 19s\n",
      "Best units: 32\n",
      "Best dropout: 0.1\n",
      "Best optimizer: rmsprop\n"
     ]
    }
   ],
   "source": [
    "\n",
    "# Perform the search\n",
    "tuner.search(X_train, y_train, epochs=10, validation_data=(X_test, y_test))\n",
    "\n",
    "# Get the best hyperparameters\n",
    "best_hp = tuner.get_best_hyperparameters(num_trials=1)[0]\n",
    "print(f\"Best units: {best_hp.get('units')}\")\n",
    "print(f\"Best dropout: {best_hp.get('dropout')}\")\n",
    "print(f\"Best optimizer: {best_hp.get('optimizer')}\")\n"
   ]
  },
  {
   "cell_type": "code",
   "execution_count": 54,
   "id": "2652e796",
   "metadata": {},
   "outputs": [],
   "source": [
    "\n",
    "# Build and train the best model\n",
    "best_model = tuner.hypermodel.build(best_hp)\n"
   ]
  },
  {
   "cell_type": "code",
   "execution_count": 56,
   "id": "dc629e77",
   "metadata": {},
   "outputs": [
    {
     "data": {
      "text/html": [
       "<pre style=\"white-space:pre;overflow-x:auto;line-height:normal;font-family:Menlo,'DejaVu Sans Mono',consolas,'Courier New',monospace\"><span style=\"font-weight: bold\">Model: \"sequential_1\"</span>\n",
       "</pre>\n"
      ],
      "text/plain": [
       "\u001b[1mModel: \"sequential_1\"\u001b[0m\n"
      ]
     },
     "metadata": {},
     "output_type": "display_data"
    },
    {
     "data": {
      "text/html": [
       "<pre style=\"white-space:pre;overflow-x:auto;line-height:normal;font-family:Menlo,'DejaVu Sans Mono',consolas,'Courier New',monospace\">┏━━━━━━━━━━━━━━━━━━━━━━━━━━━━━━━━━┳━━━━━━━━━━━━━━━━━━━━━━━━┳━━━━━━━━━━━━━━━┓\n",
       "┃<span style=\"font-weight: bold\"> Layer (type)                    </span>┃<span style=\"font-weight: bold\"> Output Shape           </span>┃<span style=\"font-weight: bold\">       Param # </span>┃\n",
       "┡━━━━━━━━━━━━━━━━━━━━━━━━━━━━━━━━━╇━━━━━━━━━━━━━━━━━━━━━━━━╇━━━━━━━━━━━━━━━┩\n",
       "│ embedding_1 (<span style=\"color: #0087ff; text-decoration-color: #0087ff\">Embedding</span>)         │ (<span style=\"color: #00d7ff; text-decoration-color: #00d7ff\">None</span>, <span style=\"color: #00af00; text-decoration-color: #00af00\">500</span>, <span style=\"color: #00af00; text-decoration-color: #00af00\">128</span>)       │       <span style=\"color: #00af00; text-decoration-color: #00af00\">640,000</span> │\n",
       "├─────────────────────────────────┼────────────────────────┼───────────────┤\n",
       "│ simple_rnn_1 (<span style=\"color: #0087ff; text-decoration-color: #0087ff\">SimpleRNN</span>)        │ (<span style=\"color: #00d7ff; text-decoration-color: #00d7ff\">None</span>, <span style=\"color: #00af00; text-decoration-color: #00af00\">32</span>)             │         <span style=\"color: #00af00; text-decoration-color: #00af00\">5,152</span> │\n",
       "├─────────────────────────────────┼────────────────────────┼───────────────┤\n",
       "│ dropout_2 (<span style=\"color: #0087ff; text-decoration-color: #0087ff\">Dropout</span>)             │ (<span style=\"color: #00d7ff; text-decoration-color: #00d7ff\">None</span>, <span style=\"color: #00af00; text-decoration-color: #00af00\">32</span>)             │             <span style=\"color: #00af00; text-decoration-color: #00af00\">0</span> │\n",
       "├─────────────────────────────────┼────────────────────────┼───────────────┤\n",
       "│ dense_2 (<span style=\"color: #0087ff; text-decoration-color: #0087ff\">Dense</span>)                 │ (<span style=\"color: #00d7ff; text-decoration-color: #00d7ff\">None</span>, <span style=\"color: #00af00; text-decoration-color: #00af00\">64</span>)             │         <span style=\"color: #00af00; text-decoration-color: #00af00\">2,112</span> │\n",
       "├─────────────────────────────────┼────────────────────────┼───────────────┤\n",
       "│ dropout_3 (<span style=\"color: #0087ff; text-decoration-color: #0087ff\">Dropout</span>)             │ (<span style=\"color: #00d7ff; text-decoration-color: #00d7ff\">None</span>, <span style=\"color: #00af00; text-decoration-color: #00af00\">64</span>)             │             <span style=\"color: #00af00; text-decoration-color: #00af00\">0</span> │\n",
       "├─────────────────────────────────┼────────────────────────┼───────────────┤\n",
       "│ dense_3 (<span style=\"color: #0087ff; text-decoration-color: #0087ff\">Dense</span>)                 │ (<span style=\"color: #00d7ff; text-decoration-color: #00d7ff\">None</span>, <span style=\"color: #00af00; text-decoration-color: #00af00\">1</span>)              │            <span style=\"color: #00af00; text-decoration-color: #00af00\">65</span> │\n",
       "└─────────────────────────────────┴────────────────────────┴───────────────┘\n",
       "</pre>\n"
      ],
      "text/plain": [
       "┏━━━━━━━━━━━━━━━━━━━━━━━━━━━━━━━━━┳━━━━━━━━━━━━━━━━━━━━━━━━┳━━━━━━━━━━━━━━━┓\n",
       "┃\u001b[1m \u001b[0m\u001b[1mLayer (type)                   \u001b[0m\u001b[1m \u001b[0m┃\u001b[1m \u001b[0m\u001b[1mOutput Shape          \u001b[0m\u001b[1m \u001b[0m┃\u001b[1m \u001b[0m\u001b[1m      Param #\u001b[0m\u001b[1m \u001b[0m┃\n",
       "┡━━━━━━━━━━━━━━━━━━━━━━━━━━━━━━━━━╇━━━━━━━━━━━━━━━━━━━━━━━━╇━━━━━━━━━━━━━━━┩\n",
       "│ embedding_1 (\u001b[38;5;33mEmbedding\u001b[0m)         │ (\u001b[38;5;45mNone\u001b[0m, \u001b[38;5;34m500\u001b[0m, \u001b[38;5;34m128\u001b[0m)       │       \u001b[38;5;34m640,000\u001b[0m │\n",
       "├─────────────────────────────────┼────────────────────────┼───────────────┤\n",
       "│ simple_rnn_1 (\u001b[38;5;33mSimpleRNN\u001b[0m)        │ (\u001b[38;5;45mNone\u001b[0m, \u001b[38;5;34m32\u001b[0m)             │         \u001b[38;5;34m5,152\u001b[0m │\n",
       "├─────────────────────────────────┼────────────────────────┼───────────────┤\n",
       "│ dropout_2 (\u001b[38;5;33mDropout\u001b[0m)             │ (\u001b[38;5;45mNone\u001b[0m, \u001b[38;5;34m32\u001b[0m)             │             \u001b[38;5;34m0\u001b[0m │\n",
       "├─────────────────────────────────┼────────────────────────┼───────────────┤\n",
       "│ dense_2 (\u001b[38;5;33mDense\u001b[0m)                 │ (\u001b[38;5;45mNone\u001b[0m, \u001b[38;5;34m64\u001b[0m)             │         \u001b[38;5;34m2,112\u001b[0m │\n",
       "├─────────────────────────────────┼────────────────────────┼───────────────┤\n",
       "│ dropout_3 (\u001b[38;5;33mDropout\u001b[0m)             │ (\u001b[38;5;45mNone\u001b[0m, \u001b[38;5;34m64\u001b[0m)             │             \u001b[38;5;34m0\u001b[0m │\n",
       "├─────────────────────────────────┼────────────────────────┼───────────────┤\n",
       "│ dense_3 (\u001b[38;5;33mDense\u001b[0m)                 │ (\u001b[38;5;45mNone\u001b[0m, \u001b[38;5;34m1\u001b[0m)              │            \u001b[38;5;34m65\u001b[0m │\n",
       "└─────────────────────────────────┴────────────────────────┴───────────────┘\n"
      ]
     },
     "metadata": {},
     "output_type": "display_data"
    },
    {
     "data": {
      "text/html": [
       "<pre style=\"white-space:pre;overflow-x:auto;line-height:normal;font-family:Menlo,'DejaVu Sans Mono',consolas,'Courier New',monospace\"><span style=\"font-weight: bold\"> Total params: </span><span style=\"color: #00af00; text-decoration-color: #00af00\">1,294,660</span> (4.94 MB)\n",
       "</pre>\n"
      ],
      "text/plain": [
       "\u001b[1m Total params: \u001b[0m\u001b[38;5;34m1,294,660\u001b[0m (4.94 MB)\n"
      ]
     },
     "metadata": {},
     "output_type": "display_data"
    },
    {
     "data": {
      "text/html": [
       "<pre style=\"white-space:pre;overflow-x:auto;line-height:normal;font-family:Menlo,'DejaVu Sans Mono',consolas,'Courier New',monospace\"><span style=\"font-weight: bold\"> Trainable params: </span><span style=\"color: #00af00; text-decoration-color: #00af00\">647,329</span> (2.47 MB)\n",
       "</pre>\n"
      ],
      "text/plain": [
       "\u001b[1m Trainable params: \u001b[0m\u001b[38;5;34m647,329\u001b[0m (2.47 MB)\n"
      ]
     },
     "metadata": {},
     "output_type": "display_data"
    },
    {
     "data": {
      "text/html": [
       "<pre style=\"white-space:pre;overflow-x:auto;line-height:normal;font-family:Menlo,'DejaVu Sans Mono',consolas,'Courier New',monospace\"><span style=\"font-weight: bold\"> Non-trainable params: </span><span style=\"color: #00af00; text-decoration-color: #00af00\">0</span> (0.00 B)\n",
       "</pre>\n"
      ],
      "text/plain": [
       "\u001b[1m Non-trainable params: \u001b[0m\u001b[38;5;34m0\u001b[0m (0.00 B)\n"
      ]
     },
     "metadata": {},
     "output_type": "display_data"
    },
    {
     "data": {
      "text/html": [
       "<pre style=\"white-space:pre;overflow-x:auto;line-height:normal;font-family:Menlo,'DejaVu Sans Mono',consolas,'Courier New',monospace\"><span style=\"font-weight: bold\"> Optimizer params: </span><span style=\"color: #00af00; text-decoration-color: #00af00\">647,331</span> (2.47 MB)\n",
       "</pre>\n"
      ],
      "text/plain": [
       "\u001b[1m Optimizer params: \u001b[0m\u001b[38;5;34m647,331\u001b[0m (2.47 MB)\n"
      ]
     },
     "metadata": {},
     "output_type": "display_data"
    }
   ],
   "source": [
    "best_model.summary()"
   ]
  },
  {
   "cell_type": "code",
   "execution_count": 55,
   "id": "827072ed",
   "metadata": {},
   "outputs": [
    {
     "name": "stdout",
     "output_type": "stream",
     "text": [
      "Epoch 1/10\n",
      "\u001b[1m1578/1578\u001b[0m \u001b[32m━━━━━━━━━━━━━━━━━━━━\u001b[0m\u001b[37m\u001b[0m \u001b[1m200s\u001b[0m 124ms/step - accuracy: 0.8736 - loss: 0.3007 - val_accuracy: 0.9445 - val_loss: 0.1554\n",
      "Epoch 2/10\n",
      "\u001b[1m1578/1578\u001b[0m \u001b[32m━━━━━━━━━━━━━━━━━━━━\u001b[0m\u001b[37m\u001b[0m \u001b[1m198s\u001b[0m 126ms/step - accuracy: 0.9494 - loss: 0.1404 - val_accuracy: 0.9392 - val_loss: 0.1615\n",
      "Epoch 3/10\n",
      "\u001b[1m1578/1578\u001b[0m \u001b[32m━━━━━━━━━━━━━━━━━━━━\u001b[0m\u001b[37m\u001b[0m \u001b[1m199s\u001b[0m 126ms/step - accuracy: 0.9596 - loss: 0.1179 - val_accuracy: 0.9557 - val_loss: 0.1420\n",
      "Epoch 4/10\n",
      "\u001b[1m1578/1578\u001b[0m \u001b[32m━━━━━━━━━━━━━━━━━━━━\u001b[0m\u001b[37m\u001b[0m \u001b[1m200s\u001b[0m 126ms/step - accuracy: 0.9669 - loss: 0.0967 - val_accuracy: 0.9419 - val_loss: 0.1896\n",
      "Epoch 5/10\n",
      "\u001b[1m1578/1578\u001b[0m \u001b[32m━━━━━━━━━━━━━━━━━━━━\u001b[0m\u001b[37m\u001b[0m \u001b[1m197s\u001b[0m 125ms/step - accuracy: 0.9728 - loss: 0.0804 - val_accuracy: 0.9179 - val_loss: 0.2325\n",
      "Epoch 6/10\n",
      "\u001b[1m1578/1578\u001b[0m \u001b[32m━━━━━━━━━━━━━━━━━━━━\u001b[0m\u001b[37m\u001b[0m \u001b[1m198s\u001b[0m 125ms/step - accuracy: 0.9803 - loss: 0.0611 - val_accuracy: 0.9338 - val_loss: 0.2053\n",
      "Epoch 7/10\n",
      "\u001b[1m1578/1578\u001b[0m \u001b[32m━━━━━━━━━━━━━━━━━━━━\u001b[0m\u001b[37m\u001b[0m \u001b[1m200s\u001b[0m 127ms/step - accuracy: 0.9857 - loss: 0.0465 - val_accuracy: 0.9399 - val_loss: 0.1975\n",
      "Epoch 8/10\n",
      "\u001b[1m1578/1578\u001b[0m \u001b[32m━━━━━━━━━━━━━━━━━━━━\u001b[0m\u001b[37m\u001b[0m \u001b[1m199s\u001b[0m 126ms/step - accuracy: 0.9889 - loss: 0.0350 - val_accuracy: 0.9302 - val_loss: 0.2489\n",
      "Epoch 9/10\n",
      "\u001b[1m1578/1578\u001b[0m \u001b[32m━━━━━━━━━━━━━━━━━━━━\u001b[0m\u001b[37m\u001b[0m \u001b[1m199s\u001b[0m 126ms/step - accuracy: 0.9900 - loss: 0.0315 - val_accuracy: 0.9326 - val_loss: 0.3548\n",
      "Epoch 10/10\n",
      "\u001b[1m1578/1578\u001b[0m \u001b[32m━━━━━━━━━━━━━━━━━━━━\u001b[0m\u001b[37m\u001b[0m \u001b[1m198s\u001b[0m 125ms/step - accuracy: 0.9922 - loss: 0.0245 - val_accuracy: 0.9356 - val_loss: 0.3070\n"
     ]
    },
    {
     "data": {
      "text/plain": [
       "<keras.src.callbacks.history.History at 0x7f8282a41e70>"
      ]
     },
     "execution_count": 55,
     "metadata": {},
     "output_type": "execute_result"
    }
   ],
   "source": [
    "best_model.fit(X_train, y_train, epochs=10, validation_data=(X_test, y_test))\n"
   ]
  }
 ],
 "metadata": {
  "kernelspec": {
   "display_name": "Fake_news_detection",
   "language": "python",
   "name": "python3"
  },
  "language_info": {
   "codemirror_mode": {
    "name": "ipython",
    "version": 3
   },
   "file_extension": ".py",
   "mimetype": "text/x-python",
   "name": "python",
   "nbconvert_exporter": "python",
   "pygments_lexer": "ipython3",
   "version": "3.10.6"
  },
  "toc": {
   "base_numbering": 1,
   "nav_menu": {},
   "number_sections": true,
   "sideBar": true,
   "skip_h1_title": false,
   "title_cell": "Table of Contents",
   "title_sidebar": "Contents",
   "toc_cell": false,
   "toc_position": {},
   "toc_section_display": true,
   "toc_window_display": false
  }
 },
 "nbformat": 4,
 "nbformat_minor": 5
}
