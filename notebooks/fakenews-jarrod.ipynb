{
 "cells": [
  {
   "cell_type": "markdown",
   "id": "9003cf94",
   "metadata": {},
   "source": [
    "# Libraries"
   ]
  },
  {
   "cell_type": "code",
   "execution_count": 2,
   "id": "13af4e71",
   "metadata": {},
   "outputs": [],
   "source": [
    "import pandas as pd\n",
    "import re\n",
    "import string\n",
    "import time\n",
    "import numpy as np\n",
    "\n",
    "# %pip install nltk\n",
    "\n",
    "import nltk\n",
    "from nltk.corpus import stopwords\n",
    "from nltk.tokenize import word_tokenize\n",
    "from nltk.stem import WordNetLemmatizer\n",
    "\n",
    "from sklearn.model_selection import train_test_split\n",
    "from sklearn.metrics import confusion_matrix, accuracy_score, precision_score, recall_score, f1_score, classification_report\n",
    "\n",
    "import tensorflow as tf\n",
    "from tensorflow.keras.preprocessing.text import Tokenizer\n",
    "from tensorflow.keras.preprocessing.sequence import pad_sequences\n",
    "from tensorflow.keras.models import Sequential\n",
    "from tensorflow.keras.layers import Embedding, SimpleRNN, Dense, Dropout, LSTM\n",
    "from tensorflow.keras.optimizers import Adam\n",
    "from tensorflow.keras.callbacks import EarlyStopping\n",
    "from tensorflow.keras.optimizers import Adam, RMSprop\n",
    "\n",
    "from kerastuner import RandomSearch, HyperModel\n",
    "\n",
    "import seaborn as sns\n",
    "import matplotlib.pyplot as plt\n",
    "\n",
    "import pickle"
   ]
  },
  {
   "cell_type": "markdown",
   "id": "19f90093",
   "metadata": {},
   "source": [
    "# REPLACED - Original preprocessing functions"
   ]
  },
  {
   "cell_type": "markdown",
   "id": "464a25a3-3d36-4f0c-8254-a246b6738000",
   "metadata": {},
   "source": [
    "## Data cleaning: strip, lower, digit, punctuation"
   ]
  },
  {
   "cell_type": "code",
   "execution_count": 3,
   "id": "7addb5c5",
   "metadata": {},
   "outputs": [],
   "source": [
    "# def basic_cleaning(text):\n",
    "#     # stripping:\n",
    "#     data['text'] = data['text'].str.strip()\n",
    "\n",
    "#     # tolower:\n",
    "#     data['text'] = data['text'].str.lower()\n",
    "\n",
    "#     # digit: Remove digits from each row of the ‘text’ column\n",
    "#     data['text'] = data['text'].apply(lambda x: ''.join(char for char in x if not char.isdigit()))\n",
    "\n",
    "#     # punctuation: Remove all punctuation marks from the ‘text’ column\n",
    "#     data['text'] = data['text'].str.replace(r'[{}]'.format(re.escape(string.punctuation)), '', regex=True)\n",
    "\n",
    "#     # delete html-tags\n",
    "#     data['text'] = data['text'].apply(lambda x: re.sub('<[^<]+?>', '', x))\n",
    "\n",
    "#     return data['text']\n"
   ]
  },
  {
   "cell_type": "markdown",
   "id": "c6eace4f",
   "metadata": {},
   "source": [
    "## Data cleaning: tokenizing, stopwords, lemmatize"
   ]
  },
  {
   "cell_type": "code",
   "execution_count": 4,
   "id": "8d9f52c8",
   "metadata": {},
   "outputs": [],
   "source": [
    "# stop_words = set(stopwords.words('english'))\n",
    "\n",
    "# # Tokenise and remove stop words\n",
    "# def delete_stop_words(text):\n",
    "#     return [word for word in text if word.lower() not in stop_words and word not in string.punctuation]\n",
    "\n",
    "# # apply Lemmatization-Funktion\n",
    "# def lemmatize_text(text):\n",
    "#     lemmatizer = WordNetLemmatizer()\n",
    "#     # Verben lemmatisieren\n",
    "#     verb_lemmatized = [lemmatizer.lemmatize(word, pos=\"v\") for word in text]\n",
    "#     # Nomen lemmatisieren\n",
    "#     return [lemmatizer.lemmatize(word, pos=\"n\") for word in verb_lemmatized]\n",
    "\n",
    "# NLP-Cleaningfunktion\n",
    "# def nlp_cleaning(texte):\n",
    "#     # Tokenisation\n",
    "#     texte = texte.apply(word_tokenize)\n",
    "#     # Remove stop words\n",
    "#     texte = texte.apply(delete_stop_words)\n",
    "#     # Lemmatisation\n",
    "#     texte = texte.apply(lemmatize_text)\n",
    "#     # Combine words into a string\n",
    "#     return texte.apply(lambda x: ' '.join(x))\n"
   ]
  },
  {
   "cell_type": "markdown",
   "id": "d0dcde28-be5d-46b0-89b8-76790391d6b3",
   "metadata": {},
   "source": [
    "# Load and Preprocess Data"
   ]
  },
  {
   "cell_type": "markdown",
   "id": "d857e2d7",
   "metadata": {},
   "source": [
    "### Load data"
   ]
  },
  {
   "cell_type": "code",
   "execution_count": 5,
   "id": "daf291c9",
   "metadata": {},
   "outputs": [],
   "source": [
    "# Load the data\n",
    "data = pd.read_csv('../data/raw_data.csv')"
   ]
  },
  {
   "cell_type": "code",
   "execution_count": 6,
   "id": "85e857f3",
   "metadata": {},
   "outputs": [
    {
     "data": {
      "text/plain": [
       "(72134, 4)"
      ]
     },
     "execution_count": 6,
     "metadata": {},
     "output_type": "execute_result"
    }
   ],
   "source": [
    "data.shape"
   ]
  },
  {
   "cell_type": "code",
   "execution_count": 7,
   "id": "ab530f31",
   "metadata": {},
   "outputs": [],
   "source": [
    "data['text'] = data['text'].astype('string')\n",
    "data['title'] = data['title'].astype('string')\n",
    "data['label'] = data['label'].astype('bool')"
   ]
  },
  {
   "cell_type": "code",
   "execution_count": 8,
   "id": "8b0b8040",
   "metadata": {},
   "outputs": [
    {
     "name": "stdout",
     "output_type": "stream",
     "text": [
      "<class 'pandas.core.frame.DataFrame'>\n",
      "RangeIndex: 72134 entries, 0 to 72133\n",
      "Data columns (total 4 columns):\n",
      " #   Column      Non-Null Count  Dtype \n",
      "---  ------      --------------  ----- \n",
      " 0   Unnamed: 0  72134 non-null  int64 \n",
      " 1   title       71576 non-null  string\n",
      " 2   text        72095 non-null  string\n",
      " 3   label       72134 non-null  bool  \n",
      "dtypes: bool(1), int64(1), string(2)\n",
      "memory usage: 1.7 MB\n"
     ]
    }
   ],
   "source": [
    "data.info()"
   ]
  },
  {
   "cell_type": "code",
   "execution_count": 9,
   "id": "50813e51",
   "metadata": {},
   "outputs": [
    {
     "data": {
      "text/plain": [
       "True     37106\n",
       "False    35028\n",
       "Name: label, dtype: int64"
      ]
     },
     "execution_count": 9,
     "metadata": {},
     "output_type": "execute_result"
    }
   ],
   "source": [
    "data.label.value_counts()\n"
   ]
  },
  {
   "cell_type": "markdown",
   "id": "700eca78",
   "metadata": {},
   "source": [
    "### Replace N/As"
   ]
  },
  {
   "cell_type": "code",
   "execution_count": 10,
   "id": "6ffee2d4",
   "metadata": {},
   "outputs": [
    {
     "name": "stdout",
     "output_type": "stream",
     "text": [
      "Unnamed: 0    0\n",
      "title         0\n",
      "text          0\n",
      "label         0\n",
      "dtype: int64\n"
     ]
    }
   ],
   "source": [
    "# Fill missing values with spaces\n",
    "data = data.fillna(' ')\n",
    "\n",
    "# Verify that there are no missing values\n",
    "print(data.isnull().sum())"
   ]
  },
  {
   "cell_type": "markdown",
   "id": "e6e62f42",
   "metadata": {},
   "source": [
    "### Concatenate features"
   ]
  },
  {
   "cell_type": "code",
   "execution_count": 11,
   "id": "bbd8328b",
   "metadata": {},
   "outputs": [
    {
     "name": "stdout",
     "output_type": "stream",
     "text": [
      "                                                         text  label\n",
      "Unnamed: 0                                                          \n",
      "0           LAW ENFORCEMENT ON HIGH ALERT Following Threat...   True\n",
      "1              Did they post their votes for Hillary already?   True\n"
     ]
    }
   ],
   "source": [
    "# Combine 'title' and 'text' columns, then drop 'title' column\n",
    "data['text'] = data['title'] + ' ' + data['text']\n",
    "data.drop('title', axis=1, inplace=True)\n",
    "\n",
    "# Set the index to maintain the original indexing\n",
    "data.set_index('Unnamed: 0', inplace=True)\n",
    "\n",
    "# Verify the changes\n",
    "print(data.head(2))"
   ]
  },
  {
   "cell_type": "markdown",
   "id": "814d2c57",
   "metadata": {},
   "source": [
    "### Train-Test Split"
   ]
  },
  {
   "cell_type": "code",
   "execution_count": 12,
   "id": "094d244d",
   "metadata": {},
   "outputs": [
    {
     "name": "stdout",
     "output_type": "stream",
     "text": [
      "(72134,)\n",
      "(72134,)\n"
     ]
    }
   ],
   "source": [
    "# Separate the features (text) and labels (label) into X and y\n",
    "X = data['text']\n",
    "y = data['label']\n",
    "\n",
    "# Verify the separation\n",
    "print(X.shape)\n",
    "print(y.shape)"
   ]
  },
  {
   "cell_type": "code",
   "execution_count": 13,
   "id": "25e743fc",
   "metadata": {},
   "outputs": [
    {
     "name": "stdout",
     "output_type": "stream",
     "text": [
      "X_train shape: (50493,), X_test shape: (21641,)\n",
      "y_train shape: (50493,), y_test shape: (21641,)\n"
     ]
    }
   ],
   "source": [
    "# Split the data into training and testing sets (70% training, 30% testing)\n",
    "X_train, X_test, y_train, y_test = train_test_split(X, y, test_size=0.3, random_state=42)\n",
    "\n",
    "# Verify the shapes\n",
    "print(f\"X_train shape: {X_train.shape}, X_test shape: {X_test.shape}\")\n",
    "print(f\"y_train shape: {y_train.shape}, y_test shape: {y_test.shape}\")"
   ]
  },
  {
   "cell_type": "markdown",
   "id": "9ccb3635",
   "metadata": {},
   "source": [
    "### Basic cleaning"
   ]
  },
  {
   "cell_type": "code",
   "execution_count": 14,
   "id": "4359d5b5",
   "metadata": {},
   "outputs": [],
   "source": [
    "def basic_cleaning(text: str) -> str:\n",
    "    text = text.strip().lower()\n",
    "    text = ''.join(char for char in text if not char.isdigit())\n",
    "    text = re.sub(r'[{}]'.format(re.escape(string.punctuation)), '', text)\n",
    "    text = re.sub('<[^<]+?>', '', text)\n",
    "    return text"
   ]
  },
  {
   "cell_type": "code",
   "execution_count": 15,
   "id": "0b24721b",
   "metadata": {},
   "outputs": [
    {
     "name": "stdout",
     "output_type": "stream",
     "text": [
      "Unnamed: 0\n",
      "60480    media goes nuts after trump tweets hilarious v...\n",
      "61738    poll finds white republicans are angry nearly ...\n",
      "Name: text, dtype: object\n",
      "Unnamed: 0\n",
      "61370    arnold schwarzenegger sends a message to liber...\n",
      "2189     wow “we mexicans need to kill donald trump bef...\n",
      "Name: text, dtype: object\n"
     ]
    }
   ],
   "source": [
    "# Apply basic cleaning to the 'text' column\n",
    "X_train_clean = X_train.apply(basic_cleaning)\n",
    "X_test_clean = X_test.apply(basic_cleaning)\n",
    "# Verify the changes\n",
    "print(X_train_clean.head(2))\n",
    "print(X_test_clean.head(2))"
   ]
  },
  {
   "cell_type": "code",
   "execution_count": 16,
   "id": "8ae3323f",
   "metadata": {},
   "outputs": [
    {
     "data": {
      "text/plain": [
       "((50493,), (21641,))"
      ]
     },
     "execution_count": 16,
     "metadata": {},
     "output_type": "execute_result"
    }
   ],
   "source": [
    "X_train_clean.shape, X_test_clean.shape"
   ]
  },
  {
   "cell_type": "markdown",
   "id": "6e5085aa",
   "metadata": {},
   "source": [
    "### NLP cleaning"
   ]
  },
  {
   "cell_type": "code",
   "execution_count": 17,
   "id": "ddc8223d",
   "metadata": {},
   "outputs": [],
   "source": [
    "stop_words = set(stopwords.words('english'))\n",
    "\n",
    "# Tokenise and remove stop words\n",
    "def delete_stop_words(text):\n",
    "    return [word for word in text if word.lower() not in stop_words and word not in string.punctuation]\n",
    "\n",
    "# Apply Lemmatization Function\n",
    "def lemmatize_text(text):\n",
    "    lemmatizer = WordNetLemmatizer()\n",
    "    # Lemmatize verbs\n",
    "    verb_lemmatized = [lemmatizer.lemmatize(word, pos=\"v\") for word in text]\n",
    "    # Lemmatize nouns\n",
    "    return [lemmatizer.lemmatize(word, pos=\"n\") for word in verb_lemmatized]\n",
    "\n",
    "# Combined NLP Cleaning Function\n",
    "def nlp_cleaning(text: str) -> str:\n",
    "    tokens = word_tokenize(text)\n",
    "    tokens = delete_stop_words(tokens)\n",
    "    tokens = lemmatize_text(tokens)\n",
    "    return ' '.join(tokens)\n"
   ]
  },
  {
   "cell_type": "code",
   "execution_count": 18,
   "id": "b940a5f3",
   "metadata": {},
   "outputs": [
    {
     "name": "stdout",
     "output_type": "stream",
     "text": [
      "Unnamed: 0\n",
      "60480    MEDIA GOES NUTS After Trump Tweets HILARIOUS V...\n",
      "61738     Poll Finds White Republicans Are Angry Nearly...\n",
      "Name: text, dtype: string\n",
      "Unnamed: 0\n",
      "60480    medium go nut trump tweet hilarious video show...\n",
      "61738    poll find white republican angry nearly time n...\n",
      "Name: text, dtype: object\n"
     ]
    }
   ],
   "source": [
    "# Apply NLP cleaning to the 'text' column\n",
    "X_train_processed = X_train_clean.apply(nlp_cleaning)\n",
    "X_test_processed = X_test_clean.apply(nlp_cleaning)\n",
    "\n",
    "# Verify the changes\n",
    "print(X_train.head(2))\n",
    "print(X_train_processed.head(2))"
   ]
  },
  {
   "cell_type": "code",
   "execution_count": 19,
   "id": "ef5e8d43",
   "metadata": {},
   "outputs": [
    {
     "data": {
      "text/plain": [
       "((50493,), (21641,))"
      ]
     },
     "execution_count": 19,
     "metadata": {},
     "output_type": "execute_result"
    }
   ],
   "source": [
    "X_train_processed.shape, X_test_processed.shape"
   ]
  },
  {
   "cell_type": "markdown",
   "id": "fd08bee7",
   "metadata": {},
   "source": [
    "### Tokenize and Pad Sequences"
   ]
  },
  {
   "cell_type": "code",
   "execution_count": 20,
   "id": "7c88ce77",
   "metadata": {},
   "outputs": [],
   "source": [
    "# Tokenize and pad sequences\n",
    "tokenizer = Tokenizer(num_words=5000)\n",
    "tokenizer.fit_on_texts(X_train_processed)\n",
    "X_train_seq = tokenizer.texts_to_sequences(X_train_processed)\n",
    "X_test_seq = tokenizer.texts_to_sequences(X_test_processed)\n",
    "\n",
    "# Pad the sequences to ensure they have the same length\n",
    "max_length = 500\n",
    "X_train_padded = pad_sequences(X_train_seq, maxlen=max_length, dtype='float32', padding='pre', value=0)\n",
    "X_test_padded = pad_sequences(X_test_seq, maxlen=max_length, dtype='float32', padding='pre', value=0)\n"
   ]
  },
  {
   "cell_type": "code",
   "execution_count": 21,
   "id": "269b1273",
   "metadata": {},
   "outputs": [],
   "source": [
    "with open('tokenizer.pkl', 'wb') as file:\n",
    "    pickle.dump(tokenizer, file)"
   ]
  },
  {
   "cell_type": "code",
   "execution_count": 22,
   "id": "3df5ea9d",
   "metadata": {},
   "outputs": [
    {
     "data": {
      "text/plain": [
       "((50493, 500), (21641, 500))"
      ]
     },
     "execution_count": 22,
     "metadata": {},
     "output_type": "execute_result"
    }
   ],
   "source": [
    "X_train_padded.shape, X_test_padded.shape"
   ]
  },
  {
   "cell_type": "code",
   "execution_count": 23,
   "id": "221ae0e8",
   "metadata": {},
   "outputs": [
    {
     "name": "stdout",
     "output_type": "stream",
     "text": [
      "[[   0.    0.    0. ...   37.  106.   10.]\n",
      " [   0.    0.    0. ...  175.  271. 4240.]\n",
      " [   0.    0.    0. ... 3297. 1262. 1763.]\n",
      " [   0.    0.    0. ... 4584.  227.  675.]\n",
      " [   0.    0.    0. ...  175.  309.  443.]]\n"
     ]
    }
   ],
   "source": [
    "# Verify the tokenized and padded sequences\n",
    "print(X_train_padded[:5])"
   ]
  },
  {
   "cell_type": "code",
   "execution_count": 24,
   "id": "b66c80cf",
   "metadata": {},
   "outputs": [
    {
     "name": "stdout",
     "output_type": "stream",
     "text": [
      "X_train shape: (50493, 500), X_test shape: (21641, 500)\n",
      "y_train shape: (50493,), y_test shape: (21641,)\n"
     ]
    }
   ],
   "source": [
    "# Verify the shapes\n",
    "print(f\"X_train shape: {X_train_padded.shape}, X_test shape: {X_test_padded.shape}\")\n",
    "print(f\"y_train shape: {y_train.shape}, y_test shape: {y_test.shape}\")"
   ]
  },
  {
   "cell_type": "markdown",
   "id": "2dc21b10",
   "metadata": {},
   "source": [
    "# RNN models"
   ]
  },
  {
   "cell_type": "markdown",
   "id": "37b99cb7",
   "metadata": {},
   "source": [
    "## Tuning RNN Model 1 - Test accuracy = 0.59"
   ]
  },
  {
   "cell_type": "code",
   "execution_count": 98,
   "id": "f2446ba8",
   "metadata": {},
   "outputs": [],
   "source": [
    "# Instantiate the model\n",
    "rnn_model_1 = Sequential()\n",
    "\n",
    "# Add an embedding layer\n",
    "rnn_model_1.add(Embedding(input_dim=5000, output_dim=128))\n",
    "\n",
    "# Add a simple RNN layer with 128 units\n",
    "rnn_model_1.add(SimpleRNN(units=128, return_sequences=False))\n",
    "\n",
    "# Add dropout layers to prevent overfitting\n",
    "rnn_model_1.add(Dropout(rate=0.5))\n",
    "\n",
    "# Add another dense layer and dropout layer\n",
    "rnn_model_1.add(Dense(units=64, activation='relu'))\n",
    "rnn_model_1.add(Dropout(rate=0.5))\n",
    "\n",
    "# Add the final dense output layer with sigmoid activation\n",
    "rnn_model_1.add(Dense(units=1, activation='sigmoid'))\n"
   ]
  },
  {
   "cell_type": "code",
   "execution_count": 99,
   "id": "07264348",
   "metadata": {},
   "outputs": [],
   "source": [
    "# Adjust the Adam optimizer parameters\n",
    "adam_optimizer = Adam(learning_rate=0.001, beta_1=0.9, beta_2=0.999)\n",
    "\n",
    "# Compile the model\n",
    "rnn_model_1.compile(optimizer=adam_optimizer, loss='binary_crossentropy', metrics=['accuracy'])"
   ]
  },
  {
   "cell_type": "markdown",
   "id": "e20cdb46",
   "metadata": {},
   "source": [
    "Train the Model"
   ]
  },
  {
   "cell_type": "code",
   "execution_count": 100,
   "id": "22e004de",
   "metadata": {},
   "outputs": [
    {
     "name": "stdout",
     "output_type": "stream",
     "text": [
      "Epoch 1/10\n",
      "789/789 [==============================] - 202s 254ms/step - loss: 0.6990 - accuracy: 0.5345 - val_loss: 0.6641 - val_accuracy: 0.5746\n",
      "Epoch 2/10\n",
      "789/789 [==============================] - 195s 248ms/step - loss: 0.6611 - accuracy: 0.5786 - val_loss: 0.6733 - val_accuracy: 0.5659\n",
      "Epoch 3/10\n",
      "789/789 [==============================] - 203s 258ms/step - loss: 0.6584 - accuracy: 0.5867 - val_loss: 0.6541 - val_accuracy: 0.5805\n",
      "Epoch 4/10\n",
      "789/789 [==============================] - 193s 245ms/step - loss: 0.6542 - accuracy: 0.6121 - val_loss: 0.6665 - val_accuracy: 0.6002\n",
      "Epoch 5/10\n",
      "789/789 [==============================] - 192s 243ms/step - loss: 0.6460 - accuracy: 0.5988 - val_loss: 0.6377 - val_accuracy: 0.6124\n",
      "Epoch 6/10\n",
      "789/789 [==============================] - 192s 243ms/step - loss: 0.6244 - accuracy: 0.6159 - val_loss: 0.6200 - val_accuracy: 0.6247\n",
      "Epoch 7/10\n",
      "789/789 [==============================] - 196s 248ms/step - loss: 0.6215 - accuracy: 0.6124 - val_loss: 0.6362 - val_accuracy: 0.5889\n",
      "Epoch 8/10\n",
      "789/789 [==============================] - 192s 244ms/step - loss: 0.6150 - accuracy: 0.6068 - val_loss: 0.6373 - val_accuracy: 0.5841\n",
      "Epoch 9/10\n",
      "789/789 [==============================] - 198s 251ms/step - loss: 0.5785 - accuracy: 0.6502 - val_loss: 0.5237 - val_accuracy: 0.7331\n",
      "Epoch 10/10\n",
      "789/789 [==============================] - 189s 240ms/step - loss: 0.5441 - accuracy: 0.7055 - val_loss: 0.6455 - val_accuracy: 0.5907\n"
     ]
    }
   ],
   "source": [
    "# Early stopping\n",
    "early_stopping = EarlyStopping(monitor='val_loss', patience=3, restore_best_weights=True)\n",
    "\n",
    "# Train the model with early stopping and model checkpoint\n",
    "history_1 = rnn_model_1.fit(\n",
    "    X_train_padded, y_train,\n",
    "    epochs=10,\n",
    "    batch_size=64,\n",
    "    validation_data=(X_test_padded, y_test),\n",
    "    callbacks=[early_stopping]\n",
    ")"
   ]
  },
  {
   "cell_type": "code",
   "execution_count": 101,
   "id": "18a98668",
   "metadata": {},
   "outputs": [
    {
     "data": {
      "image/png": "[encoded data removed]",
      "text/plain": [
       "<Figure size 1400x500 with 2 Axes>"
      ]
     },
     "metadata": {},
     "output_type": "display_data"
    }
   ],
   "source": [
    "# Plot training & validation accuracy values\n",
    "plt.figure(figsize=(14, 5))\n",
    "\n",
    "plt.subplot(1, 2, 1)\n",
    "plt.plot(history_1.history['accuracy'])\n",
    "plt.plot(history_1.history['val_accuracy'])\n",
    "plt.title('Model accuracy')\n",
    "plt.ylabel('Accuracy')\n",
    "plt.xlabel('Epoch')\n",
    "plt.legend(['Train', 'Test'], loc='upper left')\n",
    "\n",
    "# Plot training & validation loss values\n",
    "plt.subplot(1, 2, 2)\n",
    "plt.plot(history_1.history['loss'])\n",
    "plt.plot(history_1.history['val_loss'])\n",
    "plt.title('Model loss')\n",
    "plt.ylabel('Loss')\n",
    "plt.xlabel('Epoch')\n",
    "plt.legend(['Train', 'Test'], loc='upper left')\n",
    "\n",
    "plt.show()\n"
   ]
  },
  {
   "cell_type": "markdown",
   "id": "6cf993ed",
   "metadata": {},
   "source": [
    "Evaluate the Model"
   ]
  },
  {
   "cell_type": "code",
   "execution_count": 102,
   "id": "ec83a682",
   "metadata": {},
   "outputs": [
    {
     "name": "stdout",
     "output_type": "stream",
     "text": [
      "677/677 [==============================] - 35s 52ms/step - loss: 0.6455 - accuracy: 0.5907\n",
      "Test Accuracy: 0.59\n"
     ]
    }
   ],
   "source": [
    "# Evaluate the model on the test data\n",
    "loss_1, accuracy_1 = rnn_model_1.evaluate(X_test_padded, y_test)\n",
    "print(f\"Test Accuracy: {accuracy_1:.2f}\")"
   ]
  },
  {
   "cell_type": "markdown",
   "id": "3b2b54c1",
   "metadata": {},
   "source": [
    "Predict"
   ]
  },
  {
   "cell_type": "code",
   "execution_count": 103,
   "id": "af8c219c",
   "metadata": {},
   "outputs": [
    {
     "name": "stdout",
     "output_type": "stream",
     "text": [
      "677/677 [==============================] - 38s 55ms/step\n"
     ]
    }
   ],
   "source": [
    "# Generate predictions\n",
    "y_pred_prob_1 = rnn_model_1.predict(X_test_padded)\n",
    "# Convert probabs to 0 or 1\n",
    "y_pred_1 = (y_pred_prob_1 > 0.5).astype(int)"
   ]
  },
  {
   "cell_type": "code",
   "execution_count": 104,
   "id": "9aa3cb8f",
   "metadata": {},
   "outputs": [
    {
     "name": "stdout",
     "output_type": "stream",
     "text": [
      "Accuracy: 0.59\n",
      "Precision: 0.62\n",
      "Recall: 0.49\n",
      "F1 Score: 0.55\n",
      "Classification Report:\n",
      "               precision    recall  f1-score   support\n",
      "\n",
      "       False       0.57      0.69      0.62     10613\n",
      "        True       0.62      0.49      0.55     11028\n",
      "\n",
      "    accuracy                           0.59     21641\n",
      "   macro avg       0.60      0.59      0.59     21641\n",
      "weighted avg       0.60      0.59      0.59     21641\n",
      "\n"
     ]
    }
   ],
   "source": [
    "# Performance metrics\n",
    "accuracy_1 = accuracy_score(y_test, y_pred_1)\n",
    "precision_1 = precision_score(y_test, y_pred_1)\n",
    "recall_1 = recall_score(y_test, y_pred_1)\n",
    "f1_1 = f1_score(y_test, y_pred_1)\n",
    "\n",
    "# Print performance metrics\n",
    "print(f\"Accuracy: {accuracy_1:.2f}\")\n",
    "print(f\"Precision: {precision_1:.2f}\")\n",
    "print(f\"Recall: {recall_1:.2f}\")\n",
    "print(f\"F1 Score: {f1_1:.2f}\")\n",
    "\n",
    "# Classification report\n",
    "print(\"Classification Report:\\n\", classification_report(y_test, y_pred_1))\n"
   ]
  },
  {
   "cell_type": "code",
   "execution_count": 105,
   "id": "b353d6f9",
   "metadata": {},
   "outputs": [],
   "source": [
    "# Calculate the confusion matrix\n",
    "cm_1 = confusion_matrix(y_test, y_pred_1)"
   ]
  },
  {
   "cell_type": "code",
   "execution_count": 106,
   "id": "fe731fe3",
   "metadata": {},
   "outputs": [
    {
     "data": {
      "text/plain": [
       "array([[7329, 3284],\n",
       "       [5574, 5454]])"
      ]
     },
     "execution_count": 106,
     "metadata": {},
     "output_type": "execute_result"
    }
   ],
   "source": [
    "cm_1"
   ]
  },
  {
   "cell_type": "code",
   "execution_count": null,
   "id": "5f52b417",
   "metadata": {},
   "outputs": [
    {
     "data": {
      "image/png": "[encoded data removed]",
      "text/plain": [
       "<Figure size 640x480 with 2 Axes>"
      ]
     },
     "metadata": {},
     "output_type": "display_data"
    }
   ],
   "source": [
    "ax = sns.heatmap(cm_1, annot=True, cmap=\"coolwarm\", fmt=\"d\", cbar=True)\n",
    "ax.xaxis.set_ticklabels(['fake news','real news'])\n",
    "ax.yaxis.set_ticklabels(['fake news','real news'])\n",
    "ax.set_title('Confusion Matrix - HF Transformers',fontsize=18)\n",
    "\n",
    "plt.tight_layout()"
   ]
  },
  {
   "cell_type": "code",
   "execution_count": 108,
   "id": "6f11072f",
   "metadata": {},
   "outputs": [],
   "source": [
    "rnn_model_1.save('trained_rnn_model_20241218_1125_ta_59.h5') # save in h5 compressed format"
   ]
  },
  {
   "cell_type": "markdown",
   "id": "53f61d69",
   "metadata": {},
   "source": [
    "## Tuning RNN Model 2 - Test accuracy = 0.85"
   ]
  },
  {
   "cell_type": "code",
   "execution_count": 44,
   "id": "ca221fc5",
   "metadata": {},
   "outputs": [],
   "source": [
    "# Instantiate the model\n",
    "rnn_model_2 = Sequential()\n",
    "\n",
    "# Add an embedding layer\n",
    "rnn_model_2.add(Embedding(input_dim=5000, output_dim=128))\n",
    "\n",
    "# Add a simple RNN layer with 128 units\n",
    "rnn_model_2.add(SimpleRNN(units=32, return_sequences=False))\n",
    "\n",
    "# Add dropout layers to prevent overfitting\n",
    "rnn_model_2.add(Dropout(rate=0.1))\n",
    "\n",
    "# Add another dense layer and dropout layer\n",
    "rnn_model_2.add(Dense(units=64, activation='relu'))\n",
    "rnn_model_2.add(Dropout(rate=0.1))\n",
    "\n",
    "# Add the final dense output layer with sigmoid activation\n",
    "rnn_model_2.add(Dense(units=1, activation='sigmoid'))"
   ]
  },
  {
   "cell_type": "code",
   "execution_count": 47,
   "id": "2b02cdbf",
   "metadata": {},
   "outputs": [],
   "source": [
    "# Adjust the Adam optimizer parameters\n",
    "optimizer = RMSprop()\n",
    "\n",
    "# Compile the model\n",
    "rnn_model_2.compile(optimizer=optimizer, loss='binary_crossentropy', metrics=['accuracy'])"
   ]
  },
  {
   "cell_type": "markdown",
   "id": "36f13aca",
   "metadata": {},
   "source": [
    "Train the Model"
   ]
  },
  {
   "cell_type": "code",
   "execution_count": 48,
   "id": "54b05663",
   "metadata": {},
   "outputs": [
    {
     "name": "stdout",
     "output_type": "stream",
     "text": [
      "Epoch 1/10\n",
      "789/789 [==============================] - 156s 198ms/step - loss: 0.5616 - accuracy: 0.6863 - val_loss: 0.4533 - val_accuracy: 0.8469\n",
      "Epoch 2/10\n",
      "789/789 [==============================] - 156s 198ms/step - loss: 0.4362 - accuracy: 0.8177 - val_loss: 0.4062 - val_accuracy: 0.8514\n",
      "Epoch 3/10\n",
      "789/789 [==============================] - 154s 195ms/step - loss: 0.5142 - accuracy: 0.7155 - val_loss: 0.4120 - val_accuracy: 0.8506\n",
      "Epoch 4/10\n",
      "789/789 [==============================] - 155s 196ms/step - loss: 0.4664 - accuracy: 0.7640 - val_loss: 0.4970 - val_accuracy: 0.7469\n",
      "Epoch 5/10\n",
      "789/789 [==============================] - 155s 197ms/step - loss: 0.5605 - accuracy: 0.6504 - val_loss: 0.5812 - val_accuracy: 0.7160\n"
     ]
    }
   ],
   "source": [
    "# Early stopping\n",
    "early_stopping = EarlyStopping(monitor='val_loss', patience=3, restore_best_weights=True)\n",
    "\n",
    "# Train the model with early stopping and model checkpoint\n",
    "history_2 = rnn_model_2.fit(\n",
    "    X_train_padded, y_train,\n",
    "    epochs=10,\n",
    "    batch_size=64,\n",
    "    validation_data=(X_test_padded, y_test),\n",
    "    callbacks=[early_stopping]\n",
    ")"
   ]
  },
  {
   "cell_type": "code",
   "execution_count": 49,
   "id": "0c15c545",
   "metadata": {},
   "outputs": [
    {
     "data": {
      "image/png": "[encoded data removed]",
      "text/plain": [
       "<Figure size 1400x500 with 2 Axes>"
      ]
     },
     "metadata": {},
     "output_type": "display_data"
    }
   ],
   "source": [
    "# Plot training & validation accuracy values\n",
    "plt.figure(figsize=(14, 5))\n",
    "\n",
    "plt.subplot(1, 2, 1)\n",
    "plt.plot(history_2.history['accuracy'])\n",
    "plt.plot(history_2.history['val_accuracy'])\n",
    "plt.title('Model accuracy')\n",
    "plt.ylabel('Accuracy')\n",
    "plt.xlabel('Epoch')\n",
    "plt.legend(['Train', 'Test'], loc='upper left')\n",
    "\n",
    "# Plot training & validation loss values\n",
    "plt.subplot(1, 2, 2)\n",
    "plt.plot(history_2.history['loss'])\n",
    "plt.plot(history_2.history['val_loss'])\n",
    "plt.title('Model loss')\n",
    "plt.ylabel('Loss')\n",
    "plt.xlabel('Epoch')\n",
    "plt.legend(['Train', 'Test'], loc='upper left')\n",
    "\n",
    "plt.show()\n"
   ]
  },
  {
   "cell_type": "markdown",
   "id": "81d48a5b",
   "metadata": {},
   "source": [
    "Evaluate the Model"
   ]
  },
  {
   "cell_type": "code",
   "execution_count": 50,
   "id": "39174d8d",
   "metadata": {},
   "outputs": [
    {
     "name": "stdout",
     "output_type": "stream",
     "text": [
      "677/677 [==============================] - 25s 37ms/step - loss: 0.4062 - accuracy: 0.8514\n",
      "Test Accuracy: 0.85\n"
     ]
    }
   ],
   "source": [
    "# Evaluate the model on the test data\n",
    "loss_2, accuracy_2 = rnn_model_2.evaluate(X_test_padded, y_test)\n",
    "print(f\"Test Accuracy: {accuracy_2:.2f}\")"
   ]
  },
  {
   "cell_type": "markdown",
   "id": "39a48ede",
   "metadata": {},
   "source": [
    "Predict"
   ]
  },
  {
   "cell_type": "code",
   "execution_count": 51,
   "id": "9097b6f1",
   "metadata": {},
   "outputs": [
    {
     "name": "stdout",
     "output_type": "stream",
     "text": [
      "677/677 [==============================] - 27s 39ms/step\n"
     ]
    }
   ],
   "source": [
    "# Generate predictions\n",
    "y_pred_prob_2 = rnn_model_2.predict(X_test_padded)\n",
    "# Convert probabs to 0 or 1\n",
    "y_pred_2 = (y_pred_prob_2 > 0.5).astype(int)"
   ]
  },
  {
   "cell_type": "code",
   "execution_count": 52,
   "id": "49a40119",
   "metadata": {},
   "outputs": [
    {
     "name": "stdout",
     "output_type": "stream",
     "text": [
      "Accuracy: 0.85\n",
      "Precision: 0.90\n",
      "Recall: 0.80\n",
      "F1 Score: 0.85\n",
      "Classification Report:\n",
      "               precision    recall  f1-score   support\n",
      "\n",
      "       False       0.81      0.91      0.86     10613\n",
      "        True       0.90      0.80      0.85     11028\n",
      "\n",
      "    accuracy                           0.85     21641\n",
      "   macro avg       0.86      0.85      0.85     21641\n",
      "weighted avg       0.86      0.85      0.85     21641\n",
      "\n"
     ]
    }
   ],
   "source": [
    "# Performance metrics\n",
    "perfomance_accuracy_2 = accuracy_score(y_test, y_pred_2)\n",
    "perfomance_precision_2 = precision_score(y_test, y_pred_2)\n",
    "perfomance_recall_2 = recall_score(y_test, y_pred_2)\n",
    "perfomance_f1_2 = f1_score(y_test, y_pred_2)\n",
    "\n",
    "# Print performance metrics\n",
    "print(f\"Accuracy: {perfomance_accuracy_2:.2f}\")\n",
    "print(f\"Precision: {perfomance_precision_2:.2f}\")\n",
    "print(f\"Recall: {perfomance_recall_2:.2f}\")\n",
    "print(f\"F1 Score: {perfomance_f1_2:.2f}\")\n",
    "\n",
    "# Classification report\n",
    "print(\"Classification Report:\\n\", classification_report(y_test, y_pred_2))\n"
   ]
  },
  {
   "cell_type": "code",
   "execution_count": 53,
   "id": "b664176b",
   "metadata": {},
   "outputs": [],
   "source": [
    "# Calculate the confusion matrix\n",
    "cm_2 = confusion_matrix(y_test, y_pred_2)"
   ]
  },
  {
   "cell_type": "code",
   "execution_count": 109,
   "id": "cd9282cf",
   "metadata": {},
   "outputs": [
    {
     "data": {
      "text/plain": [
       "array([[9630,  983],\n",
       "       [2233, 8795]])"
      ]
     },
     "execution_count": 109,
     "metadata": {},
     "output_type": "execute_result"
    }
   ],
   "source": [
    "cm_2"
   ]
  },
  {
   "cell_type": "code",
   "execution_count": null,
   "id": "218be353",
   "metadata": {},
   "outputs": [
    {
     "data": {
      "image/png": "[encoded data removed]",
      "text/plain": [
       "<Figure size 640x480 with 2 Axes>"
      ]
     },
     "metadata": {},
     "output_type": "display_data"
    }
   ],
   "source": [
    "ax = sns.heatmap(cm_2, annot=True, cmap=\"coolwarm\", fmt=\"d\", cbar=True)\n",
    "ax.xaxis.set_ticklabels(['fake news','real news'])\n",
    "ax.yaxis.set_ticklabels(['fake news','real news'])\n",
    "ax.set_title('Confusion Matrix - HF Transformers',fontsize=18)\n",
    "\n",
    "plt.tight_layout()"
   ]
  },
  {
   "cell_type": "code",
   "execution_count": 112,
   "id": "275e54d7",
   "metadata": {},
   "outputs": [],
   "source": [
    "rnn_model_2.save('trained_rnn_model_20241218_0733_ta_85.h5') # save in h5 compressed format"
   ]
  },
  {
   "cell_type": "markdown",
   "id": "604374ed",
   "metadata": {},
   "source": [
    "## Tuning RNN Model 3 - not rerun yet"
   ]
  },
  {
   "cell_type": "code",
   "execution_count": null,
   "id": "413f327c",
   "metadata": {},
   "outputs": [
    {
     "name": "stderr",
     "output_type": "stream",
     "text": [
      "2024-12-16 12:49:09.145039: W tensorflow/stream_executor/platform/default/dso_loader.cc:64] Could not load dynamic library 'libcuda.so.1'; dlerror: libcuda.so.1: cannot open shared object file: No such file or directory\n",
      "2024-12-16 12:49:09.145931: W tensorflow/stream_executor/cuda/cuda_driver.cc:263] failed call to cuInit: UNKNOWN ERROR (303)\n",
      "2024-12-16 12:49:09.146741: I tensorflow/stream_executor/cuda/cuda_diagnostics.cc:156] kernel driver does not appear to be running on this host (JAMs): /proc/driver/nvidia/version does not exist\n",
      "2024-12-16 12:49:09.153854: I tensorflow/core/platform/cpu_feature_guard.cc:193] This TensorFlow binary is optimized with oneAPI Deep Neural Network Library (oneDNN) to use the following CPU instructions in performance-critical operations:  AVX2 FMA\n",
      "To enable them in other operations, rebuild TensorFlow with the appropriate compiler flags.\n"
     ]
    }
   ],
   "source": [
    "# Instantiate the model\n",
    "rnn_model_3 = Sequential()\n",
    "\n",
    "# Add an embedding layer\n",
    "rnn_model_3.add(Embedding(input_dim=5000, output_dim=128))\n",
    "\n",
    "# Add a simple RNN layer with 128 units\n",
    "rnn_model_3.add(SimpleRNN(units=128, return_sequences=False))\n",
    "\n",
    "# Add dropout layers to prevent overfitting\n",
    "rnn_model_3.add(Dropout(rate=0.3))\n",
    "\n",
    "# Add another dense layer and dropout layer\n",
    "rnn_model_3.add(Dense(units=64, activation='relu'))\n",
    "rnn_model_3.add(Dropout(rate=0.3))\n",
    "\n",
    "# Add the final dense output layer with sigmoid activation\n",
    "rnn_model_3.add(Dense(units=1, activation='sigmoid'))\n",
    "# Adjust the Adam optimizer parameters\n"
   ]
  },
  {
   "cell_type": "code",
   "execution_count": null,
   "id": "414763a0",
   "metadata": {},
   "outputs": [],
   "source": [
    "# Adjust the Adam optimizer parameters\n",
    "adam_optimizer = Adam(learning_rate=0.001, beta_1=0.9, beta_2=0.999)\n",
    "\n",
    "# Compile the model\n",
    "rnn_model_3.compile(optimizer=adam_optimizer, loss='binary_crossentropy', metrics=['accuracy'])\n"
   ]
  },
  {
   "cell_type": "markdown",
   "id": "681af878",
   "metadata": {},
   "source": [
    "Train the Model"
   ]
  },
  {
   "cell_type": "code",
   "execution_count": null,
   "id": "101c7927",
   "metadata": {},
   "outputs": [
    {
     "name": "stdout",
     "output_type": "stream",
     "text": [
      "Epoch 1/10\n",
      "789/789 [==============================] - 158s 199ms/step - loss: 0.2165 - accuracy: 0.9163 - val_loss: 0.1348 - val_accuracy: 0.9537\n",
      "Epoch 2/10\n",
      "789/789 [==============================] - 159s 201ms/step - loss: 0.1260 - accuracy: 0.9552 - val_loss: 0.1353 - val_accuracy: 0.9561\n",
      "Epoch 3/10\n",
      "789/789 [==============================] - 155s 197ms/step - loss: 0.0994 - accuracy: 0.9654 - val_loss: 0.1573 - val_accuracy: 0.9495\n",
      "Epoch 4/10\n",
      "789/789 [==============================] - 155s 197ms/step - loss: 0.0705 - accuracy: 0.9756 - val_loss: 0.1722 - val_accuracy: 0.9366\n"
     ]
    }
   ],
   "source": [
    "# Early stopping\n",
    "early_stopping = EarlyStopping(monitor='val_loss', patience=3, restore_best_weights=True)\n",
    "\n",
    "# Train the model with early stopping and model checkpoint\n",
    "history_3 = rnn_model_3.fit(\n",
    "    X_train, y_train,\n",
    "    epochs=10,\n",
    "    batch_size=64,\n",
    "    validation_data=(X_test, y_test),\n",
    "    callbacks=[early_stopping]\n",
    ")\n"
   ]
  },
  {
   "cell_type": "markdown",
   "id": "17d508cc",
   "metadata": {},
   "source": [
    "Evaluate the Model"
   ]
  },
  {
   "cell_type": "code",
   "execution_count": null,
   "id": "07a77dda",
   "metadata": {},
   "outputs": [
    {
     "name": "stdout",
     "output_type": "stream",
     "text": [
      "677/677 [==============================] - 26s 38ms/step - loss: 0.1348 - accuracy: 0.9537\n",
      "Test Accuracy: 0.95\n"
     ]
    }
   ],
   "source": [
    "# Evaluate the model on the test data\n",
    "loss_3, accuracy_3 = rnn_model_3.evaluate(X_test, y_test)\n",
    "print(f\"Test Accuracy: {accuracy_3:.2f}\")\n"
   ]
  },
  {
   "cell_type": "markdown",
   "id": "316bff2d",
   "metadata": {},
   "source": [
    "Predict"
   ]
  },
  {
   "cell_type": "code",
   "execution_count": null,
   "id": "ecb6ff65",
   "metadata": {},
   "outputs": [
    {
     "name": "stdout",
     "output_type": "stream",
     "text": [
      "677/677 [==============================] - 29s 42ms/step\n"
     ]
    }
   ],
   "source": [
    "# Generate predictions\n",
    "y_pred_prob_3 = rnn_model_3.predict(X_test)\n",
    "# Convert probabs to 0 or 1\n",
    "y_pred_3 = (y_pred_prob_3 > 0.5).astype(int)\n"
   ]
  },
  {
   "cell_type": "code",
   "execution_count": null,
   "id": "6ffdc6cf",
   "metadata": {},
   "outputs": [
    {
     "name": "stdout",
     "output_type": "stream",
     "text": [
      "Accuracy: 0.95\n",
      "Precision: 0.96\n",
      "Recall: 0.95\n",
      "F1 Score: 0.95\n",
      "Classification Report:\n",
      "               precision    recall  f1-score   support\n",
      "\n",
      "           0       0.94      0.96      0.95     10442\n",
      "           1       0.96      0.95      0.95     11199\n",
      "\n",
      "    accuracy                           0.95     21641\n",
      "   macro avg       0.95      0.95      0.95     21641\n",
      "weighted avg       0.95      0.95      0.95     21641\n",
      "\n"
     ]
    }
   ],
   "source": [
    "# Performance metrics\n",
    "perfomance_accuracy_3 = accuracy_score(y_test, y_pred_3)\n",
    "perfomance_precision_3 = precision_score(y_test, y_pred_3)\n",
    "perfomance_recall_3 = recall_score(y_test, y_pred_3)\n",
    "perfomance_f1_3 = f1_score(y_test, y_pred_3)\n",
    "\n",
    "# Print performance metrics\n",
    "print(f\"Accuracy: {perfomance_accuracy_3:.2f}\")\n",
    "print(f\"Precision: {perfomance_precision_3:.2f}\")\n",
    "print(f\"Recall: {perfomance_recall_3:.2f}\")\n",
    "print(f\"F1 Score: {perfomance_f1_3:.2f}\")\n",
    "\n",
    "# Classification report\n",
    "print(\"Classification Report:\\n\", classification_report(y_test, y_pred_3))\n"
   ]
  },
  {
   "cell_type": "code",
   "execution_count": null,
   "id": "bc38f0ad",
   "metadata": {},
   "outputs": [],
   "source": [
    "# Calculate the confusion matrix\n",
    "cm_3 = confusion_matrix(y_test, y_pred_3)\n"
   ]
  },
  {
   "cell_type": "code",
   "execution_count": null,
   "id": "a4765238",
   "metadata": {},
   "outputs": [
    {
     "ename": "NameError",
     "evalue": "name 'cm_check' is not defined",
     "output_type": "error",
     "traceback": [
      "\u001b[0;31m---------------------------------------------------------------------------\u001b[0m",
      "\u001b[0;31mNameError\u001b[0m                                 Traceback (most recent call last)",
      "Cell \u001b[0;32mIn[26], line 1\u001b[0m\n\u001b[0;32m----> 1\u001b[0m \u001b[43mcm_check\u001b[49m\n",
      "\u001b[0;31mNameError\u001b[0m: name 'cm_check' is not defined"
     ]
    }
   ],
   "source": [
    "cm_3"
   ]
  },
  {
   "cell_type": "code",
   "execution_count": null,
   "id": "50aaa332",
   "metadata": {},
   "outputs": [],
   "source": [
    "ax = sns.heatmap(cm_3, annot=True, cmap=\"coolwarm\", fmt=\"d\", cbar=True)\n",
    "ax.xaxis.set_ticklabels(['fake news','real news'])\n",
    "ax.yaxis.set_ticklabels(['fake news','real news'])\n",
    "ax.set_title('Confusion Matrix - HF Transformers',fontsize=18)\n",
    "\n",
    "plt.tight_layout()"
   ]
  },
  {
   "cell_type": "code",
   "execution_count": null,
   "id": "06e138b0",
   "metadata": {},
   "outputs": [],
   "source": [
    "rnn_model_3.save('trained_rnn_model_3.h5') # save in h5 compressed format"
   ]
  },
  {
   "cell_type": "markdown",
   "id": "b35157a5",
   "metadata": {},
   "source": [
    "## Tuning RNN Model 4 - Test accuracy = 0.83"
   ]
  },
  {
   "cell_type": "code",
   "execution_count": null,
   "id": "7de78117",
   "metadata": {},
   "outputs": [
    {
     "name": "stderr",
     "output_type": "stream",
     "text": [
      "2024-12-17 19:54:00.738197: W tensorflow/stream_executor/platform/default/dso_loader.cc:64] Could not load dynamic library 'libcuda.so.1'; dlerror: libcuda.so.1: cannot open shared object file: No such file or directory\n",
      "2024-12-17 19:54:00.740999: W tensorflow/stream_executor/cuda/cuda_driver.cc:263] failed call to cuInit: UNKNOWN ERROR (303)\n",
      "2024-12-17 19:54:00.742240: I tensorflow/stream_executor/cuda/cuda_diagnostics.cc:156] kernel driver does not appear to be running on this host (JAMs): /proc/driver/nvidia/version does not exist\n",
      "2024-12-17 19:54:00.786579: I tensorflow/core/platform/cpu_feature_guard.cc:193] This TensorFlow binary is optimized with oneAPI Deep Neural Network Library (oneDNN) to use the following CPU instructions in performance-critical operations:  AVX2 FMA\n",
      "To enable them in other operations, rebuild TensorFlow with the appropriate compiler flags.\n"
     ]
    }
   ],
   "source": [
    "# Instantiate the model\n",
    "rnn_model_4 = Sequential()\n",
    "\n",
    "# Add an embedding layer\n",
    "rnn_model_4.add(Embedding(input_dim=5000, output_dim=128))\n",
    "\n",
    "# Add a simple RNN layer with 128 units\n",
    "rnn_model_4.add(SimpleRNN(units=32, return_sequences=False))\n",
    "\n",
    "# Add dropout layers to prevent overfitting\n",
    "rnn_model_4.add(Dropout(rate=0.1))\n",
    "\n",
    "# Add another dense layer and dropout layer\n",
    "rnn_model_4.add(Dense(units=64, activation='relu'))\n",
    "rnn_model_4.add(Dropout(rate=0.1))\n",
    "\n",
    "# Add the final dense output layer with sigmoid activation\n",
    "rnn_model_4.add(Dense(units=1, activation='sigmoid'))\n"
   ]
  },
  {
   "cell_type": "code",
   "execution_count": null,
   "id": "62cc3094",
   "metadata": {},
   "outputs": [],
   "source": [
    "# Compile the model\n",
    "optimizer = RMSprop()\n",
    "rnn_model_4.compile(optimizer=optimizer, loss='binary_crossentropy', metrics=['accuracy'])\n"
   ]
  },
  {
   "cell_type": "code",
   "execution_count": null,
   "id": "2437373b",
   "metadata": {},
   "outputs": [
    {
     "name": "stdout",
     "output_type": "stream",
     "text": [
      "Epoch 1/10\n",
      "789/789 [==============================] - 151s 189ms/step - loss: 0.6506 - accuracy: 0.5866 - val_loss: 0.6655 - val_accuracy: 0.5949 - lr: 0.0010\n",
      "Epoch 2/10\n",
      "789/789 [==============================] - 138s 175ms/step - loss: 0.5121 - accuracy: 0.7383 - val_loss: 0.4053 - val_accuracy: 0.8302 - lr: 0.0010\n",
      "Epoch 3/10\n",
      "789/789 [==============================] - 139s 176ms/step - loss: 0.4823 - accuracy: 0.7599 - val_loss: 0.6343 - val_accuracy: 0.5234 - lr: 0.0010\n",
      "Epoch 4/10\n",
      "789/789 [==============================] - 145s 184ms/step - loss: 0.5184 - accuracy: 0.7123 - val_loss: 0.4169 - val_accuracy: 0.8309 - lr: 0.0010\n",
      "Epoch 5/10\n",
      "789/789 [==============================] - 143s 181ms/step - loss: 0.4604 - accuracy: 0.7768 - val_loss: 0.4833 - val_accuracy: 0.7717 - lr: 0.0010\n"
     ]
    }
   ],
   "source": [
    "from tensorflow.keras.callbacks import LearningRateScheduler\n",
    "\n",
    "# Define a learning rate schedule function\n",
    "def lr_schedule(epoch, lr):\n",
    "    if epoch < 5:\n",
    "        return lr\n",
    "    else:\n",
    "        return lr * 0.5  # Decrease the learning rate by half after 5 epochs\n",
    "\n",
    "# Early stopping\n",
    "early_stopping = EarlyStopping(monitor='val_loss', patience=3, restore_best_weights=True)\n",
    "\n",
    "# Learning rate scheduler\n",
    "lr_scheduler = LearningRateScheduler(lr_schedule)\n",
    "\n",
    "# Train the model with early stopping and learning rate scheduler\n",
    "history_4 = rnn_model_4.fit(\n",
    "    X_train_padded, y_train,\n",
    "    epochs=10,\n",
    "    batch_size=64,\n",
    "    validation_data=(X_test_padded, y_test),\n",
    "    callbacks=[early_stopping, lr_scheduler]\n",
    ")\n"
   ]
  },
  {
   "cell_type": "code",
   "execution_count": null,
   "id": "04c85690",
   "metadata": {},
   "outputs": [
    {
     "name": "stdout",
     "output_type": "stream",
     "text": [
      "677/677 [==============================] - 23s 34ms/step - loss: 0.4053 - accuracy: 0.8302\n",
      "Test Accuracy: 0.83\n"
     ]
    }
   ],
   "source": [
    "# Evaluate the model on the test data\n",
    "loss_4, accuracy_4 = rnn_model_4.evaluate(X_test_padded, y_test)\n",
    "print(f\"Test Accuracy: {accuracy_4:.2f}\")\n"
   ]
  },
  {
   "cell_type": "code",
   "execution_count": null,
   "id": "f69a6917",
   "metadata": {},
   "outputs": [
    {
     "name": "stdout",
     "output_type": "stream",
     "text": [
      "677/677 [==============================] - 24s 35ms/step\n"
     ]
    }
   ],
   "source": [
    "# Generate predictions\n",
    "y_pred_prob_4 = rnn_model_4.predict(X_test_padded)\n",
    "# Convert probabs to 0 or 1\n",
    "y_pred_4 = (y_pred_prob_4 > 0.5).astype(int)\n"
   ]
  },
  {
   "cell_type": "code",
   "execution_count": null,
   "id": "192706f3",
   "metadata": {},
   "outputs": [
    {
     "name": "stdout",
     "output_type": "stream",
     "text": [
      "1/1 [==============================] - 0s 99ms/step\n"
     ]
    },
    {
     "data": {
      "text/plain": [
       "array([[0.00292652]], dtype=float32)"
      ]
     },
     "execution_count": 97,
     "metadata": {},
     "output_type": "execute_result"
    }
   ],
   "source": [
    "# rnn_model_4.predict(np.expand_dims(X_test[1, :], axis=0))"
   ]
  },
  {
   "cell_type": "code",
   "execution_count": null,
   "id": "0cf30370",
   "metadata": {},
   "outputs": [
    {
     "data": {
      "text/plain": [
       "(1, 500)"
      ]
     },
     "execution_count": 96,
     "metadata": {},
     "output_type": "execute_result"
    }
   ],
   "source": [
    "# np.expand_dims(X_test[1, :], axis=0).shape"
   ]
  },
  {
   "cell_type": "code",
   "execution_count": null,
   "id": "9f9325c7",
   "metadata": {},
   "outputs": [
    {
     "name": "stdout",
     "output_type": "stream",
     "text": [
      "Accuracy: 0.83\n",
      "Precision: 0.95\n",
      "Recall: 0.71\n",
      "F1 Score: 0.81\n",
      "Classification Report:\n",
      "               precision    recall  f1-score   support\n",
      "\n",
      "       False       0.76      0.96      0.85     10613\n",
      "        True       0.95      0.71      0.81     11028\n",
      "\n",
      "    accuracy                           0.83     21641\n",
      "   macro avg       0.85      0.83      0.83     21641\n",
      "weighted avg       0.85      0.83      0.83     21641\n",
      "\n"
     ]
    }
   ],
   "source": [
    "# Performance metrics\n",
    "perfomance_accuracy_4 = accuracy_score(y_test, y_pred_4)\n",
    "perfomance_precision_4 = precision_score(y_test, y_pred_4)\n",
    "perfomance_recall_4 = recall_score(y_test, y_pred_4)\n",
    "perfomance_f1_4 = f1_score(y_test, y_pred_4)\n",
    "\n",
    "# Print performance metrics\n",
    "print(f\"Accuracy: {perfomance_accuracy_4:.2f}\")\n",
    "print(f\"Precision: {perfomance_precision_4:.2f}\")\n",
    "print(f\"Recall: {perfomance_recall_4:.2f}\")\n",
    "print(f\"F1 Score: {perfomance_f1_4:.2f}\")\n",
    "\n",
    "# Classification report\n",
    "print(\"Classification Report:\\n\", classification_report(y_test, y_pred_4))\n"
   ]
  },
  {
   "cell_type": "code",
   "execution_count": null,
   "id": "5e19d087",
   "metadata": {},
   "outputs": [],
   "source": [
    "# Calculate the confusion matrix\n",
    "cm_4 = confusion_matrix(y_test, y_pred_4)\n"
   ]
  },
  {
   "cell_type": "code",
   "execution_count": 113,
   "id": "d2f9f365",
   "metadata": {},
   "outputs": [
    {
     "ename": "NameError",
     "evalue": "name 'cm_4' is not defined",
     "output_type": "error",
     "traceback": [
      "\u001b[0;31m---------------------------------------------------------------------------\u001b[0m",
      "\u001b[0;31mNameError\u001b[0m                                 Traceback (most recent call last)",
      "Cell \u001b[0;32mIn[113], line 1\u001b[0m\n\u001b[0;32m----> 1\u001b[0m \u001b[43mcm_4\u001b[49m\n",
      "\u001b[0;31mNameError\u001b[0m: name 'cm_4' is not defined"
     ]
    }
   ],
   "source": [
    "cm_4"
   ]
  },
  {
   "cell_type": "code",
   "execution_count": null,
   "id": "aafb95fa",
   "metadata": {},
   "outputs": [],
   "source": [
    "ax = sns.heatmap(cm_4, annot=True, cmap=\"coolwarm\", fmt=\"d\", cbar=True)\n",
    "ax.xaxis.set_ticklabels(['fake news','real news'])\n",
    "ax.yaxis.set_ticklabels(['fake news','real news'])\n",
    "ax.set_title('Confusion Matrix - HF Transformers',fontsize=18)\n",
    "\n",
    "plt.tight_layout()"
   ]
  },
  {
   "cell_type": "code",
   "execution_count": null,
   "id": "a44b9bac",
   "metadata": {},
   "outputs": [],
   "source": [
    "rnn_model_4.save('trained_rnn_model_20241217_2021.h5') # save in h5 compressed format"
   ]
  },
  {
   "cell_type": "markdown",
   "id": "aeadc64b",
   "metadata": {},
   "source": [
    "# LSTM Models"
   ]
  },
  {
   "cell_type": "markdown",
   "id": "f9fef427",
   "metadata": {},
   "source": [
    "## LSTM model 1 - Test accuracy = 0.97"
   ]
  },
  {
   "cell_type": "markdown",
   "id": "47e058ba",
   "metadata": {},
   "source": [
    "### Modelling and training"
   ]
  },
  {
   "cell_type": "code",
   "execution_count": 40,
   "id": "8d926725",
   "metadata": {},
   "outputs": [],
   "source": [
    "# Instantiate the LSTM model\n",
    "lstm_model_1 = Sequential()\n",
    "\n",
    "# Add an embedding layer\n",
    "lstm_model_1.add(Embedding(input_dim=5000, output_dim=128, input_length=500))\n",
    "\n",
    "# Add the LSTM layer\n",
    "lstm_model_1.add(LSTM(units=128, return_sequences=False))\n",
    "\n",
    "# Add a dropout layer to prevent overfitting\n",
    "lstm_model_1.add(Dropout(rate=0.2))\n",
    "\n",
    "# Add another dense layer and dropout layer\n",
    "lstm_model_1.add(Dense(units=64, activation='relu'))\n",
    "lstm_model_1.add(Dropout(rate=0.2))\n",
    "\n",
    "# Add the dense output layer\n",
    "lstm_model_1.add(Dense(units=1, activation='sigmoid'))\n"
   ]
  },
  {
   "cell_type": "code",
   "execution_count": 41,
   "id": "5f289b04",
   "metadata": {},
   "outputs": [],
   "source": [
    "# Adjust the Adam optimizer parameters\n",
    "adam_optimizer = Adam(learning_rate=0.001, beta_1=0.9, beta_2=0.999)\n",
    "\n",
    "# Compile the model with Adam optimizer and binary cross-entropy loss\n",
    "lstm_model_1.compile(optimizer=adam_optimizer, loss='binary_crossentropy', metrics=['accuracy'])"
   ]
  },
  {
   "cell_type": "code",
   "execution_count": 42,
   "id": "22e628ae",
   "metadata": {},
   "outputs": [
    {
     "name": "stdout",
     "output_type": "stream",
     "text": [
      "Epoch 1/10\n",
      "789/789 [==============================] - 598s 757ms/step - loss: 0.6510 - accuracy: 0.5849 - val_loss: 0.6547 - val_accuracy: 0.5849\n",
      "Epoch 2/10\n",
      "789/789 [==============================] - 596s 756ms/step - loss: 0.5556 - accuracy: 0.7183 - val_loss: 0.4950 - val_accuracy: 0.7898\n",
      "Epoch 3/10\n",
      "789/789 [==============================] - 624s 791ms/step - loss: 0.5486 - accuracy: 0.6929 - val_loss: 0.5620 - val_accuracy: 0.6743\n",
      "Epoch 4/10\n",
      "789/789 [==============================] - 639s 810ms/step - loss: 0.3346 - accuracy: 0.8739 - val_loss: 0.3192 - val_accuracy: 0.8834\n",
      "Epoch 5/10\n",
      "789/789 [==============================] - 643s 815ms/step - loss: 0.1497 - accuracy: 0.9510 - val_loss: 0.1184 - val_accuracy: 0.9612\n",
      "Epoch 6/10\n",
      "789/789 [==============================] - 643s 815ms/step - loss: 0.0811 - accuracy: 0.9755 - val_loss: 0.0850 - val_accuracy: 0.9726\n",
      "Epoch 7/10\n",
      "789/789 [==============================] - 642s 814ms/step - loss: 0.0536 - accuracy: 0.9849 - val_loss: 0.0801 - val_accuracy: 0.9727\n",
      "Epoch 8/10\n",
      "789/789 [==============================] - 597s 757ms/step - loss: 0.0371 - accuracy: 0.9898 - val_loss: 0.0930 - val_accuracy: 0.9738\n",
      "Epoch 9/10\n",
      "789/789 [==============================] - 592s 750ms/step - loss: 0.0261 - accuracy: 0.9932 - val_loss: 0.1066 - val_accuracy: 0.9728\n",
      "Epoch 10/10\n",
      "789/789 [==============================] - 596s 756ms/step - loss: 0.0192 - accuracy: 0.9951 - val_loss: 0.1090 - val_accuracy: 0.9745\n"
     ]
    }
   ],
   "source": [
    "# Early stopping\n",
    "early_stopping = EarlyStopping(monitor='val_loss', patience=3, restore_best_weights=True)\n",
    "\n",
    "# Train the model with early stopping\n",
    "history_5 = lstm_model_1.fit(\n",
    "    X_train_padded, y_train,\n",
    "    epochs=10,\n",
    "    batch_size=64,\n",
    "    validation_data=(X_test_padded, y_test),\n",
    "    callbacks=[early_stopping]\n",
    ")"
   ]
  },
  {
   "cell_type": "code",
   "execution_count": 43,
   "id": "6ce010ff",
   "metadata": {},
   "outputs": [
    {
     "data": {
      "image/png": "[encoded data removed]",
      "text/plain": [
       "<Figure size 1400x500 with 2 Axes>"
      ]
     },
     "metadata": {},
     "output_type": "display_data"
    }
   ],
   "source": [
    "# Plot training & validation accuracy values\n",
    "plt.figure(figsize=(14, 5))\n",
    "\n",
    "plt.subplot(1, 2, 1)\n",
    "plt.plot(history_5.history['accuracy'])\n",
    "plt.plot(history_5.history['val_accuracy'])\n",
    "plt.title('Model accuracy')\n",
    "plt.ylabel('Accuracy')\n",
    "plt.xlabel('Epoch')\n",
    "plt.legend(['Train', 'Test'], loc='upper left')\n",
    "\n",
    "# Plot training & validation loss values\n",
    "plt.subplot(1, 2, 2)\n",
    "plt.plot(history_5.history['loss'])\n",
    "plt.plot(history_5.history['val_loss'])\n",
    "plt.title('Model loss')\n",
    "plt.ylabel('Loss')\n",
    "plt.xlabel('Epoch')\n",
    "plt.legend(['Train', 'Test'], loc='upper left')\n",
    "\n",
    "plt.show()\n"
   ]
  },
  {
   "cell_type": "code",
   "execution_count": 44,
   "id": "85a72953",
   "metadata": {},
   "outputs": [
    {
     "name": "stdout",
     "output_type": "stream",
     "text": [
      "677/677 [==============================] - 116s 171ms/step - loss: 0.0801 - accuracy: 0.9727\n",
      "Test Accuracy: 0.97\n"
     ]
    }
   ],
   "source": [
    "# Evaluate the model on the test data\n",
    "loss_5, accuracy_5 = lstm_model_1.evaluate(X_test_padded, y_test)\n",
    "print(f\"Test Accuracy: {accuracy_5:.2f}\")"
   ]
  },
  {
   "cell_type": "code",
   "execution_count": 45,
   "id": "bc91e444",
   "metadata": {},
   "outputs": [
    {
     "name": "stdout",
     "output_type": "stream",
     "text": [
      "677/677 [==============================] - 123s 181ms/step\n"
     ]
    }
   ],
   "source": [
    "# Generate predictions\n",
    "y_pred_prob_5 = lstm_model_1.predict(X_test_padded)\n",
    "# Convert probabs to 0 or 1\n",
    "y_pred_5 = (y_pred_prob_5 > 0.5).astype(int)"
   ]
  },
  {
   "cell_type": "code",
   "execution_count": null,
   "id": "22c08207",
   "metadata": {},
   "outputs": [
    {
     "name": "stdout",
     "output_type": "stream",
     "text": [
      "Accuracy: 0.97\n",
      "Precision: 0.97\n",
      "Recall: 0.98\n",
      "F1 Score: 0.97\n",
      "Classification Report:\n",
      "               precision    recall  f1-score   support\n",
      "\n",
      "       False       0.98      0.96      0.97     10613\n",
      "        True       0.97      0.98      0.97     11028\n",
      "\n",
      "    accuracy                           0.97     21641\n",
      "   macro avg       0.97      0.97      0.97     21641\n",
      "weighted avg       0.97      0.97      0.97     21641\n",
      "\n"
     ]
    }
   ],
   "source": [
    "# Performance metrics\n",
    "perfomance_accuracy_5 = accuracy_score(y_test, y_pred_5)\n",
    "perfomance_precision_5 = precision_score(y_test, y_pred_5)\n",
    "perfomance_recall_5 = recall_score(y_test, y_pred_5)\n",
    "perfomance_f1_5 = f1_score(y_test, y_pred_5)\n",
    "\n",
    "# Print performance metrics\n",
    "print(f\"Accuracy: {perfomance_accuracy_5:.2f}\")\n",
    "print(f\"Precision: {perfomance_precision_5:.2f}\")\n",
    "print(f\"Recall: {perfomance_recall_5:.2f}\")\n",
    "print(f\"F1 Score: {perfomance_f1_5:.2f}\")\n",
    "\n",
    "# Classification report\n",
    "print(\"Classification Report:\\n\", classification_report(y_test, y_pred_5))\n"
   ]
  },
  {
   "cell_type": "code",
   "execution_count": 48,
   "id": "91e6a27b",
   "metadata": {},
   "outputs": [],
   "source": [
    "# Calculate the confusion matrix\n",
    "cm_5 = confusion_matrix(y_test, y_pred_5)"
   ]
  },
  {
   "cell_type": "code",
   "execution_count": 49,
   "id": "e2894db4",
   "metadata": {},
   "outputs": [
    {
     "data": {
      "text/plain": [
       "array([[10221,   392],\n",
       "       [  198, 10830]])"
      ]
     },
     "execution_count": 49,
     "metadata": {},
     "output_type": "execute_result"
    }
   ],
   "source": [
    "cm_5"
   ]
  },
  {
   "cell_type": "code",
   "execution_count": 71,
   "id": "07d52a9e",
   "metadata": {},
   "outputs": [
    {
     "data": {
      "image/png": "[encoded data removed]",
      "text/plain": [
       "<Figure size 640x480 with 2 Axes>"
      ]
     },
     "metadata": {},
     "output_type": "display_data"
    }
   ],
   "source": [
    "ax = sns.heatmap(cm_5, annot=True, cmap=\"coolwarm\", fmt=\"d\", cbar=True)\n",
    "ax.xaxis.set_ticklabels(['fake news','real news'])\n",
    "ax.yaxis.set_ticklabels(['fake news','real news'])\n",
    "ax.set_title('Confusion Matrix - LSTM',fontsize=18)\n",
    "\n",
    "plt.tight_layout()"
   ]
  },
  {
   "cell_type": "code",
   "execution_count": 51,
   "id": "a61c7624",
   "metadata": {},
   "outputs": [],
   "source": [
    "lstm_model_1.save('trained_lstm_model_20241218_1337_ta_97.h5') # save in h5 compressed format"
   ]
  },
  {
   "cell_type": "markdown",
   "id": "35e139b3-17c8-4677-96c3-17c65d98c71a",
   "metadata": {},
   "source": [
    "### Loading saved model and testing"
   ]
  },
  {
   "cell_type": "code",
   "execution_count": 13,
   "id": "55262ca7",
   "metadata": {},
   "outputs": [
    {
     "name": "stderr",
     "output_type": "stream",
     "text": [
      "2024-12-18 15:40:31.575777: W tensorflow/stream_executor/platform/default/dso_loader.cc:64] Could not load dynamic library 'libcuda.so.1'; dlerror: libcuda.so.1: cannot open shared object file: No such file or directory\n",
      "2024-12-18 15:40:31.576563: W tensorflow/stream_executor/cuda/cuda_driver.cc:263] failed call to cuInit: UNKNOWN ERROR (303)\n",
      "2024-12-18 15:40:31.577103: I tensorflow/stream_executor/cuda/cuda_diagnostics.cc:156] kernel driver does not appear to be running on this host (JAMs): /proc/driver/nvidia/version does not exist\n",
      "2024-12-18 15:40:31.583622: I tensorflow/core/platform/cpu_feature_guard.cc:193] This TensorFlow binary is optimized with oneAPI Deep Neural Network Library (oneDNN) to use the following CPU instructions in performance-critical operations:  AVX2 FMA\n",
      "To enable them in other operations, rebuild TensorFlow with the appropriate compiler flags.\n"
     ]
    }
   ],
   "source": [
    "trained_lstm_model_vlad = tf.keras.models.load_model('trained_lstm_model_vlad.h5')"
   ]
  },
  {
   "cell_type": "code",
   "execution_count": 14,
   "id": "ae013977",
   "metadata": {},
   "outputs": [
    {
     "name": "stdout",
     "output_type": "stream",
     "text": [
      "Model: \"sequential\"\n",
      "_________________________________________________________________\n",
      " Layer (type)                Output Shape              Param #   \n",
      "=================================================================\n",
      " embedding (Embedding)       (None, 500, 128)          640000    \n",
      "                                                                 \n",
      " lstm (LSTM)                 (None, 128)               131584    \n",
      "                                                                 \n",
      " dropout (Dropout)           (None, 128)               0         \n",
      "                                                                 \n",
      " dense (Dense)               (None, 64)                8256      \n",
      "                                                                 \n",
      " dropout_1 (Dropout)         (None, 64)                0         \n",
      "                                                                 \n",
      " dense_1 (Dense)             (None, 1)                 65        \n",
      "                                                                 \n",
      "=================================================================\n",
      "Total params: 779,905\n",
      "Trainable params: 779,905\n",
      "Non-trainable params: 0\n",
      "_________________________________________________________________\n"
     ]
    }
   ],
   "source": [
    "trained_lstm_model_vlad.summary()"
   ]
  },
  {
   "cell_type": "code",
   "execution_count": null,
   "id": "1d51e867",
   "metadata": {},
   "outputs": [],
   "source": [
    "# def text_basic_cleaning(text: str) -> str:\n",
    "#     # stripping:\n",
    "#     text = text.strip()\n",
    "\n",
    "#     # tolower:\n",
    "#     text = text.lower()\n",
    "\n",
    "#     # digit: Remove digits\n",
    "#     text = ''.join(char for char in text if not char.isdigit())\n",
    "\n",
    "#     # punctuation: Remove all punctuation marks\n",
    "#     text = re.sub(r'[{}]'.format(re.escape(string.punctuation)), '', text)\n",
    "\n",
    "#     # delete html-tags\n",
    "#     text = re.sub('<[^<]+?>', '', text)\n",
    "\n",
    "#     return text\n"
   ]
  },
  {
   "cell_type": "code",
   "execution_count": null,
   "id": "58a864a7",
   "metadata": {},
   "outputs": [],
   "source": [
    "# def preprocess_text(text: str) -> str:\n",
    "\n",
    "#     # Tokenisation\n",
    "#     tokens = word_tokenize(text)\n",
    "\n",
    "#     # Remove stop words\n",
    "#     tokens = delete_stop_words(tokens)\n",
    "\n",
    "#     # Lemmatisation\n",
    "#     tokens = lemmatize_text(tokens)\n",
    "\n",
    "#     # Combine words into a string\n",
    "#     processed_text = ' '.join(tokens)\n",
    "\n",
    "#     return processed_text\n"
   ]
  },
  {
   "cell_type": "code",
   "execution_count": 15,
   "id": "f1eaa076",
   "metadata": {},
   "outputs": [
    {
     "data": {
      "text/plain": [
       "Unnamed: 0\n",
       "61370     True\n",
       "2189      True\n",
       "60609    False\n",
       "51565    False\n",
       "39431     True\n",
       "47839     True\n",
       "42729     True\n",
       "37882    False\n",
       "10893    False\n",
       "46977     True\n",
       "48546     True\n",
       "9712      True\n",
       "28626    False\n",
       "30338    False\n",
       "42408     True\n",
       "13072     True\n",
       "43920     True\n",
       "41529     True\n",
       "24096    False\n",
       "55641     True\n",
       "Name: label, dtype: bool"
      ]
     },
     "execution_count": 15,
     "metadata": {},
     "output_type": "execute_result"
    }
   ],
   "source": [
    "y_test.head(20)"
   ]
  },
  {
   "cell_type": "code",
   "execution_count": 23,
   "id": "741139d5",
   "metadata": {},
   "outputs": [
    {
     "name": "stdout",
     "output_type": "stream",
     "text": [
      "Selected text: 'The only other option': Bernie Sanders backers turn to Green party's Jill Stein Vanessa Tijerina was not politically active until a couple years ago. Then she started looking closely at problems in the healthcare system, feeling that mainstream politicians were not delivering solutions – and discovered Bernie Sanders.\n",
      "\n",
      "Last September, at short notice, she drove three hours to San Antonio, Texas, from her home near the border with Mexico so she could join other Sanders supporters in a protest against a Democratic congressman who had criticised the Vermont senator. In January she marched through Manhattan for Sanders, inspired by his idealistic and unorthodox message.\n",
      "\n",
      "And then the 74-year-old lost the Democratic presidential primary to Hillary Clinton, and backed her for the White House last month at the national convention. That was where Tijerina and Sanders diverged.\n",
      "\n",
      "“A lot of us waited with bated breath, wondering: what’s he going to do?” she said. “Because depending on what he did, that’s where the movement was either going to go or not go. He decided to stay there, and the movement can’t stay there. It cannot stay in a centrist environment. The movement is antagonising that environment so we can’t stay there.”\n",
      "\n",
      "Tijerina and others were calling for a new phase of a Sanders-style political revolution on Thursday, as the Green party kicked off its presidential nominating convention in the improbable location of Houston, Texas – Big Oil’s back yard. (The convention’s slogan is: “Houston, We Have a Solution”.)\n",
      "\n",
      "“To me the Green party was the only other option,” Tijerina said in a conference room at the University of Houston. “There’s just no way that anything centre or right of centre was going to get America where it needed to be.”\n",
      "\n",
      "The 38-year-old nurse is standing as a Green party candidate for a Texas congressional district this November.\n",
      "\n",
      "“When I found out about Jill Stein, which was literally a month after I found out about Bernie – depending on who you ask, she is perhaps more progressive than Bernie,” Tijerina said. “She is perhaps more aggressive politically than Bernie and she is perhaps, some would say, less afraid, or less intimidated – or whatever it is, she has what Bernie has and perhaps more.”\n",
      "\n",
      "Stein is set to be confirmed as the Green party’s nominee on Saturday and is openly courting the seemingly large number of Sanders supporters who are reluctant or refusing to heed his call to support Clinton. In a Real Clear Politics average of recent polls, Stein is at 3.9%, behind the Libertarian party’s Gary Johnson, at 8%; Donald Trump is at 36.9% and Clinton at 43.5%.\n",
      "\n",
      "Hardly numbers to threaten the duopoly, but enough to potentially complicate close races in swing states in November and indicative of significant unhappiness with the Democratic and Republican candidates. (In 2012, Johnson received only 0.99% and Stein 0.36% of the popular vote.) Enough also to awaken some deep-seated Democratic angst rooted in the trauma of 2000, when some blamed Green party candidate Ralph Nader’s presence in Florida for costing Al Gore the general election and sending George W Bush to the White House.\n",
      "\n",
      "Adding to the sense of the Green party as an irritant for Democrats, WikiLeaks founder Julian Assange may address the convention via video link on Saturday, about two weeks after carefully timed leaked emails showed that Democratic National Committee officials seemingly plotted to undermine Sanders’ campaign, causing a storm and adding to his loyalists’ antagonism towards Clinton and the party.\n",
      "\n",
      "Stein’s choice this week of the human rights activist Ajamu Baraka as her running mate might complicate the outreach. In a blogpost last September on the left’s response (or lack of it) to Saudi Arabia’s bombing of Yemen, Baraka wrote: “Sanders supporters have not only fallen into the ideological trap of a form of narrow ‘left’ nativism, but also the white supremacist ethical contradiction that reinforces racist cynicism in which some lives are disposable for the greater good of the west.\n",
      "\n",
      "“And as much as the ‘Sandernistas’ attempt to disarticulate Sanders ‘progressive’ domestic policies from his documented support for empire … it should be obvious that his campaign is an ideological prop – albeit from a center/left position – of the logic and interests of the capitalist-imperialist settler state.”\n",
      "\n",
      "A request for comment made through Stein’s campaign was not returned. But it would likely take much more than some debatable blog articles to persuade many of the convention-goers in Houston to vote for an establishment figure they see as emblematic of a dishonest, warmongering status quo that is in thrall to big corporations and unwilling or unable to solve systemic inequalities.\n",
      "\n",
      "“Voting for the oligarchy is not how you get rid of the oligarchy,” said Carlos Martinez, 40, an activist from Texas who creates social media content. “I in good conscience cannot vote for somebody that supports interventionist wars and supports what Hillary Clinton supports, and I will vote for Jill Stein.”\n",
      "\n",
      "Sanders, some Clinton supporters – and Trump himself – have argued that casting a ballot for the Green party is tantamount to helping the Republican candidate. Stein and her supporters, of course, reject that idea.\n",
      "\n",
      "“I really can’t tell who or what Donald Trump is,” Martinez said, “but that doesn’t mean that I’m going to be fear-baited into supporting Hillary Clinton and I don’t think that the majority of Sanders supporters are scared to vote their conscience and they’re going to be fear-mongered into pulling the lever for somebody that’s against their own interests.”\n",
      "\n",
      "Wearing a red “Feel the Bern” T-shirt, Pam Ellis attended a boisterous evening event designed to woo the “Bernie or Bust” crowd that drew a couple of hundred people.\n",
      "\n",
      "“I have a conflict because I like Bernie; I never really cared that much for Hillary. Nothing specific or anything, I just feel like it’s more big money influence in politics,” the 57-year-old nurse said. Her top issues were access to education and healthcare, subjects that were at the heart of Sanders’ electoral pitch – focused, like Stein’s, on social justice.\n",
      "\n",
      "“I think he furthered the Green party platform whether he intended to or not, brought it to the forefront and caused me to do a lot of research on the Green party, and that’s why I’m here now,” she said.\n",
      "\n",
      "Ellis also dismissed the notion that voters should think tactically. “What good is it to live in the United States where you have the right to vote and the freedom to vote for who you want to, if you’re going to be scared into voting?” she said.\n",
      "\n",
      "“I’m tired of the lesser of the evils. I’m just sick of that. That’s not what my father and his brothers went and fought in world war two for, so we could be scared into voting for one of two candidates. This is a huge country. We should have debates with the Libertarian party and the Green party. We need to hear from everybody.”\n",
      "Actual label: False\n"
     ]
    }
   ],
   "source": [
    "# Select a specific row from X_test\n",
    "row_index = 18  # Change this index to select a different row\n",
    "sample_text = X_test.iloc[row_index]\n",
    "sample_label = y_test.iloc[row_index]\n",
    "\n",
    "print(f\"Selected text: {sample_text}\")\n",
    "print(f\"Actual label: {sample_label}\")\n"
   ]
  },
  {
   "cell_type": "code",
   "execution_count": 24,
   "id": "778e0320",
   "metadata": {},
   "outputs": [
    {
     "name": "stdout",
     "output_type": "stream",
     "text": [
      "the only other option bernie sanders backers turn to green partys jill stein vanessa tijerina was not politically active until a couple years ago then she started looking closely at problems in the healthcare system feeling that mainstream politicians were not delivering solutions – and discovered bernie sanders\n",
      "\n",
      "last september at short notice she drove three hours to san antonio texas from her home near the border with mexico so she could join other sanders supporters in a protest against a democratic congressman who had criticised the vermont senator in january she marched through manhattan for sanders inspired by his idealistic and unorthodox message\n",
      "\n",
      "and then the yearold lost the democratic presidential primary to hillary clinton and backed her for the white house last month at the national convention that was where tijerina and sanders diverged\n",
      "\n",
      "“a lot of us waited with bated breath wondering what’s he going to do” she said “because depending on what he did that’s where the movement was either going to go or not go he decided to stay there and the movement can’t stay there it cannot stay in a centrist environment the movement is antagonising that environment so we can’t stay there”\n",
      "\n",
      "tijerina and others were calling for a new phase of a sandersstyle political revolution on thursday as the green party kicked off its presidential nominating convention in the improbable location of houston texas – big oil’s back yard the convention’s slogan is “houston we have a solution”\n",
      "\n",
      "“to me the green party was the only other option” tijerina said in a conference room at the university of houston “there’s just no way that anything centre or right of centre was going to get america where it needed to be”\n",
      "\n",
      "the yearold nurse is standing as a green party candidate for a texas congressional district this november\n",
      "\n",
      "“when i found out about jill stein which was literally a month after i found out about bernie – depending on who you ask she is perhaps more progressive than bernie” tijerina said “she is perhaps more aggressive politically than bernie and she is perhaps some would say less afraid or less intimidated – or whatever it is she has what bernie has and perhaps more”\n",
      "\n",
      "stein is set to be confirmed as the green party’s nominee on saturday and is openly courting the seemingly large number of sanders supporters who are reluctant or refusing to heed his call to support clinton in a real clear politics average of recent polls stein is at  behind the libertarian party’s gary johnson at  donald trump is at  and clinton at \n",
      "\n",
      "hardly numbers to threaten the duopoly but enough to potentially complicate close races in swing states in november and indicative of significant unhappiness with the democratic and republican candidates in  johnson received only  and stein  of the popular vote enough also to awaken some deepseated democratic angst rooted in the trauma of  when some blamed green party candidate ralph nader’s presence in florida for costing al gore the general election and sending george w bush to the white house\n",
      "\n",
      "adding to the sense of the green party as an irritant for democrats wikileaks founder julian assange may address the convention via video link on saturday about two weeks after carefully timed leaked emails showed that democratic national committee officials seemingly plotted to undermine sanders’ campaign causing a storm and adding to his loyalists’ antagonism towards clinton and the party\n",
      "\n",
      "stein’s choice this week of the human rights activist ajamu baraka as her running mate might complicate the outreach in a blogpost last september on the left’s response or lack of it to saudi arabia’s bombing of yemen baraka wrote “sanders supporters have not only fallen into the ideological trap of a form of narrow ‘left’ nativism but also the white supremacist ethical contradiction that reinforces racist cynicism in which some lives are disposable for the greater good of the west\n",
      "\n",
      "“and as much as the ‘sandernistas’ attempt to disarticulate sanders ‘progressive’ domestic policies from his documented support for empire … it should be obvious that his campaign is an ideological prop – albeit from a centerleft position – of the logic and interests of the capitalistimperialist settler state”\n",
      "\n",
      "a request for comment made through stein’s campaign was not returned but it would likely take much more than some debatable blog articles to persuade many of the conventiongoers in houston to vote for an establishment figure they see as emblematic of a dishonest warmongering status quo that is in thrall to big corporations and unwilling or unable to solve systemic inequalities\n",
      "\n",
      "“voting for the oligarchy is not how you get rid of the oligarchy” said carlos martinez  an activist from texas who creates social media content “i in good conscience cannot vote for somebody that supports interventionist wars and supports what hillary clinton supports and i will vote for jill stein”\n",
      "\n",
      "sanders some clinton supporters – and trump himself – have argued that casting a ballot for the green party is tantamount to helping the republican candidate stein and her supporters of course reject that idea\n",
      "\n",
      "“i really can’t tell who or what donald trump is” martinez said “but that doesn’t mean that i’m going to be fearbaited into supporting hillary clinton and i don’t think that the majority of sanders supporters are scared to vote their conscience and they’re going to be fearmongered into pulling the lever for somebody that’s against their own interests”\n",
      "\n",
      "wearing a red “feel the bern” tshirt pam ellis attended a boisterous evening event designed to woo the “bernie or bust” crowd that drew a couple of hundred people\n",
      "\n",
      "“i have a conflict because i like bernie i never really cared that much for hillary nothing specific or anything i just feel like it’s more big money influence in politics” the yearold nurse said her top issues were access to education and healthcare subjects that were at the heart of sanders’ electoral pitch – focused like stein’s on social justice\n",
      "\n",
      "“i think he furthered the green party platform whether he intended to or not brought it to the forefront and caused me to do a lot of research on the green party and that’s why i’m here now” she said\n",
      "\n",
      "ellis also dismissed the notion that voters should think tactically “what good is it to live in the united states where you have the right to vote and the freedom to vote for who you want to if you’re going to be scared into voting” she said\n",
      "\n",
      "“i’m tired of the lesser of the evils i’m just sick of that that’s not what my father and his brothers went and fought in world war two for so we could be scared into voting for one of two candidates this is a huge country we should have debates with the libertarian party and the green party we need to hear from everybody”\n",
      "option bernie sander backer turn green party jill stein vanessa tijerina politically active couple year ago start look closely problem healthcare system feel mainstream politician deliver solution – discover bernie sander last september short notice drive three hour san antonio texas home near border mexico could join sander supporter protest democratic congressman criticise vermont senator january march manhattan sander inspire idealistic unorthodox message yearold lose democratic presidential primary hillary clinton back white house last month national convention tijerina sander diverge “ lot u wait bat breath wonder ’ go ” say “ depend ’ movement either go go go decide stay movement ’ stay stay centrist environment movement antagonise environment ’ stay ” tijerina others call new phase sandersstyle political revolution thursday green party kick presidential nominate convention improbable location houston texas – big oil ’ back yard convention ’ slogan “ houston solution ” “ green party option ” tijerina say conference room university houston “ ’ way anything centre right centre go get america need ” yearold nurse stand green party candidate texas congressional district november “ find jill stein literally month find bernie – depend ask perhaps progressive bernie ” tijerina say “ perhaps aggressive politically bernie perhaps would say le afraid le intimidate – whatever bernie perhaps ” stein set confirm green party ’ nominee saturday openly court seemingly large number sander supporter reluctant refuse heed call support clinton real clear politics average recent poll stein behind libertarian party ’ gary johnson donald trump clinton hardly number threaten duopoly enough potentially complicate close race swing state november indicative significant unhappiness democratic republican candidate johnson receive stein popular vote enough also awaken deepseated democratic angst root trauma blame green party candidate ralph nader ’ presence florida cost al gore general election send george w bush white house add sense green party irritant democrat wikileaks founder julian assange may address convention via video link saturday two week carefully time leak email show democratic national committee official seemingly plot undermine sander ’ campaign cause storm add loyalist ’ antagonism towards clinton party stein ’ choice week human right activist ajamu baraka run mate might complicate outreach blogpost last september leave ’ response lack saudi arabia ’ bomb yemen baraka write “ sander supporter fall ideological trap form narrow ‘ leave ’ nativism also white supremacist ethical contradiction reinforce racist cynicism live disposable greater good west “ much ‘ sandernistas ’ attempt disarticulate sander ‘ progressive ’ domestic policy document support empire … obvious campaign ideological prop – albeit centerleft position – logic interest capitalistimperialist settler state ” request comment make stein ’ campaign return would likely take much debatable blog article persuade many conventiongoers houston vote establishment figure see emblematic dishonest warmongering status quo thrall big corporation unwilling unable solve systemic inequality “ vote oligarchy get rid oligarchy ” say carlos martinez activist texas create social medium content “ good conscience vote somebody support interventionist war support hillary clinton support vote jill stein ” sander clinton supporter – trump – argue cast ballot green party tantamount help republican candidate stein supporter course reject idea “ really ’ tell donald trump ” martinez say “ ’ mean ’ go fearbaited support hillary clinton ’ think majority sander supporter scar vote conscience ’ go fearmongered pull lever somebody ’ interest ” wear red “ feel bern ” tshirt pam elli attend boisterous even event design woo “ bernie bust ” crowd draw couple hundred people “ conflict like bernie never really care much hillary nothing specific anything feel like ’ big money influence politics ” yearold nurse say top issue access education healthcare subject heart sander ’ electoral pitch – focus like stein ’ social justice “ think further green party platform whether intend bring forefront cause lot research green party ’ ’ ” say elli also dismiss notion voter think tactically “ good live unite state right vote freedom vote want ’ go scar vote ” say “ ’ tire lesser evil ’ sick ’ father brother go fight world war two could scar vote one two candidate huge country debate libertarian party green party need hear everybody ”\n",
      "142/142 [==============================] - 33s 235ms/step\n",
      "Probability of being real news: 0.19\n",
      "Probability of being fake news: 0.81\n",
      "The article is likely fake news.\n"
     ]
    }
   ],
   "source": [
    "# Apply the basic cleaning function\n",
    "sample_text_basic_clean = basic_cleaning(sample_text)\n",
    "print(sample_text_basic_clean)\n",
    "\n",
    "# Apply the NLP cleaning function\n",
    "sample_text_preprocess = nlp_cleaning(sample_text_basic_clean)\n",
    "print(sample_text_preprocess)\n",
    "\n",
    "# Tokenize sequences\n",
    "tokenizer = Tokenizer(num_words=5000)\n",
    "tokenizer.fit_on_texts(sample_text_preprocess)\n",
    "sample_text_seq = tokenizer.texts_to_sequences(sample_text_preprocess)\n",
    "\n",
    "# Pad sequences to ensure uniform input length\n",
    "sample_text_padded = pad_sequences(sample_text_seq, maxlen=500)\n",
    "\n",
    "# Make predictions using the trained model\n",
    "prediction = trained_lstm_model_vlad.predict(sample_text_padded)\n",
    "\n",
    "# Interpret the prediction as a probability\n",
    "probability_real = prediction[0][0]\n",
    "probability_fake = 1 - probability_real\n",
    "\n",
    "print(f\"Probability of being real news: {probability_real:.2f}\")\n",
    "print(f\"Probability of being fake news: {probability_fake:.2f}\")\n",
    "\n",
    "# Interpret the prediction (assuming a binary classification model)\n",
    "if probability_real > 0.5:\n",
    "    print(\"The article is likely real news.\")\n",
    "else:\n",
    "    print(\"The article is likely fake news.\")\n"
   ]
  },
  {
   "cell_type": "markdown",
   "id": "a7805150",
   "metadata": {},
   "source": [
    "## LSTM model 2 - Test accuracy = 0.94"
   ]
  },
  {
   "cell_type": "markdown",
   "id": "be84110d",
   "metadata": {},
   "source": [
    "### Modelling and training"
   ]
  },
  {
   "cell_type": "code",
   "execution_count": 25,
   "id": "a2a48465",
   "metadata": {},
   "outputs": [
    {
     "name": "stderr",
     "output_type": "stream",
     "text": [
      "2024-12-19 08:32:47.911021: W tensorflow/stream_executor/platform/default/dso_loader.cc:64] Could not load dynamic library 'libcuda.so.1'; dlerror: libcuda.so.1: cannot open shared object file: No such file or directory\n",
      "2024-12-19 08:32:47.911377: W tensorflow/stream_executor/cuda/cuda_driver.cc:263] failed call to cuInit: UNKNOWN ERROR (303)\n",
      "2024-12-19 08:32:47.911447: I tensorflow/stream_executor/cuda/cuda_diagnostics.cc:156] kernel driver does not appear to be running on this host (JAMs): /proc/driver/nvidia/version does not exist\n",
      "2024-12-19 08:32:47.913650: I tensorflow/core/platform/cpu_feature_guard.cc:193] This TensorFlow binary is optimized with oneAPI Deep Neural Network Library (oneDNN) to use the following CPU instructions in performance-critical operations:  AVX2 FMA\n",
      "To enable them in other operations, rebuild TensorFlow with the appropriate compiler flags.\n"
     ]
    }
   ],
   "source": [
    "# Instantiate the LSTM model\n",
    "lstm_model_2 = Sequential()\n",
    "\n",
    "# Add an embedding layer\n",
    "lstm_model_2.add(Embedding(input_dim=5000, output_dim=16, input_length=500, mask_zero=True))\n",
    "\n",
    "# Add the LSTM layer\n",
    "lstm_model_2.add(LSTM(units=16, return_sequences=False))\n",
    "lstm_model_2.add(Dense(units=1, activation='sigmoid'))\n"
   ]
  },
  {
   "cell_type": "code",
   "execution_count": 26,
   "id": "93a9dfa4",
   "metadata": {},
   "outputs": [],
   "source": [
    "# Adjust the Adam optimizer parameters\n",
    "adam_optimizer = Adam(learning_rate=0.001)\n",
    "\n",
    "# Compile the model with Adam optimizer and binary cross-entropy loss\n",
    "lstm_model_2.compile(optimizer=adam_optimizer, loss='binary_crossentropy', metrics=['accuracy'])"
   ]
  },
  {
   "cell_type": "code",
   "execution_count": 27,
   "id": "148e6338",
   "metadata": {},
   "outputs": [
    {
     "name": "stdout",
     "output_type": "stream",
     "text": [
      "Epoch 1/10\n",
      "395/395 [==============================] - 173s 429ms/step - loss: 0.3224 - accuracy: 0.8731 - val_loss: 0.1985 - val_accuracy: 0.9329\n",
      "Epoch 2/10\n",
      "395/395 [==============================] - 196s 496ms/step - loss: 0.1686 - accuracy: 0.9435 - val_loss: 0.1693 - val_accuracy: 0.9403\n",
      "Epoch 3/10\n",
      "395/395 [==============================] - 175s 444ms/step - loss: 0.1509 - accuracy: 0.9507 - val_loss: 0.1650 - val_accuracy: 0.9431\n",
      "Epoch 4/10\n",
      "395/395 [==============================] - 191s 484ms/step - loss: 0.1788 - accuracy: 0.9395 - val_loss: 0.2172 - val_accuracy: 0.9048\n",
      "Epoch 5/10\n",
      "395/395 [==============================] - 201s 508ms/step - loss: 0.1352 - accuracy: 0.9550 - val_loss: 0.1772 - val_accuracy: 0.9377\n",
      "Epoch 6/10\n",
      "395/395 [==============================] - 186s 472ms/step - loss: 0.1189 - accuracy: 0.9620 - val_loss: 0.1569 - val_accuracy: 0.9482\n",
      "Epoch 7/10\n",
      "395/395 [==============================] - 209s 530ms/step - loss: 0.1089 - accuracy: 0.9652 - val_loss: 0.1527 - val_accuracy: 0.9506\n",
      "Epoch 8/10\n",
      "395/395 [==============================] - 221s 561ms/step - loss: 0.1224 - accuracy: 0.9584 - val_loss: 0.1616 - val_accuracy: 0.9455\n",
      "Epoch 9/10\n",
      "395/395 [==============================] - 234s 594ms/step - loss: 0.1126 - accuracy: 0.9646 - val_loss: 0.1455 - val_accuracy: 0.9525\n",
      "Epoch 10/10\n",
      "395/395 [==============================] - 242s 614ms/step - loss: 0.1286 - accuracy: 0.9579 - val_loss: 0.1552 - val_accuracy: 0.9433\n"
     ]
    }
   ],
   "source": [
    "# Early stopping\n",
    "early_stopping = EarlyStopping(monitor='val_loss', patience=3, restore_best_weights=True)\n",
    "\n",
    "# Train the model with early stopping\n",
    "history_6 = lstm_model_2.fit(\n",
    "    X_train_padded, y_train,\n",
    "    epochs=10,\n",
    "    batch_size=128,\n",
    "    validation_data=(X_test_padded, y_test),\n",
    "    callbacks=[early_stopping]\n",
    ")"
   ]
  },
  {
   "cell_type": "code",
   "execution_count": 28,
   "id": "3779c821",
   "metadata": {},
   "outputs": [
    {
     "data": {
      "image/png": "[encoded data removed]",
      "text/plain": [
       "<Figure size 1400x500 with 2 Axes>"
      ]
     },
     "metadata": {},
     "output_type": "display_data"
    }
   ],
   "source": [
    "# Plot training & validation accuracy values\n",
    "plt.figure(figsize=(14, 5))\n",
    "\n",
    "plt.subplot(1, 2, 1)\n",
    "plt.plot(history_6.history['accuracy'])\n",
    "plt.plot(history_6.history['val_accuracy'])\n",
    "plt.title('Model accuracy')\n",
    "plt.ylabel('Accuracy')\n",
    "plt.xlabel('Epoch')\n",
    "plt.legend(['Train', 'Test'], loc='upper left')\n",
    "\n",
    "# Plot training & validation loss values\n",
    "plt.subplot(1, 2, 2)\n",
    "plt.plot(history_6.history['loss'])\n",
    "plt.plot(history_6.history['val_loss'])\n",
    "plt.title('Model loss')\n",
    "plt.ylabel('Loss')\n",
    "plt.xlabel('Epoch')\n",
    "plt.legend(['Train', 'Test'], loc='upper left')\n",
    "\n",
    "plt.show()\n"
   ]
  },
  {
   "cell_type": "code",
   "execution_count": 29,
   "id": "d5213e7e",
   "metadata": {},
   "outputs": [
    {
     "name": "stdout",
     "output_type": "stream",
     "text": [
      "677/677 [==============================] - 56s 82ms/step - loss: 0.1552 - accuracy: 0.9433\n",
      "Test Accuracy: 0.94\n"
     ]
    }
   ],
   "source": [
    "# Evaluate the model on the test data\n",
    "loss_6, accuracy_6 = lstm_model_2.evaluate(X_test_padded, y_test)\n",
    "print(f\"Test Accuracy: {accuracy_6:.2f}\")"
   ]
  },
  {
   "cell_type": "code",
   "execution_count": 30,
   "id": "45a687cf",
   "metadata": {},
   "outputs": [
    {
     "name": "stdout",
     "output_type": "stream",
     "text": [
      "677/677 [==============================] - 41s 57ms/step\n"
     ]
    }
   ],
   "source": [
    "# Generate predictions\n",
    "y_pred_prob_6 = lstm_model_2.predict(X_test_padded)\n",
    "# Convert probabs to 0 or 1\n",
    "y_pred_6 = (y_pred_prob_6 > 0.5).astype(int)"
   ]
  },
  {
   "cell_type": "code",
   "execution_count": 31,
   "id": "ee171e58",
   "metadata": {},
   "outputs": [
    {
     "name": "stdout",
     "output_type": "stream",
     "text": [
      "Accuracy: 0.94\n",
      "Precision: 0.94\n",
      "Recall: 0.95\n",
      "F1 Score: 0.94\n",
      "Classification Report:\n",
      "               precision    recall  f1-score   support\n",
      "\n",
      "       False       0.95      0.94      0.94     10613\n",
      "        True       0.94      0.95      0.94     11028\n",
      "\n",
      "    accuracy                           0.94     21641\n",
      "   macro avg       0.94      0.94      0.94     21641\n",
      "weighted avg       0.94      0.94      0.94     21641\n",
      "\n"
     ]
    }
   ],
   "source": [
    "# Performance metrics\n",
    "perfomance_accuracy_6 = accuracy_score(y_test, y_pred_6)\n",
    "perfomance_precision_6 = precision_score(y_test, y_pred_6)\n",
    "perfomance_recall_6 = recall_score(y_test, y_pred_6)\n",
    "perfomance_f1_6 = f1_score(y_test, y_pred_6)\n",
    "\n",
    "# Print performance metrics\n",
    "print(f\"Accuracy: {perfomance_accuracy_6:.2f}\")\n",
    "print(f\"Precision: {perfomance_precision_6:.2f}\")\n",
    "print(f\"Recall: {perfomance_recall_6:.2f}\")\n",
    "print(f\"F1 Score: {perfomance_f1_6:.2f}\")\n",
    "\n",
    "# Classification report\n",
    "print(\"Classification Report:\\n\", classification_report(y_test, y_pred_6))\n"
   ]
  },
  {
   "cell_type": "code",
   "execution_count": 32,
   "id": "52922cb7",
   "metadata": {},
   "outputs": [],
   "source": [
    "# Calculate the confusion matrix\n",
    "cm_6 = confusion_matrix(y_test, y_pred_6)"
   ]
  },
  {
   "cell_type": "code",
   "execution_count": 33,
   "id": "82fd2b51",
   "metadata": {},
   "outputs": [
    {
     "data": {
      "text/plain": [
       "array([[ 9950,   663],\n",
       "       [  565, 10463]])"
      ]
     },
     "execution_count": 33,
     "metadata": {},
     "output_type": "execute_result"
    }
   ],
   "source": [
    "cm_6"
   ]
  },
  {
   "cell_type": "code",
   "execution_count": 34,
   "id": "6f83b980",
   "metadata": {},
   "outputs": [
    {
     "data": {
      "image/png": "[encoded data removed]",
      "text/plain": [
       "<Figure size 640x480 with 2 Axes>"
      ]
     },
     "metadata": {},
     "output_type": "display_data"
    }
   ],
   "source": [
    "ax = sns.heatmap(cm_6, annot=True, cmap=\"coolwarm\", fmt=\"d\", cbar=True)\n",
    "ax.xaxis.set_ticklabels(['fake news','real news'])\n",
    "ax.yaxis.set_ticklabels(['fake news','real news'])\n",
    "ax.set_title('Confusion Matrix - LSTM',fontsize=18)\n",
    "\n",
    "plt.tight_layout()"
   ]
  },
  {
   "cell_type": "code",
   "execution_count": 35,
   "id": "9bd37b57",
   "metadata": {},
   "outputs": [],
   "source": [
    "lstm_model_2.save('trained_lstm_model_20241219_0909_ta_97.h5') # save in h5 compressed format"
   ]
  },
  {
   "cell_type": "markdown",
   "id": "2039d555",
   "metadata": {},
   "source": [
    "### Loading and predicting"
   ]
  },
  {
   "cell_type": "code",
   "execution_count": 36,
   "id": "c701a962",
   "metadata": {},
   "outputs": [],
   "source": [
    "trained_lstm_model_2 = tf.keras.models.load_model('trained_lstm_model_20241219_0909_ta_97.h5')"
   ]
  },
  {
   "cell_type": "code",
   "execution_count": 37,
   "id": "4c6ebd8a",
   "metadata": {},
   "outputs": [
    {
     "name": "stdout",
     "output_type": "stream",
     "text": [
      "Model: \"sequential\"\n",
      "_________________________________________________________________\n",
      " Layer (type)                Output Shape              Param #   \n",
      "=================================================================\n",
      " embedding (Embedding)       (None, 500, 16)           80000     \n",
      "                                                                 \n",
      " lstm (LSTM)                 (None, 16)                2112      \n",
      "                                                                 \n",
      " dense (Dense)               (None, 1)                 17        \n",
      "                                                                 \n",
      "=================================================================\n",
      "Total params: 82,129\n",
      "Trainable params: 82,129\n",
      "Non-trainable params: 0\n",
      "_________________________________________________________________\n"
     ]
    }
   ],
   "source": [
    "trained_lstm_model_2.summary()"
   ]
  },
  {
   "cell_type": "code",
   "execution_count": 38,
   "id": "a34199bc",
   "metadata": {},
   "outputs": [
    {
     "data": {
      "text/plain": [
       "Unnamed: 0\n",
       "61370     True\n",
       "2189      True\n",
       "60609    False\n",
       "51565    False\n",
       "39431     True\n",
       "47839     True\n",
       "42729     True\n",
       "37882    False\n",
       "10893    False\n",
       "46977     True\n",
       "48546     True\n",
       "9712      True\n",
       "28626    False\n",
       "30338    False\n",
       "42408     True\n",
       "13072     True\n",
       "43920     True\n",
       "41529     True\n",
       "24096    False\n",
       "55641     True\n",
       "Name: label, dtype: bool"
      ]
     },
     "execution_count": 38,
     "metadata": {},
     "output_type": "execute_result"
    }
   ],
   "source": [
    "y_test.head(20)"
   ]
  },
  {
   "cell_type": "code",
   "execution_count": 49,
   "id": "9f012ac0",
   "metadata": {},
   "outputs": [
    {
     "name": "stdout",
     "output_type": "stream",
     "text": [
      "Selected text: Trump to Republican senators: Don't leave town until pass healthcare legislation WASHINGTON (Reuters) - U.S. President Donald Trump urged Republican senators on Wednesday to work out their differences and pass healthcare legislation before leaving Washington for their August recess. A day after the latest version of legislation to replace Obamacare fell victim to squabbling among Republicans who control the Senate, Trump gathered Republican senators for a lunch and told them, “We are so close.” He said Republicans had promised Americans they would repeal and replace President Barack Obama’s signature healthcare law for seven years and that now is the time to act. “We have to stay here. We shouldn’t leave town,” Trump said. \n",
      "Actual label: False\n"
     ]
    }
   ],
   "source": [
    "# Select a specific row from X_test\n",
    "row_index = 8  # Change this index to select a different row\n",
    "sample_text = X_test.iloc[row_index]\n",
    "sample_label = y_test.iloc[row_index]\n",
    "\n",
    "print(f\"Selected text: {sample_text}\")\n",
    "print(f\"Actual label: {sample_label}\")\n"
   ]
  },
  {
   "cell_type": "code",
   "execution_count": null,
   "id": "af187af0",
   "metadata": {},
   "outputs": [
    {
     "name": "stdout",
     "output_type": "stream",
     "text": [
      "trump to republican senators dont leave town until pass healthcare legislation washington reuters  us president donald trump urged republican senators on wednesday to work out their differences and pass healthcare legislation before leaving washington for their august recess a day after the latest version of legislation to replace obamacare fell victim to squabbling among republicans who control the senate trump gathered republican senators for a lunch and told them “we are so close” he said republicans had promised americans they would repeal and replace president barack obama’s signature healthcare law for seven years and that now is the time to act “we have to stay here we shouldn’t leave town” trump said\n",
      "trump republican senator dont leave town pas healthcare legislation washington reuters u president donald trump urge republican senator wednesday work difference pas healthcare legislation leave washington august recess day latest version legislation replace obamacare fell victim squabble among republican control senate trump gather republican senator lunch tell “ close ” say republican promise american would repeal replace president barack obama ’ signature healthcare law seven year time act “ stay ’ leave town ” trump say\n",
      "1/1 [==============================] - 0s 89ms/step\n",
      "Probability of being real news: 0.01\n",
      "Probability of being fake news: 0.99\n",
      "The article is likely fake news.\n"
     ]
    }
   ],
   "source": [
    "# Load the tokenizer\n",
    "with open('tokenizer.pkl', 'rb') as file:\n",
    "    loaded_tokenizer = pickle.load(file)\n",
    "\n",
    "# Apply the basic cleaning function\n",
    "sample_text_basic_clean = basic_cleaning(sample_text)\n",
    "print(sample_text_basic_clean)\n",
    "\n",
    "# Apply the NLP cleaning function\n",
    "sample_text_preprocess = nlp_cleaning(sample_text_basic_clean)\n",
    "print(sample_text_preprocess)\n",
    "\n",
    "# Tokenize sequences\n",
    "sample_text_seq = loaded_tokenizer.texts_to_sequences([sample_text_preprocess])\n",
    "\n",
    "# Pad sequences to ensure uniform input length\n",
    "max_length = 500\n",
    "sample_text_padded = pad_sequences(sample_text_seq, maxlen=max_length, dtype='float32', padding='pre', value=0)\n",
    "\n",
    "# Make predictions using the trained model\n",
    "prediction = trained_lstm_model_2.predict(sample_text_padded)\n",
    "\n",
    "# Interpret the prediction as a probability\n",
    "probability_real = prediction[0][0]\n",
    "probability_fake = 1 - probability_real\n",
    "\n",
    "print(f\"Probability of being real news: {probability_real:.2f}\")\n",
    "print(f\"Probability of being fake news: {probability_fake:.2f}\")\n",
    "\n",
    "# Interpret the prediction (assuming a binary classification model)\n",
    "if probability_real > 0.5:\n",
    "    print(\"The article is likely real news.\")\n",
    "else:\n",
    "    print(\"The article is likely fake news.\")\n"
   ]
  },
  {
   "cell_type": "markdown",
   "id": "31c5058d",
   "metadata": {},
   "source": [
    "# Sample texts"
   ]
  },
  {
   "cell_type": "code",
   "execution_count": null,
   "id": "4e1703fd",
   "metadata": {},
   "outputs": [
    {
     "name": "stdout",
     "output_type": "stream",
     "text": [
      "Random fake texts have been written to random_fake_texts.txt\n"
     ]
    }
   ],
   "source": [
    "# Filter the X_test dataset to get only the fake news entries\n",
    "fake_texts = X_test[y_test == 0]\n",
    "\n",
    "# Randomly sample 30 fake news entries (example dataset may have fewer than 30)\n",
    "random_fake_texts = fake_texts.sample(n=min(30, len(fake_texts)), random_state=42)\n",
    "\n",
    "# Write the sampled fake texts to a .txt file\n",
    "with open('random_fake_texts.txt', 'w') as file:\n",
    "    for text in random_fake_texts:\n",
    "        file.write(f'text=\"{text}\"\\nlabel=False\\n\\n######################################################################################\\n\\n')\n",
    "\n",
    "print(\"Random fake texts have been written to random_fake_texts.txt\")\n"
   ]
  },
  {
   "cell_type": "code",
   "execution_count": null,
   "id": "aa49a8f0",
   "metadata": {},
   "outputs": [
    {
     "name": "stdout",
     "output_type": "stream",
     "text": [
      "Random real texts have been written to random_real_texts.txt\n"
     ]
    }
   ],
   "source": [
    "# Filter the X_test dataset to get only the real news entries\n",
    "real_texts = X_test[y_test == 1]\n",
    "\n",
    "# Randomly sample 30 real news entries\n",
    "random_real_texts = real_texts.sample(n=min(30, len(real_texts)), random_state=42)\n",
    "\n",
    "# Write the sampled fake texts to a .txt file\n",
    "with open('random_real_texts.txt', 'w') as file:\n",
    "    for text in random_real_texts:\n",
    "        file.write(f'text=\"{text}\"\\nlabel=True\\n\\n######################################################################################\\n\\n')\n",
    "\n",
    "print(\"Random real texts have been written to random_real_texts.txt\")\n"
   ]
  }
 ],
 "metadata": {
  "kernelspec": {
   "display_name": "Fake_news_detection",
   "language": "python",
   "name": "python3"
  },
  "language_info": {
   "codemirror_mode": {
    "name": "ipython",
    "version": 3
   },
   "file_extension": ".py",
   "mimetype": "text/x-python",
   "name": "python",
   "nbconvert_exporter": "python",
   "pygments_lexer": "ipython3",
   "version": "3.10.6"
  },
  "toc": {
   "base_numbering": 1,
   "nav_menu": {},
   "number_sections": true,
   "sideBar": true,
   "skip_h1_title": false,
   "title_cell": "Table of Contents",
   "title_sidebar": "Contents",
   "toc_cell": false,
   "toc_position": {},
   "toc_section_display": true,
   "toc_window_display": false
  }
 },
 "nbformat": 4,
 "nbformat_minor": 5
}
