{
 "cells": [
  {
   "cell_type": "code",
   "execution_count": null,
   "id": "13af4e71",
   "metadata": {},
   "outputs": [],
   "source": [
    "import pandas as pd\n",
    "\n",
    "# Lade die CSV-Datei\n",
    "data = pd.read_csv('../raw_data/WELFake_Dataset.csv')"
   ]
  },
  {
   "cell_type": "code",
   "execution_count": 140,
   "id": "f3c05207",
   "metadata": {},
   "outputs": [],
   "source": [
    "data = df.copy()"
   ]
  },
  {
   "cell_type": "code",
   "execution_count": 141,
   "id": "e5933af4",
   "metadata": {},
   "outputs": [],
   "source": [
    "data.drop('Unnamed: 0',axis=1,inplace=True)"
   ]
  },
  {
   "cell_type": "code",
   "execution_count": 142,
   "id": "ad6c73d2",
   "metadata": {},
   "outputs": [
    {
     "name": "stdout",
     "output_type": "stream",
     "text": [
      "data.shape: (72134, 3)\n"
     ]
    }
   ],
   "source": [
    "print(f\"data.shape: {data.shape}\")"
   ]
  },
  {
   "cell_type": "code",
   "execution_count": 143,
   "id": "841e5658",
   "metadata": {},
   "outputs": [],
   "source": [
    "data = data.head(45000)"
   ]
  },
  {
   "cell_type": "code",
   "execution_count": 144,
   "id": "170a3f23",
   "metadata": {},
   "outputs": [
    {
     "data": {
      "text/plain": [
       "(45000, 3)"
      ]
     },
     "execution_count": 144,
     "metadata": {},
     "output_type": "execute_result"
    }
   ],
   "source": [
    "data.shape"
   ]
  },
  {
   "cell_type": "markdown",
   "id": "5b790788",
   "metadata": {},
   "source": [
    "## combine title and text, and delete title"
   ]
  },
  {
   "cell_type": "code",
   "execution_count": null,
   "id": "8c0c9543",
   "metadata": {},
   "outputs": [],
   "source": [
    "## Cleaning 2: combine the text and the title\n",
    "## Cleaning 1: filling the missing data with spaces\n",
    "data = data.fillna(' ') ## aplying to na via fillna\n",
    "\n",
    "## Cleaning 2: combine the text and the title\n",
    "data['text'] = data['title'] + data['text']\n",
    "\n",
    "## delete title column\n",
    "data.drop('title',axis=1,inplace=True)"
   ]
  },
  {
   "cell_type": "code",
   "execution_count": 146,
   "id": "7ddece1e",
   "metadata": {},
   "outputs": [
    {
     "name": "stdout",
     "output_type": "stream",
     "text": [
      "data.shape: (45000, 2)\n"
     ]
    }
   ],
   "source": [
    "print(f\"data.shape: {data.shape}\")"
   ]
  },
  {
   "cell_type": "markdown",
   "id": "c60a4b3c",
   "metadata": {},
   "source": [
    "## check balance"
   ]
  },
  {
   "cell_type": "code",
   "execution_count": 147,
   "id": "b07843b1",
   "metadata": {},
   "outputs": [
    {
     "data": {
      "image/png": "[encoded data removed]",
      "text/plain": [
       "<Figure size 800x600 with 1 Axes>"
      ]
     },
     "metadata": {},
     "output_type": "display_data"
    }
   ],
   "source": [
    "# wieviel ist von labe 1 und 0\n",
    "import matplotlib.pyplot as plt\n",
    "import seaborn as sns\n",
    "\n",
    "# Berechne die normalisierten Werte\n",
    "label_counts = round(data[\"label\"].value_counts(normalize=True), 2)\n",
    "\n",
    "# Erstelle den Plot\n",
    "plt.figure(figsize=(8, 6))\n",
    "sns.barplot(x=label_counts.index, y=label_counts.values, palette=\"viridis\")\n",
    "\n",
    "# Füge Titel und Achsenbezeichner hinzu\n",
    "plt.title(\"Normalized Value Counts of 'label'\", fontsize=14)\n",
    "plt.xlabel(\"Label\", fontsize=12)\n",
    "plt.ylabel(\"Normalized Frequency\", fontsize=12)\n",
    "\n",
    "# Zeige den Plot\n",
    "plt.show()"
   ]
  },
  {
   "cell_type": "markdown",
   "id": "4b0ff656",
   "metadata": {},
   "source": [
    "## check nulls"
   ]
  },
  {
   "cell_type": "code",
   "execution_count": 148,
   "id": "dee7bd22",
   "metadata": {},
   "outputs": [
    {
     "name": "stdout",
     "output_type": "stream",
     "text": [
      "text     0\n",
      "label    0\n",
      "dtype: int64\n",
      "text     0.0\n",
      "label    0.0\n",
      "dtype: float64\n"
     ]
    }
   ],
   "source": [
    "# nun werte zählen\n",
    "nan_in_df = data.isna().sum()\n",
    "print(nan_in_df)\n",
    "# Berechne den Prozentsatz der NaN-Werte in jeder Spalte\n",
    "nan_percentage = (data.isna().sum() / len(data)) * 100\n",
    "print(nan_percentage)"
   ]
  },
  {
   "cell_type": "markdown",
   "id": "a748cdf9",
   "metadata": {},
   "source": [
    "## delete duplicated raws"
   ]
  },
  {
   "cell_type": "code",
   "execution_count": 149,
   "id": "463afae2",
   "metadata": {},
   "outputs": [],
   "source": [
    "data.drop_duplicates(inplace=True)"
   ]
  },
  {
   "cell_type": "markdown",
   "id": "250775fd",
   "metadata": {},
   "source": [
    "## Data Basic Cleaning: strip, lower, digit, punctuation"
   ]
  },
  {
   "cell_type": "code",
   "execution_count": null,
   "id": "bba0420e",
   "metadata": {},
   "outputs": [],
   "source": [
    "import re\n",
    "import string\n",
    "\n",
    "def basic_cleaning(texte):\n",
    "    # stripping:\n",
    "    data['text'] = data['text'].str.strip()\n",
    "\n",
    "    # lower:\n",
    "    data['text'] = data['text'].str.lower()\n",
    "\n",
    "    # digit: Entferne Ziffern aus jeder Zeile der Spalte 'text'\n",
    "    data['text'] = data['text'].apply(lambda x: ''.join(char for char in x if not char.isdigit()))\n",
    "\n",
    "    # punctuation: Entferne alle Satzzeichen aus der 'text'-Spalte\n",
    "    data['text'] = data['text'].str.replace(r'[{}]'.format(re.escape(string.punctuation)), '', regex=True)\n",
    "\n",
    "    # delete html-tags\n",
    "    data['text'] = data['text'].apply(lambda x: re.sub('<[^<]+?>', '', x))\n",
    "\n",
    "    return data['text']"
   ]
  },
  {
   "cell_type": "code",
   "execution_count": 151,
   "id": "68018946",
   "metadata": {},
   "outputs": [
    {
     "name": "stdout",
     "output_type": "stream",
     "text": [
      "Time to basic clean 20323.86 s\n"
     ]
    }
   ],
   "source": [
    "import time\n",
    "s = time.time()\n",
    "data['text'] = basic_cleaning(data['text'])\n",
    "time_to_clean = time.time() - s\n",
    "print('Time to basic clean {:.2f} s'.format(time_to_clean))"
   ]
  },
  {
   "cell_type": "code",
   "execution_count": 152,
   "id": "670cc5c0",
   "metadata": {},
   "outputs": [
    {
     "data": {
      "text/html": [
       "<div>\n",
       "<style scoped>\n",
       "    .dataframe tbody tr th:only-of-type {\n",
       "        vertical-align: middle;\n",
       "    }\n",
       "\n",
       "    .dataframe tbody tr th {\n",
       "        vertical-align: top;\n",
       "    }\n",
       "\n",
       "    .dataframe thead th {\n",
       "        text-align: right;\n",
       "    }\n",
       "</style>\n",
       "<table border=\"1\" class=\"dataframe\">\n",
       "  <thead>\n",
       "    <tr style=\"text-align: right;\">\n",
       "      <th></th>\n",
       "      <th>text</th>\n",
       "      <th>label</th>\n",
       "    </tr>\n",
       "  </thead>\n",
       "  <tbody>\n",
       "    <tr>\n",
       "      <th>0</th>\n",
       "      <td>law enforcement on high alert following threat...</td>\n",
       "      <td>1</td>\n",
       "    </tr>\n",
       "    <tr>\n",
       "      <th>1</th>\n",
       "      <td>did they post their votes for hillary already</td>\n",
       "      <td>1</td>\n",
       "    </tr>\n",
       "    <tr>\n",
       "      <th>2</th>\n",
       "      <td>unbelievable obama’s attorney general says mos...</td>\n",
       "      <td>1</td>\n",
       "    </tr>\n",
       "    <tr>\n",
       "      <th>3</th>\n",
       "      <td>bobby jindal raised hindu uses story of christ...</td>\n",
       "      <td>0</td>\n",
       "    </tr>\n",
       "    <tr>\n",
       "      <th>4</th>\n",
       "      <td>satan  russia unvelis an image of its terrifyi...</td>\n",
       "      <td>1</td>\n",
       "    </tr>\n",
       "  </tbody>\n",
       "</table>\n",
       "</div>"
      ],
      "text/plain": [
       "                                                text  label\n",
       "0  law enforcement on high alert following threat...      1\n",
       "1      did they post their votes for hillary already      1\n",
       "2  unbelievable obama’s attorney general says mos...      1\n",
       "3  bobby jindal raised hindu uses story of christ...      0\n",
       "4  satan  russia unvelis an image of its terrifyi...      1"
      ]
     },
     "execution_count": 152,
     "metadata": {},
     "output_type": "execute_result"
    }
   ],
   "source": [
    "data.head()"
   ]
  },
  {
   "cell_type": "markdown",
   "id": "5edff349",
   "metadata": {},
   "source": [
    "## nlp cleaning: tokenizing, stopwords, lemmatize"
   ]
  },
  {
   "cell_type": "code",
   "execution_count": null,
   "id": "551d7ca1",
   "metadata": {},
   "outputs": [],
   "source": [
    "from nltk.corpus import stopwords\n",
    "from nltk.tokenize import word_tokenize\n",
    "from nltk.stem import WordNetLemmatizer\n",
    "\n",
    "stop_words = set(stopwords.words('english'))\n",
    "\n",
    "# Tokenisieren und Stopwörter entfernen\n",
    "def delete_stop_words(text):\n",
    "    # Entferne Stopwörter und Satzzeichen\n",
    "    text = [word for word in text if word.lower() not in stop_words and word not in string.punctuation]\n",
    "    return text\n",
    "\n",
    "# Lemmatization-Funktion anwenden\n",
    "def lemmatize_text(text):\n",
    "\n",
    "    # Lemmatize Verben\n",
    "    verb_lemmatized = [\n",
    "        WordNetLemmatizer().lemmatize(word, pos=\"v\")  # v --> Verben\n",
    "        for word in text\n",
    "    ]\n",
    "\n",
    "    # Lemmatize Nomen\n",
    "    noun_lemmatized = [\n",
    "        WordNetLemmatizer().lemmatize(word, pos=\"n\")  # n --> Nomen\n",
    "        for word in verb_lemmatized\n",
    "    ]\n",
    "\n",
    "    return noun_lemmatized\n",
    "\n",
    "def nlp_cleaning(texte):\n",
    "\n",
    "    # Tokenisierung auf jede Zeile der Spalte 'text' anwenden\n",
    "    texte = texte.apply(word_tokenize)\n",
    "\n",
    "    # delete stopwars\n",
    "    texte = texte.apply(delete_stop_words)\n",
    "\n",
    "    # lemmatize text\n",
    "    texte = texte.apply(lemmatize_text)\n",
    "\n",
    "    # Füge die Wörter wieder zu einem String zusammen\n",
    "    texte = texte.apply(lambda x: ' '.join(x))\n",
    "\n",
    "    return texte"
   ]
  },
  {
   "cell_type": "code",
   "execution_count": null,
   "id": "63f9f51e",
   "metadata": {},
   "outputs": [],
   "source": [
    "s = time.time()\n",
    "data['text'] = nlp_cleaning(data['text'])\n",
    "time_to_clean = time.time() - s\n",
    "print('Time to nlp clean {:.2f} s'.format(time_to_clean))"
   ]
  },
  {
   "cell_type": "code",
   "execution_count": null,
   "id": "42613ccd",
   "metadata": {},
   "outputs": [],
   "source": [
    "data.head(10)"
   ]
  },
  {
   "cell_type": "code",
   "execution_count": null,
   "id": "cf644d41",
   "metadata": {},
   "outputs": [],
   "source": [
    "# Shuffle the dataframe\n",
    "data = data.sample(frac=1,random_state=42)"
   ]
  },
  {
   "cell_type": "code",
   "execution_count": null,
   "id": "c2594e9d",
   "metadata": {},
   "outputs": [],
   "source": [
    "X = data['text']\n",
    "y = data['label']"
   ]
  },
  {
   "cell_type": "code",
   "execution_count": null,
   "id": "7cd10011",
   "metadata": {},
   "outputs": [],
   "source": [
    "from sklearn.model_selection import train_test_split\n",
    "from sklearn.metrics import accuracy_score, f1_score\n",
    "from sklearn.metrics import classification_report,confusion_matrix\n",
    "from sklearn.feature_extraction.text import TfidfVectorizer\n",
    "from sklearn.pipeline import Pipeline\n",
    "from sklearn.naive_bayes import MultinomialNB\n",
    "\n",
    "\n",
    "X_train,X_test,y_train,y_test = train_test_split(X,y,test_size=0.3,random_state=42)\n",
    "# Create tokenization and modelling pipeline\n",
    "model_NB = Pipeline([\n",
    "                    (\"tfidf\",TfidfVectorizer()), # convert words to numbers using tfidf\n",
    "                    (\"clf\",MultinomialNB())]) # model the text\n",
    "\n",
    "# Fit the pipeline to the training data\n",
    "model_NB.fit(X_train, y_train)\n",
    "test_score = model_NB.score(X_test,y_test)\n",
    "test_score"
   ]
  }
 ],
 "metadata": {
  "kernelspec": {
   "display_name": "Python 3 (ipykernel)",
   "language": "python",
   "name": "python3"
  },
  "language_info": {
   "codemirror_mode": {
    "name": "ipython",
    "version": 3
   },
   "file_extension": ".py",
   "mimetype": "text/x-python",
   "name": "python",
   "nbconvert_exporter": "python",
   "pygments_lexer": "ipython3",
   "version": "3.10.6"
  },
  "toc": {
   "base_numbering": 1,
   "nav_menu": {},
   "number_sections": true,
   "sideBar": true,
   "skip_h1_title": false,
   "title_cell": "Table of Contents",
   "title_sidebar": "Contents",
   "toc_cell": false,
   "toc_position": {},
   "toc_section_display": true,
   "toc_window_display": false
  }
 },
 "nbformat": 4,
 "nbformat_minor": 5
}
