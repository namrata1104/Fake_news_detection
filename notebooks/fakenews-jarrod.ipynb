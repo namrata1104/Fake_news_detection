{
 "cells": [
  {
   "cell_type": "code",
   "execution_count": 54,
   "id": "13af4e71",
   "metadata": {},
   "outputs": [],
   "source": [
    "import pandas as pd\n",
    "import re\n",
    "import string\n",
    "\n",
    "# %pip install nltk\n",
    "\n",
    "import nltk\n",
    "from nltk.corpus import stopwords\n",
    "from nltk.tokenize import word_tokenize\n",
    "from nltk.stem import WordNetLemmatizer\n",
    "\n",
    "import time\n",
    "\n",
    "from sklearn.model_selection import train_test_split\n",
    "from sklearn.metrics import confusion_matrix, accuracy_score, precision_score, recall_score, f1_score, classification_report\n",
    "\n",
    "import tensorflow as tf\n",
    "from tensorflow.keras.preprocessing.text import Tokenizer\n",
    "from tensorflow.keras.preprocessing.sequence import pad_sequences\n",
    "from tensorflow.keras.models import Sequential\n",
    "from tensorflow.keras.layers import Embedding, SimpleRNN, Dense, Dropout\n",
    "from tensorflow.keras.optimizers import Adam\n",
    "\n",
    "import seaborn as sns\n",
    "import matplotlib.pyplot as plt\n",
    "\n",
    "import pickle\n"
   ]
  },
  {
   "cell_type": "markdown",
   "id": "19f90093",
   "metadata": {},
   "source": [
    "# Preprocessing Functions"
   ]
  },
  {
   "cell_type": "markdown",
   "id": "464a25a3-3d36-4f0c-8254-a246b6738000",
   "metadata": {},
   "source": [
    "## Data cleaning: strip, lower, digit, punctuation"
   ]
  },
  {
   "cell_type": "code",
   "execution_count": null,
   "id": "bba0420e",
   "metadata": {},
   "outputs": [],
   "source": [
    "def basic_cleaning(texte):\n",
    "    # stripping:\n",
    "    data['text'] = data['text'].str.strip()\n",
    "\n",
    "    # tolower:\n",
    "    data['text'] = data['text'].str.lower()\n",
    "\n",
    "    # digit: Remove digits from each row of the ‘text’ column\n",
    "    data['text'] = data['text'].apply(lambda x: ''.join(char for char in x if not char.isdigit()))\n",
    "\n",
    "    # punctuation: Remove all punctuation marks from the ‘text’ column\n",
    "    data['text'] = data['text'].str.replace(r'[{}]'.format(re.escape(string.punctuation)), '', regex=True)\n",
    "\n",
    "    # delete html-tags\n",
    "    data['text'] = data['text'].apply(lambda x: re.sub('<[^<]+?>', '', x))\n",
    "\n",
    "    return data['text']"
   ]
  },
  {
   "cell_type": "markdown",
   "id": "c6eace4f",
   "metadata": {},
   "source": [
    "## Data cleaning: tokenizing, stopwords, lemmatize"
   ]
  },
  {
   "cell_type": "code",
   "execution_count": 6,
   "id": "46eb183a",
   "metadata": {},
   "outputs": [],
   "source": [
    "stop_words = set(stopwords.words('english'))\n",
    "\n",
    "# Tokenise and remove stop words\n",
    "def delete_stop_words(text):\n",
    "    return [word for word in text if word.lower() not in stop_words and word not in string.punctuation]\n",
    "\n",
    "# apply Lemmatization-Funktion\n",
    "def lemmatize_text(text):\n",
    "    lemmatizer = WordNetLemmatizer()\n",
    "    # Verben lemmatisieren\n",
    "    verb_lemmatized = [lemmatizer.lemmatize(word, pos=\"v\") for word in text]\n",
    "    # Nomen lemmatisieren\n",
    "    return [lemmatizer.lemmatize(word, pos=\"n\") for word in verb_lemmatized]\n",
    "\n",
    "# NLP-Cleaningfunktion\n",
    "def nlp_cleaning(texte):\n",
    "    # Tokenisation\n",
    "    texte = texte.apply(word_tokenize)\n",
    "    # Remove stop words\n",
    "    texte = texte.apply(delete_stop_words)\n",
    "    # Lemmatisation\n",
    "    texte = texte.apply(lemmatize_text)\n",
    "    # Combine words into a string\n",
    "    return texte.apply(lambda x: ' '.join(x))"
   ]
  },
  {
   "cell_type": "markdown",
   "id": "d0dcde28-be5d-46b0-89b8-76790391d6b3",
   "metadata": {},
   "source": [
    "# RNN Model (Recurrent Neural Networks)"
   ]
  },
  {
   "cell_type": "markdown",
   "id": "da0e4625",
   "metadata": {},
   "source": [
    "### Load and Preprocess Data"
   ]
  },
  {
   "cell_type": "code",
   "execution_count": 7,
   "id": "daf291c9",
   "metadata": {},
   "outputs": [],
   "source": [
    "# Load the data\n",
    "data = pd.read_csv('../raw_data/WELFake_Dataset.csv')"
   ]
  },
  {
   "cell_type": "code",
   "execution_count": 8,
   "id": "6ffee2d4",
   "metadata": {},
   "outputs": [],
   "source": [
    "# Fill missing values with spaces\n",
    "data = data.fillna(' ')"
   ]
  },
  {
   "cell_type": "code",
   "execution_count": 9,
   "id": "bbd8328b",
   "metadata": {},
   "outputs": [],
   "source": [
    "# Combine 'title' and 'text' columns, then drop 'title' column\n",
    "data['text'] = data['title'] + ' ' + data['text']\n",
    "data.drop('title', axis=1, inplace=True)"
   ]
  },
  {
   "cell_type": "code",
   "execution_count": 10,
   "id": "0b24721b",
   "metadata": {},
   "outputs": [],
   "source": [
    "# Apply basic cleaning and NLP cleaning to the 'text' column\n",
    "data['text'] = basic_cleaning(data['text'])\n",
    "data['text'] = nlp_cleaning(data['text'])"
   ]
  },
  {
   "cell_type": "code",
   "execution_count": 11,
   "id": "ae9ff39d",
   "metadata": {},
   "outputs": [],
   "source": [
    "# Remove duplicate rows\n",
    "data.drop_duplicates(inplace=True)\n"
   ]
  },
  {
   "cell_type": "code",
   "execution_count": 12,
   "id": "17e61af1",
   "metadata": {},
   "outputs": [],
   "source": [
    "# Shuffle the dataframe to ensure randomness\n",
    "data = data.sample(frac=1, random_state=42)"
   ]
  },
  {
   "cell_type": "code",
   "execution_count": 13,
   "id": "094d244d",
   "metadata": {},
   "outputs": [],
   "source": [
    "# Separate features and labels\n",
    "X = data['text']\n",
    "y = data['label']"
   ]
  },
  {
   "cell_type": "markdown",
   "id": "fd08bee7",
   "metadata": {},
   "source": [
    "### Tokenize and Pad Sequences"
   ]
  },
  {
   "cell_type": "code",
   "execution_count": 39,
   "id": "cdd39e7b",
   "metadata": {},
   "outputs": [],
   "source": [
    "# Word count for each entry in the 'text' column\n",
    "data['word_count'] = data['text'].apply(lambda x: len(x.split()))"
   ]
  },
  {
   "cell_type": "code",
   "execution_count": 40,
   "id": "05fe66f8",
   "metadata": {},
   "outputs": [
    {
     "data": {
      "text/plain": [
       "count    72134.000000\n",
       "mean       324.460712\n",
       "std        363.685469\n",
       "min          1.000000\n",
       "25%        142.000000\n",
       "50%        240.000000\n",
       "75%        399.000000\n",
       "max      20915.000000\n",
       "Name: word_count, dtype: float64"
      ]
     },
     "execution_count": 40,
     "metadata": {},
     "output_type": "execute_result"
    }
   ],
   "source": [
    "data['word_count'].describe()"
   ]
  },
  {
   "cell_type": "code",
   "execution_count": 14,
   "id": "7c88ce77",
   "metadata": {},
   "outputs": [],
   "source": [
    "# Tokenize and pad sequences\n",
    "tokenizer = Tokenizer(num_words=5000)\n",
    "tokenizer.fit_on_texts(X)\n",
    "X_seq = tokenizer.texts_to_sequences(X)\n",
    "\n",
    "# Pad sequences to ensure uniform input length\n",
    "X_padded = pad_sequences(X_seq, maxlen=500)"
   ]
  },
  {
   "cell_type": "markdown",
   "id": "06fbbf90",
   "metadata": {},
   "source": [
    "### Train-Test Split"
   ]
  },
  {
   "cell_type": "code",
   "execution_count": 15,
   "id": "25e743fc",
   "metadata": {},
   "outputs": [],
   "source": [
    "# Split the data into training and testing sets\n",
    "X_train, X_test, y_train, y_test = train_test_split(X_padded, y, test_size=0.3, random_state=42)"
   ]
  },
  {
   "cell_type": "markdown",
   "id": "37b99cb7",
   "metadata": {},
   "source": [
    "### Simple RNN Model"
   ]
  },
  {
   "cell_type": "code",
   "execution_count": 31,
   "id": "f2446ba8",
   "metadata": {},
   "outputs": [],
   "source": [
    "# Instantiate model\n",
    "rnn_model_1 = Sequential()\n",
    "# Add an embedding layer to convert words to dense vectors\n",
    "rnn_model_1.add(Embedding(input_dim=5000, output_dim=128))\n",
    "# Add a simple RNN layer\n",
    "rnn_model_1.add(SimpleRNN(units=128, return_sequences=False))\n",
    "# Add a dropout layer to prevent overfitting\n",
    "rnn_model_1.add(Dropout(rate=0.2))\n",
    "# Add a dense output layer with sigmoid activation for binary classification\n",
    "rnn_model_1.add(Dense(units=1, activation='sigmoid'))\n",
    "\n",
    "# Compile the model with Adam optimizer and binary cross-entropy loss\n",
    "rnn_model_1.compile(optimizer=Adam(), loss='binary_crossentropy', metrics=['accuracy'])"
   ]
  },
  {
   "cell_type": "markdown",
   "id": "e20cdb46",
   "metadata": {},
   "source": [
    "### Train the Model"
   ]
  },
  {
   "cell_type": "code",
   "execution_count": 48,
   "id": "22e004de",
   "metadata": {},
   "outputs": [
    {
     "name": "stdout",
     "output_type": "stream",
     "text": [
      "Epoch 1/5\n",
      "\u001b[1m789/789\u001b[0m \u001b[32m━━━━━━━━━━━━━━━━━━━━\u001b[0m\u001b[37m\u001b[0m \u001b[1m165s\u001b[0m 209ms/step - accuracy: 0.8766 - loss: 0.2900 - val_accuracy: 0.8903 - val_loss: 0.2801\n",
      "Epoch 2/5\n",
      "\u001b[1m789/789\u001b[0m \u001b[32m━━━━━━━━━━━━━━━━━━━━\u001b[0m\u001b[37m\u001b[0m \u001b[1m149s\u001b[0m 189ms/step - accuracy: 0.8741 - loss: 0.2994 - val_accuracy: 0.8596 - val_loss: 0.3496\n",
      "Epoch 3/5\n",
      "\u001b[1m789/789\u001b[0m \u001b[32m━━━━━━━━━━━━━━━━━━━━\u001b[0m\u001b[37m\u001b[0m \u001b[1m145s\u001b[0m 184ms/step - accuracy: 0.9052 - loss: 0.2465 - val_accuracy: 0.8847 - val_loss: 0.2875\n",
      "Epoch 4/5\n",
      "\u001b[1m789/789\u001b[0m \u001b[32m━━━━━━━━━━━━━━━━━━━━\u001b[0m\u001b[37m\u001b[0m \u001b[1m141s\u001b[0m 179ms/step - accuracy: 0.9233 - loss: 0.2043 - val_accuracy: 0.8963 - val_loss: 0.2727\n",
      "Epoch 5/5\n",
      "\u001b[1m789/789\u001b[0m \u001b[32m━━━━━━━━━━━━━━━━━━━━\u001b[0m\u001b[37m\u001b[0m \u001b[1m144s\u001b[0m 182ms/step - accuracy: 0.9325 - loss: 0.1837 - val_accuracy: 0.9110 - val_loss: 0.2406\n"
     ]
    },
    {
     "data": {
      "text/plain": [
       "<keras.src.callbacks.history.History at 0x7fadaf8f67a0>"
      ]
     },
     "execution_count": 48,
     "metadata": {},
     "output_type": "execute_result"
    }
   ],
   "source": [
    "# Train the model\n",
    "rnn_model_1.fit(X_train, y_train, epochs=5, batch_size=64, validation_data=(X_test, y_test))"
   ]
  },
  {
   "cell_type": "markdown",
   "id": "6cf993ed",
   "metadata": {},
   "source": [
    "### Evaluate the Model"
   ]
  },
  {
   "cell_type": "code",
   "execution_count": 49,
   "id": "ec83a682",
   "metadata": {},
   "outputs": [
    {
     "name": "stdout",
     "output_type": "stream",
     "text": [
      "\u001b[1m677/677\u001b[0m \u001b[32m━━━━━━━━━━━━━━━━━━━━\u001b[0m\u001b[37m\u001b[0m \u001b[1m38s\u001b[0m 55ms/step - accuracy: 0.9111 - loss: 0.2385\n",
      "Test Accuracy: 0.91\n"
     ]
    }
   ],
   "source": [
    "# Evaluate the model on the test data\n",
    "loss, accuracy = rnn_model_1.evaluate(X_test, y_test)\n",
    "print(f\"Test Accuracy: {accuracy:.2f}\")"
   ]
  },
  {
   "cell_type": "markdown",
   "id": "3b2b54c1",
   "metadata": {},
   "source": [
    "### Predict"
   ]
  },
  {
   "cell_type": "code",
   "execution_count": 50,
   "id": "af8c219c",
   "metadata": {},
   "outputs": [
    {
     "name": "stdout",
     "output_type": "stream",
     "text": [
      "\u001b[1m677/677\u001b[0m \u001b[32m━━━━━━━━━━━━━━━━━━━━\u001b[0m\u001b[37m\u001b[0m \u001b[1m36s\u001b[0m 53ms/step\n"
     ]
    }
   ],
   "source": [
    "# Generate predictions\n",
    "y_pred_prob = rnn_model_1.predict(X_test)\n",
    "# Convert probabs to 0 or 1\n",
    "y_pred = (y_pred_prob > 0.5).astype(int)"
   ]
  },
  {
   "cell_type": "code",
   "execution_count": null,
   "id": "9aa3cb8f",
   "metadata": {},
   "outputs": [
    {
     "name": "stdout",
     "output_type": "stream",
     "text": [
      "Accuracy: 0.91\n",
      "Precision: 0.91\n",
      "Recall: 0.92\n",
      "F1 Score: 0.91\n",
      "Classification Report:\n",
      "               precision    recall  f1-score   support\n",
      "\n",
      "           0       0.91      0.90      0.91     10442\n",
      "           1       0.91      0.92      0.91     11199\n",
      "\n",
      "    accuracy                           0.91     21641\n",
      "   macro avg       0.91      0.91      0.91     21641\n",
      "weighted avg       0.91      0.91      0.91     21641\n",
      "\n"
     ]
    }
   ],
   "source": [
    "# Performance metrics\n",
    "accuracy = accuracy_score(y_test, y_pred)\n",
    "precision = precision_score(y_test, y_pred)\n",
    "recall = recall_score(y_test, y_pred)\n",
    "f1 = f1_score(y_test, y_pred)\n",
    "\n",
    "# Print performance metrics\n",
    "print(f\"Accuracy: {accuracy:.2f}\")\n",
    "print(f\"Precision: {precision:.2f}\")\n",
    "print(f\"Recall: {recall:.2f}\")\n",
    "print(f\"F1 Score: {f1:.2f}\")\n",
    "\n",
    "# Classification report\n",
    "print(\"Classification Report:\\n\", classification_report(y_test, y_pred))\n"
   ]
  },
  {
   "cell_type": "code",
   "execution_count": 52,
   "id": "b353d6f9",
   "metadata": {},
   "outputs": [],
   "source": [
    "# Calculate the confusion matrix\n",
    "cm = confusion_matrix(y_test, y_pred)"
   ]
  },
  {
   "cell_type": "code",
   "execution_count": 53,
   "id": "fe731fe3",
   "metadata": {},
   "outputs": [
    {
     "data": {
      "image/png": "[encoded data removed]",
      "text/plain": [
       "<Figure size 1000x700 with 2 Axes>"
      ]
     },
     "metadata": {},
     "output_type": "display_data"
    }
   ],
   "source": [
    "# Plot the confusion matrix\n",
    "plt.figure(figsize=(10, 7))\n",
    "ax = sns.heatmap(cm, annot=True, fmt=\"d\", cmap=\"coolwarm\", cbar=True)\n",
    "\n",
    "# Set axis labels and title\n",
    "ax.set_xlabel('Predicted labels')\n",
    "ax.set_ylabel('True labels')\n",
    "ax.set_title('Confusion Matrix - Simple RNN')\n",
    "\n",
    "# Set custom tick labels\n",
    "ax.xaxis.set_ticklabels(['Fake News', 'Real News'])\n",
    "ax.yaxis.set_ticklabels(['Fake News', 'Real News'])\n",
    "\n",
    "# Show the plot\n",
    "plt.show()\n"
   ]
  },
  {
   "cell_type": "markdown",
   "id": "eb9acf42-f95a-489f-a4da-2070527ff456",
   "metadata": {},
   "source": [
    "### Analysis"
   ]
  },
  {
   "cell_type": "markdown",
   "id": "bcf04d60",
   "metadata": {},
   "source": [
    "Analysis:\n",
    "\t- The model correctly recognized 9398 ‘fake news’ items and correctly classified 10318 ‘real news’ items.\n",
    "\t- However, it made 1044 errors by classifying ‘fake news’ as ‘real news’.\n",
    "\t- 881 ‘real news’ was incorrectly classified as ‘fake news’.\n",
    "\n",
    "Interpretation:\n",
    "\n",
    "The number of false positives (881) and false negatives (1044) indicates that the model has room for improvement in reliably distinguishing ‘fake news’ from ‘real news’."
   ]
  },
  {
   "cell_type": "code",
   "execution_count": null,
   "id": "6f11072f",
   "metadata": {},
   "outputs": [],
   "source": [
    "# Save the model to a file\n",
    "with open('trained_rnn_model_1.pkl', 'wb') as file:\n",
    "    pickle.dump(rnn_model_1, file)"
   ]
  },
  {
   "cell_type": "markdown",
   "id": "35e139b3-17c8-4677-96c3-17c65d98c71a",
   "metadata": {},
   "source": [
    "## LSTM (Long Short-Term Memory Networks)"
   ]
  },
  {
   "cell_type": "markdown",
   "id": "dbd7ec30",
   "metadata": {},
   "source": []
  },
  {
   "cell_type": "markdown",
   "id": "5e8ea435",
   "metadata": {},
   "source": []
  },
  {
   "cell_type": "markdown",
   "id": "e5c64106",
   "metadata": {},
   "source": []
  }
 ],
 "metadata": {
  "kernelspec": {
   "display_name": "Fake_news_detection",
   "language": "python",
   "name": "python3"
  },
  "language_info": {
   "codemirror_mode": {
    "name": "ipython",
    "version": 3
   },
   "file_extension": ".py",
   "mimetype": "text/x-python",
   "name": "python",
   "nbconvert_exporter": "python",
   "pygments_lexer": "ipython3",
   "version": "3.10.6"
  },
  "toc": {
   "base_numbering": 1,
   "nav_menu": {},
   "number_sections": true,
   "sideBar": true,
   "skip_h1_title": false,
   "title_cell": "Table of Contents",
   "title_sidebar": "Contents",
   "toc_cell": false,
   "toc_position": {},
   "toc_section_display": true,
   "toc_window_display": false
  }
 },
 "nbformat": 4,
 "nbformat_minor": 5
}
