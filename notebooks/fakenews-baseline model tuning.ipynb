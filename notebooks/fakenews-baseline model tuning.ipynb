{
 "cells": [
  {
   "cell_type": "code",
   "execution_count": 21,
   "id": "13af4e71",
   "metadata": {},
   "outputs": [],
   "source": [
    "import pandas as pd\n",
    "\n",
    "# load die CSV-Datei\n",
    "data = pd.read_csv('../data/raw_data.csv')"
   ]
  },
  {
   "cell_type": "code",
   "execution_count": 22,
   "id": "55e79d69-61ff-40da-86cf-b88e8db5b94c",
   "metadata": {},
   "outputs": [],
   "source": [
    "data['text'] = data['text'].astype('string')\n",
    "data['title'] = data['title'].astype('string')\n",
    "data['label'] = data['label'].astype('bool')"
   ]
  },
  {
   "cell_type": "markdown",
   "id": "cece3dbf-e1b0-4033-8c6f-9f6bce9c5882",
   "metadata": {},
   "source": [
    "# Check Data"
   ]
  },
  {
   "cell_type": "markdown",
   "id": "5b790788",
   "metadata": {},
   "source": [
    "## combine title and text, and delete title"
   ]
  },
  {
   "cell_type": "code",
   "execution_count": 23,
   "id": "4ed73d57-1c1f-4ae5-8788-cf8d74675239",
   "metadata": {},
   "outputs": [],
   "source": [
    "data.drop('Unnamed: 0',axis=1,inplace=True)"
   ]
  },
  {
   "cell_type": "code",
   "execution_count": 24,
   "id": "8c0c9543",
   "metadata": {},
   "outputs": [],
   "source": [
    "## Cleaning 2: combine the text and the title\n",
    "## Cleaning 1: filling the missing data with spaces\n",
    "data = data.fillna(' ') ## aplying to na via fillna\n",
    "\n",
    "## Cleaning 2: combine the text and the title\n",
    "data['text'] = data['title'] + data['text']\n",
    "\n",
    "## delete title column\n",
    "data.drop('title',axis=1,inplace=True)"
   ]
  },
  {
   "cell_type": "code",
   "execution_count": 25,
   "id": "7ddece1e",
   "metadata": {},
   "outputs": [
    {
     "name": "stdout",
     "output_type": "stream",
     "text": [
      "data.shape: (72134, 2)\n"
     ]
    }
   ],
   "source": [
    "print(f\"data.shape: {data.shape}\")"
   ]
  },
  {
   "cell_type": "code",
   "execution_count": 26,
   "id": "461193d6-71ae-4842-a1ee-816f4047389d",
   "metadata": {},
   "outputs": [
    {
     "name": "stdout",
     "output_type": "stream",
     "text": [
      "Balancing result is label 0: 51.44%, label 1: 48.56%\n"
     ]
    }
   ],
   "source": [
    "# Calculation of the distribution in per cent\n",
    "label_counts = data['label'].value_counts(normalize=True) * 100\n",
    "# Formatted output\n",
    "print(f\"Balancing result is label 0: {label_counts.get(0, 0):.2f}%, label 1: {label_counts.get(1, 0):.2f}%\")"
   ]
  },
  {
   "cell_type": "markdown",
   "id": "4b0ff656",
   "metadata": {},
   "source": [
    "## check nulls"
   ]
  },
  {
   "cell_type": "code",
   "execution_count": 27,
   "id": "dee7bd22",
   "metadata": {},
   "outputs": [
    {
     "name": "stdout",
     "output_type": "stream",
     "text": [
      "text: 0.00%\n",
      "label: 0.00%\n"
     ]
    }
   ],
   "source": [
    "# Calculate percentage of NaN values in each column\n",
    "nan_percentage = (data.isna().sum() / len(data)) * 100\n",
    "\n",
    "# Format output with percentage symbol\n",
    "formatted_nan_percentage = nan_percentage.apply(lambda x: f\"{x:.2f}%\")\n",
    "\n",
    "# Print each column's NaN percentage\n",
    "for col, percentage in formatted_nan_percentage.items():\n",
    "    print(f\"{col}: {percentage}\")"
   ]
  },
  {
   "cell_type": "code",
   "execution_count": 28,
   "id": "d42675e4-b2cc-4d7a-81d1-552ad68c998b",
   "metadata": {},
   "outputs": [
    {
     "data": {
      "text/plain": [
       "(72134, 2)"
      ]
     },
     "execution_count": 28,
     "metadata": {},
     "output_type": "execute_result"
    }
   ],
   "source": [
    "data.shape"
   ]
  },
  {
   "cell_type": "markdown",
   "id": "a748cdf9",
   "metadata": {},
   "source": [
    "## delete duplicated raws"
   ]
  },
  {
   "cell_type": "code",
   "execution_count": 29,
   "id": "463afae2",
   "metadata": {},
   "outputs": [],
   "source": [
    "data.drop_duplicates(inplace=True)"
   ]
  },
  {
   "cell_type": "markdown",
   "id": "250775fd",
   "metadata": {},
   "source": [
    "# Baseline\n"
   ]
  },
  {
   "cell_type": "markdown",
   "id": "464a25a3-3d36-4f0c-8254-a246b6738000",
   "metadata": {},
   "source": [
    "## Data cleaning: strip, lower, digit, punctuation"
   ]
  },
  {
   "cell_type": "code",
   "execution_count": 30,
   "id": "bba0420e",
   "metadata": {},
   "outputs": [],
   "source": [
    "import re\n",
    "import string\n",
    "\n",
    "def basic_cleaning(texte):\n",
    "    # stripping:\n",
    "    data['text'] = data['text'].str.strip()\n",
    "\n",
    "    # tolower:\n",
    "    data['text'] = data['text'].str.lower()\n",
    "\n",
    "    # digit: Remove digits from each row of the ‘text’ column\n",
    "    data['text'] = data['text'].apply(lambda x: ''.join(char for char in x if not char.isdigit()))\n",
    "\n",
    "    # punctuation: Remove all punctuation marks from the ‘text’ column\n",
    "    data['text'] = data['text'].str.replace(r'[{}]'.format(re.escape(string.punctuation)), '', regex=True)\n",
    "\n",
    "    # delete html-tags\n",
    "    data['text'] = data['text'].apply(lambda x: re.sub('<[^<]+?>', '', x))\n",
    "\n",
    "    return data['text']"
   ]
  },
  {
   "cell_type": "code",
   "execution_count": 31,
   "id": "68018946",
   "metadata": {},
   "outputs": [
    {
     "name": "stdout",
     "output_type": "stream",
     "text": [
      "Time to basic clean 16.63 s\n"
     ]
    }
   ],
   "source": [
    "import time\n",
    "s = time.time()\n",
    "data['text'] = basic_cleaning(data['text'])\n",
    "time_to_clean = time.time() - s\n",
    "print('Time to basic clean {:.2f} s'.format(time_to_clean))"
   ]
  },
  {
   "cell_type": "code",
   "execution_count": 32,
   "id": "670cc5c0",
   "metadata": {},
   "outputs": [
    {
     "data": {
      "text/html": [
       "<div>\n",
       "<style scoped>\n",
       "    .dataframe tbody tr th:only-of-type {\n",
       "        vertical-align: middle;\n",
       "    }\n",
       "\n",
       "    .dataframe tbody tr th {\n",
       "        vertical-align: top;\n",
       "    }\n",
       "\n",
       "    .dataframe thead th {\n",
       "        text-align: right;\n",
       "    }\n",
       "</style>\n",
       "<table border=\"1\" class=\"dataframe\">\n",
       "  <thead>\n",
       "    <tr style=\"text-align: right;\">\n",
       "      <th></th>\n",
       "      <th>text</th>\n",
       "      <th>label</th>\n",
       "    </tr>\n",
       "  </thead>\n",
       "  <tbody>\n",
       "    <tr>\n",
       "      <th>0</th>\n",
       "      <td>law enforcement on high alert following threat...</td>\n",
       "      <td>True</td>\n",
       "    </tr>\n",
       "    <tr>\n",
       "      <th>1</th>\n",
       "      <td>did they post their votes for hillary already</td>\n",
       "      <td>True</td>\n",
       "    </tr>\n",
       "    <tr>\n",
       "      <th>2</th>\n",
       "      <td>unbelievable obama’s attorney general says mos...</td>\n",
       "      <td>True</td>\n",
       "    </tr>\n",
       "    <tr>\n",
       "      <th>3</th>\n",
       "      <td>bobby jindal raised hindu uses story of christ...</td>\n",
       "      <td>False</td>\n",
       "    </tr>\n",
       "    <tr>\n",
       "      <th>4</th>\n",
       "      <td>satan  russia unvelis an image of its terrifyi...</td>\n",
       "      <td>True</td>\n",
       "    </tr>\n",
       "  </tbody>\n",
       "</table>\n",
       "</div>"
      ],
      "text/plain": [
       "                                                text  label\n",
       "0  law enforcement on high alert following threat...   True\n",
       "1      did they post their votes for hillary already   True\n",
       "2  unbelievable obama’s attorney general says mos...   True\n",
       "3  bobby jindal raised hindu uses story of christ...  False\n",
       "4  satan  russia unvelis an image of its terrifyi...   True"
      ]
     },
     "execution_count": 32,
     "metadata": {},
     "output_type": "execute_result"
    }
   ],
   "source": [
    "data.head()"
   ]
  },
  {
   "cell_type": "markdown",
   "id": "7540c3b4-b80e-412d-a436-815edee77dd1",
   "metadata": {},
   "source": [
    "##  Naive Bayes model (MultinomialNB)"
   ]
  },
  {
   "cell_type": "code",
   "execution_count": 33,
   "id": "cf644d41",
   "metadata": {},
   "outputs": [],
   "source": [
    "# Shuffle the dataframe\n",
    "data = data.sample(frac=1,random_state=42)"
   ]
  },
  {
   "cell_type": "code",
   "execution_count": 34,
   "id": "c2594e9d",
   "metadata": {},
   "outputs": [
    {
     "name": "stdout",
     "output_type": "stream",
     "text": [
      "<class 'pandas.core.series.Series'>\n",
      "Int64Index: 63678 entries, 11705 to 62874\n",
      "Series name: text\n",
      "Non-Null Count  Dtype \n",
      "--------------  ----- \n",
      "63678 non-null  object\n",
      "dtypes: object(1)\n",
      "memory usage: 995.0+ KB\n"
     ]
    }
   ],
   "source": [
    "X = data['text']\n",
    "y = data['label']\n",
    "X.info()"
   ]
  },
  {
   "cell_type": "code",
   "execution_count": 35,
   "id": "7cd10011",
   "metadata": {},
   "outputs": [],
   "source": [
    "import sklearn\n",
    "from sklearn.model_selection import train_test_split\n",
    "from sklearn.metrics import accuracy_score, f1_score\n",
    "from sklearn.metrics import classification_report,confusion_matrix\n",
    "from sklearn.feature_extraction.text import TfidfVectorizer\n",
    "from sklearn.pipeline import Pipeline\n",
    "from sklearn.naive_bayes import MultinomialNB\n",
    "\n",
    "X_train, X_test, y_train, y_test = train_test_split(X,y,test_size=0.3,random_state=42)\n",
    "\n",
    "# Create tokenization and modelling pipeline\n",
    "# MultinomialNB: Naive Bayes is a probabilistic classification model based on Bayes' theorem.\n",
    "# It is particularly effective for text classification tasks\n",
    "model_NB = Pipeline([\n",
    "                    (\"tfidf\",TfidfVectorizer()), # convert words to numbers using tfidf\n",
    "                    (\"clf\",MultinomialNB())])    # model the text\n",
    "\n",
    "# Fit the pipeline to the training data\n",
    "model_NB = model_NB.fit(X_train, y_train)"
   ]
  },
  {
   "cell_type": "code",
   "execution_count": 36,
   "id": "1f834ea5-0a54-4fae-a5cc-f7dad0b23751",
   "metadata": {},
   "outputs": [
    {
     "name": "stdout",
     "output_type": "stream",
     "text": [
      "Logarithmized class probabilities (class_log_prior_):\n",
      "[-0.60297752 -0.79226052]\n",
      "\n",
      "Logarithmized feature probabilities (feature_log_prob_):\n",
      "[[-12.66473257 -12.67030353 -13.26003166 ... -13.26003166 -13.26003166\n",
      "  -13.26003166]\n",
      " [-11.88998883 -12.6550621  -13.11073621 ... -13.0881991  -13.07707675\n",
      "  -13.11528578]]\n",
      "\n",
      "Features (words) in the vocabulary of the TfidfVectorizer:\n",
      "['aa' 'aaa' 'aaaa' ... '预防和解决冲突' '선녀' 'ｓꮭ']\n"
     ]
    }
   ],
   "source": [
    "# Access the model and the vectorizer after fitting\n",
    "# 1. Access the Naive Bayes model (MultinomialNB)\n",
    "clf = model_NB.named_steps[\"clf\"]\n",
    "print(\"Logarithmized class probabilities (class_log_prior_):\")\n",
    "print(clf.class_log_prior_)  # Shows the log-probabilities of each class\n",
    "print(\"\\nLogarithmized feature probabilities (feature_log_prob_):\")\n",
    "print(clf.feature_log_prob_)  # Shows the probabilities per feature (word)\n",
    "\n",
    "# 2. Access the TfidfVectorizer\n",
    "vectorizer = model_NB.named_steps[\"tfidf\"]\n",
    "print(\"\\nFeatures (words) in the vocabulary of the TfidfVectorizer:\")\n",
    "print(vectorizer.get_feature_names_out())  # Lists all words in the vocabulary\n"
   ]
  },
  {
   "cell_type": "code",
   "execution_count": 37,
   "id": "446fe6bd-2e57-4779-b4ba-b5ca6164fcd7",
   "metadata": {},
   "outputs": [
    {
     "data": {
      "text/plain": [
       "0.8195665829145728"
      ]
     },
     "execution_count": 37,
     "metadata": {},
     "output_type": "execute_result"
    }
   ],
   "source": [
    "test_score = model_NB.score(X_test,y_test) # calculates the accuracy of the model on the test set\n",
    "test_score"
   ]
  },
  {
   "cell_type": "code",
   "execution_count": 38,
   "id": "68faaab0-1230-447b-b9e8-c13b99aa8a0b",
   "metadata": {},
   "outputs": [],
   "source": [
    "y_pred = model_NB.predict(X_test)"
   ]
  },
  {
   "cell_type": "code",
   "execution_count": 39,
   "id": "17f3088a-2574-4259-92db-58a843a29fa1",
   "metadata": {},
   "outputs": [
    {
     "name": "stdout",
     "output_type": "stream",
     "text": [
      "\n",
      "Klassifikationsbericht auf Testdaten:\n",
      "              precision    recall  f1-score   support\n",
      "\n",
      "       False       0.76      0.97      0.85     10401\n",
      "        True       0.95      0.64      0.76      8703\n",
      "\n",
      "    accuracy                           0.82     19104\n",
      "   macro avg       0.85      0.80      0.81     19104\n",
      "weighted avg       0.85      0.82      0.81     19104\n",
      "\n"
     ]
    }
   ],
   "source": [
    "from sklearn.metrics import classification_report\n",
    "# Ausgabe der Klassifikationsmetrik\n",
    "print(\"\\nKlassifikationsbericht auf Testdaten:\")\n",
    "print(classification_report(y_test, y_pred))\n"
   ]
  },
  {
   "cell_type": "code",
   "execution_count": 40,
   "id": "506c6d84-ecfa-4cc9-904f-792e6ef9fcf5",
   "metadata": {},
   "outputs": [
    {
     "data": {
      "image/png": "[encoded data removed]",
      "text/plain": [
       "<Figure size 640x480 with 2 Axes>"
      ]
     },
     "metadata": {},
     "output_type": "display_data"
    }
   ],
   "source": [
    "import seaborn as sns\n",
    "import matplotlib.pyplot as plt\n",
    "# Generate array of values for confusion matrix\n",
    "cm = confusion_matrix(y_test,y_pred)\n",
    "\n",
    "ax = sns.heatmap(cm, annot=True, cmap=\"coolwarm\", fmt=\"d\", cbar=True)\n",
    "ax.xaxis.set_ticklabels(['fake news','real news'])\n",
    "ax.yaxis.set_ticklabels(['fake news','real news'])\n",
    "ax.set_title('Confusion Matrix - HF Transformers',fontsize=18)\n",
    "\n",
    "plt.tight_layout()"
   ]
  },
  {
   "cell_type": "code",
   "execution_count": 41,
   "id": "c338a3bd",
   "metadata": {},
   "outputs": [
    {
     "name": "stdout",
     "output_type": "stream",
     "text": [
      "Model saved successfully.\n"
     ]
    }
   ],
   "source": [
    "import pickle\n",
    "\n",
    "# Save the trained model to a file\n",
    "with open('model_NB.pkl', 'wb') as file:\n",
    "    pickle.dump(model_NB, file)\n",
    "\n",
    "print(\"Model saved successfully.\")\n"
   ]
  },
  {
   "cell_type": "code",
   "execution_count": 44,
   "id": "4087869f",
   "metadata": {},
   "outputs": [
    {
     "data": {
      "text/plain": [
       "['20241218-155952.h5']"
      ]
     },
     "execution_count": 44,
     "metadata": {},
     "output_type": "execute_result"
    }
   ],
   "source": [
    "import joblib\n",
    "import os\n",
    "\n",
    "timestamp = time.strftime(\"%Y%m%d-%H%M%S\")\n",
    "# Save model locally\n",
    "local_reg_path = os.path.join(os.getcwd(), \"local_registry\")\n",
    "model_path = os.path.join(f\"{timestamp}.h5\")\n",
    "joblib.dump(model_NB, model_path)"
   ]
  },
  {
   "cell_type": "code",
   "execution_count": null,
   "id": "607fedbc",
   "metadata": {},
   "outputs": [],
   "source": [
    "os.path.join(os.path.expanduser('~'), \"code\", \"namrata1104\", \"Fake_news_detection\", \"training_outputs\")"
   ]
  }
 ],
 "metadata": {
  "kernelspec": {
   "display_name": "Fake_news_detection",
   "language": "python",
   "name": "python3"
  },
  "language_info": {
   "codemirror_mode": {
    "name": "ipython",
    "version": 3
   },
   "file_extension": ".py",
   "mimetype": "text/x-python",
   "name": "python",
   "nbconvert_exporter": "python",
   "pygments_lexer": "ipython3",
   "version": "3.10.6"
  },
  "toc": {
   "base_numbering": 1,
   "nav_menu": {},
   "number_sections": true,
   "sideBar": true,
   "skip_h1_title": false,
   "title_cell": "Table of Contents",
   "title_sidebar": "Contents",
   "toc_cell": false,
   "toc_position": {},
   "toc_section_display": true,
   "toc_window_display": false
  }
 },
 "nbformat": 4,
 "nbformat_minor": 5
}
